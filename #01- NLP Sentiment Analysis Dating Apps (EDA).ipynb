{
 "cells": [
  {
   "cell_type": "markdown",
   "id": "a162b4dd",
   "metadata": {},
   "source": [
    "# 01-💌NLP Sentiment Analysis Dating Apps Beoordelingen | 2017-2024 💌"
   ]
  },
  {
   "cell_type": "markdown",
   "id": "c49e2fce",
   "metadata": {},
   "source": [
    "# Inleiding"
   ]
  },
  {
   "cell_type": "markdown",
   "id": "cab7620d",
   "metadata": {},
   "source": [
    "Het hoofddoel van dit project is het analyseren van beoordelingen van dating-apps uit de Google Play Store van verschillende delen van de wereld. Door deze datasets samen te voegen, zal ik een NLP-sentimentanalyse uitvoeren om de diverse gedragingen en algemene gevoelens van gebruikers op verschillende datingplatforms te onderzoeken.\n",
    "\n",
    "De analyse richt zich op het beantwoorden van deze hoofdvraag: Wat is het algemene tevredenheidspercentage van gebruikers over datingapps in het algemeen?\n",
    "\n",
    "Daarnaast zullen we drie onderzoeksvragen om de analyse completer te maken en meer inzichten uit de dataset te halen:\n",
    "\n",
    "- Zijn de beoordelingen in de loop van de tijd verslechterd of verbeterd?\n",
    "- Wat zijn de gebruikelijke gedragingen en gevoelens die mensen hebben bij het gebruik van verschillende dating-apps (zoals Tinder, Bumble en Hinge)?\n",
    "- Welke dating-app is het meest geschikt voor daten, relaties of biedt de beste functionaliteiten?\n",
    "\n",
    "\n",
    "Aan het einde van deze notebook zal een samenvatting worden gepresenteerd met de belangrijkste inzichten uit de sentimentanalyse. De verschillende datasets die ik voor deze analyse heb gebruikt, zijn:\n"
   ]
  },
  {
   "cell_type": "markdown",
   "id": "2766f31c",
   "metadata": {},
   "source": [
    "- Tinder Dating App - Google PLay Store Reviews (updated): https://www.kaggle.com/datasets/shivkumarganesh/tinder-google-play-store-review/data\n",
    "\n",
    "- Bumble Dating App - Google Play Store Reviews (updated): https://www.kaggle.com/datasets/shivkumarganesh/bumble-dating-app-google-play-store-review\n",
    "\n",
    "- Hinge Dating App - Google Play Store Reviews (updated): https://www.kaggle.com/datasets/shivkumarganesh/hinge-google-play-store-review\n",
    "\n",
    "Er zijn twee delen (notebooks) voor deze data- analyse : \n",
    "\n",
    "01- 💌 NLP Sentiment Analysis Dating Apps Beoordelingen | 2017-2023 💌: \n",
    "In deze notebook worden de volgende stappen uitgevoerd: datasets laden, Exploratory Data Analysis (EDA), data opschonen, en het samenvoegen van de drie datasets. Deze notebook richt zich voornamelijk op EDA en datavoorbereiding als voorbereiding op de volgende stap: een volledige sentimentanalyse van het definitieve dataset.\n",
    "\n",
    "02- 💌 NLP Sentiment Analysis Dating Apps Beoordelingen | 2017-2023 💌: \n",
    "Na de EDA en het samenvoegen van alle datasets zal deze notebook zich richten op de volledige sentimentanalyse van het opgeschoonde dataset, inclusief aanvullende EDA."
   ]
  },
  {
   "cell_type": "markdown",
   "id": "903c764a",
   "metadata": {},
   "source": [
    "# 📦Packages laden"
   ]
  },
  {
   "cell_type": "markdown",
   "id": "3cac7fc5",
   "metadata": {},
   "source": [
    "In dit eerste deel van de notebook laden we de benodigde libraries voor het schoonmaken van data (cleaning), het uitvoeren van data-analyse (EDA), en het combineren (mergen) van datasets. In het tweede deel zullen we dieper ingaan op data-analyse en sentimentanalyse om voorspellingen te doen. Voor dit deel gebruiken we alleen de basisbibliotheken:"
   ]
  },
  {
   "cell_type": "code",
   "execution_count": 3,
   "id": "6cd0cac5",
   "metadata": {},
   "outputs": [],
   "source": [
    "# upload libraries\n",
    "import pandas as pd\n",
    "import numpy as np\n",
    "import string\n",
    "# Om grafieken te maken\n",
    "import matplotlib.pyplot as plt\n",
    "import seaborn as sns"
   ]
  },
  {
   "cell_type": "markdown",
   "id": "1480e20f",
   "metadata": {},
   "source": [
    "# 👟Stappen voor het voorbereiden van data"
   ]
  },
  {
   "cell_type": "markdown",
   "id": "17e67ed9",
   "metadata": {},
   "source": [
    "In dit gedeelte laden we de datasets en beschrijven we de stappen die nodig zijn om tot een complete en opgeschoonde dataset te komen. Het proces verloopt als volgt:\n",
    "\n",
    "Stap 1: Datasets laden\n",
    "\n",
    "- We beginnen met het laden van de drie datasets. Deze datasets worden geanalyseerd (EDA) en opgeschoond om inzicht te krijgen in de data en eventuele problemen op te lossen. De drie datasets bevatten gebruikersbeoordelingen van verschillende dating-apps (Tinder, Bumble en Hinge) uit de periode 2017-2024, afkomstig uit verschillende delen van de wereld.\n",
    "\n",
    "Stap 2: EDA & opschoning van elke dataset\n",
    "\n",
    "- Vervolgens voeren we een EDA uit op elke dataset: Tinder Reviews, Bumble Reviews en Hinge Reviews.\n",
    "\n",
    "- Daarna worden de datasets opgeschoond door onder andere null-waarden, duplicaten en onnodige kolommen te verwijderen.\n",
    "\n",
    "Stap 3: Samenvoegen (mergen) van alle datasets\n",
    "\n",
    "- Na de voorbereiding van de drie datasets (Tinder, Bumble en Hinge) combineren we ze tot één definitieve dataset.\n",
    "\n",
    "- Tot slot wordt de gecombineerde dataset verder opgeschoond en geanalyseerd (laatste EDA), zodat deze gereed is voor verdere verwerking, zoals modellering of voorspellingen.\n",
    "\n",
    "De laatste stap in dit proces zal in de tweede notebook worden uitgevoerd."
   ]
  },
  {
   "cell_type": "markdown",
   "id": "83568c51",
   "metadata": {},
   "source": [
    "# 🪜Stap 1: Datasets laden"
   ]
  },
  {
   "cell_type": "markdown",
   "id": "d3466e24",
   "metadata": {},
   "source": [
    "We gaan de drie datasets laden en daarna beginnen we met het analyseren (EDA) en het opschonen (cleaning) om inzichten te verkrijgen uit elke dataset."
   ]
  },
  {
   "cell_type": "code",
   "execution_count": 4,
   "id": "cbf07542",
   "metadata": {
    "scrolled": true
   },
   "outputs": [
    {
     "data": {
      "text/html": [
       "<div>\n",
       "<style scoped>\n",
       "    .dataframe tbody tr th:only-of-type {\n",
       "        vertical-align: middle;\n",
       "    }\n",
       "\n",
       "    .dataframe tbody tr th {\n",
       "        vertical-align: top;\n",
       "    }\n",
       "\n",
       "    .dataframe thead th {\n",
       "        text-align: right;\n",
       "    }\n",
       "</style>\n",
       "<table border=\"1\" class=\"dataframe\">\n",
       "  <thead>\n",
       "    <tr style=\"text-align: right;\">\n",
       "      <th></th>\n",
       "      <th>reviewId</th>\n",
       "      <th>userName</th>\n",
       "      <th>userImage</th>\n",
       "      <th>content</th>\n",
       "      <th>score</th>\n",
       "      <th>thumbsUpCount</th>\n",
       "      <th>reviewCreatedVersion</th>\n",
       "      <th>at</th>\n",
       "      <th>replyContent</th>\n",
       "      <th>repliedAt</th>\n",
       "      <th>appVersion</th>\n",
       "    </tr>\n",
       "  </thead>\n",
       "  <tbody>\n",
       "    <tr>\n",
       "      <th>0</th>\n",
       "      <td>2ee284b2-8239-4434-b2e0-e3ed60a67896</td>\n",
       "      <td>A Google user</td>\n",
       "      <td>https://play-lh.googleusercontent.com/EGemoI2N...</td>\n",
       "      <td>Was banned without any reason, didn't break an...</td>\n",
       "      <td>1</td>\n",
       "      <td>0</td>\n",
       "      <td>15.21.1</td>\n",
       "      <td>2024-11-21 23:59:49</td>\n",
       "      <td>NaN</td>\n",
       "      <td>NaN</td>\n",
       "      <td>15.21.1</td>\n",
       "    </tr>\n",
       "    <tr>\n",
       "      <th>1</th>\n",
       "      <td>6682e590-eb30-4ded-84af-8f8243b56442</td>\n",
       "      <td>A Google user</td>\n",
       "      <td>https://play-lh.googleusercontent.com/EGemoI2N...</td>\n",
       "      <td>no funciona! Sencillamente no funciona</td>\n",
       "      <td>1</td>\n",
       "      <td>0</td>\n",
       "      <td>15.21.1</td>\n",
       "      <td>2024-11-21 23:59:36</td>\n",
       "      <td>NaN</td>\n",
       "      <td>NaN</td>\n",
       "      <td>15.21.1</td>\n",
       "    </tr>\n",
       "    <tr>\n",
       "      <th>2</th>\n",
       "      <td>e6f5db1f-6364-4ade-9e50-a089777af6e1</td>\n",
       "      <td>A Google user</td>\n",
       "      <td>https://play-lh.googleusercontent.com/EGemoI2N...</td>\n",
       "      <td>thank you so much</td>\n",
       "      <td>5</td>\n",
       "      <td>0</td>\n",
       "      <td>15.21.1</td>\n",
       "      <td>2024-11-21 23:44:24</td>\n",
       "      <td>NaN</td>\n",
       "      <td>NaN</td>\n",
       "      <td>15.21.1</td>\n",
       "    </tr>\n",
       "    <tr>\n",
       "      <th>3</th>\n",
       "      <td>2cd17dae-6488-4bbe-86db-a2e6e19da3af</td>\n",
       "      <td>A Google user</td>\n",
       "      <td>https://play-lh.googleusercontent.com/EGemoI2N...</td>\n",
       "      <td>All fake profiles, mostly people, try to scam ...</td>\n",
       "      <td>5</td>\n",
       "      <td>0</td>\n",
       "      <td>15.21.1</td>\n",
       "      <td>2024-11-21 23:28:06</td>\n",
       "      <td>NaN</td>\n",
       "      <td>NaN</td>\n",
       "      <td>15.21.1</td>\n",
       "    </tr>\n",
       "    <tr>\n",
       "      <th>4</th>\n",
       "      <td>9925c76e-0722-4890-8fa6-d62557fc4cfe</td>\n",
       "      <td>A Google user</td>\n",
       "      <td>https://play-lh.googleusercontent.com/EGemoI2N...</td>\n",
       "      <td>Can't do anything before there is a match. Dis...</td>\n",
       "      <td>1</td>\n",
       "      <td>0</td>\n",
       "      <td>15.21.1</td>\n",
       "      <td>2024-11-21 23:12:56</td>\n",
       "      <td>NaN</td>\n",
       "      <td>NaN</td>\n",
       "      <td>15.21.1</td>\n",
       "    </tr>\n",
       "    <tr>\n",
       "      <th>...</th>\n",
       "      <td>...</td>\n",
       "      <td>...</td>\n",
       "      <td>...</td>\n",
       "      <td>...</td>\n",
       "      <td>...</td>\n",
       "      <td>...</td>\n",
       "      <td>...</td>\n",
       "      <td>...</td>\n",
       "      <td>...</td>\n",
       "      <td>...</td>\n",
       "      <td>...</td>\n",
       "    </tr>\n",
       "    <tr>\n",
       "      <th>637211</th>\n",
       "      <td>c9c6a2e3-4d65-4d3c-b434-d027dd7d81a9</td>\n",
       "      <td>A Google user</td>\n",
       "      <td>https://play-lh.googleusercontent.com/EGemoI2N...</td>\n",
       "      <td>Best app ever finally on android</td>\n",
       "      <td>5</td>\n",
       "      <td>2</td>\n",
       "      <td>1.0</td>\n",
       "      <td>2013-07-15 23:02:49</td>\n",
       "      <td>NaN</td>\n",
       "      <td>NaN</td>\n",
       "      <td>1.0</td>\n",
       "    </tr>\n",
       "    <tr>\n",
       "      <th>637212</th>\n",
       "      <td>e418f4c2-78ca-4e93-93fa-d522d2ef2cb2</td>\n",
       "      <td>A Google user</td>\n",
       "      <td>https://play-lh.googleusercontent.com/EGemoI2N...</td>\n",
       "      <td>Tinder is extremely buggy on the galaxy S4 act...</td>\n",
       "      <td>1</td>\n",
       "      <td>0</td>\n",
       "      <td>1.0</td>\n",
       "      <td>2013-07-15 22:43:41</td>\n",
       "      <td>Hi Steven, thanks for trying out Tinder! Pleas...</td>\n",
       "      <td>2013-07-30 16:07:32</td>\n",
       "      <td>1.0</td>\n",
       "    </tr>\n",
       "    <tr>\n",
       "      <th>637213</th>\n",
       "      <td>cfd8526b-e84b-4d4d-9989-3a5dc0a89b1a</td>\n",
       "      <td>A Google user</td>\n",
       "      <td>https://play-lh.googleusercontent.com/EGemoI2N...</td>\n",
       "      <td>Keeps crashing.</td>\n",
       "      <td>1</td>\n",
       "      <td>0</td>\n",
       "      <td>1.0</td>\n",
       "      <td>2013-07-15 22:27:15</td>\n",
       "      <td>Hi, thanks for trying out Tinder! Please updat...</td>\n",
       "      <td>2013-07-30 16:07:41</td>\n",
       "      <td>1.0</td>\n",
       "    </tr>\n",
       "    <tr>\n",
       "      <th>637214</th>\n",
       "      <td>91829d43-289a-42af-b5ab-8f548339dd76</td>\n",
       "      <td>A Google user</td>\n",
       "      <td>https://play-lh.googleusercontent.com/EGemoI2N...</td>\n",
       "      <td>Crashes. Doesn't load. Total failure. Take it ...</td>\n",
       "      <td>1</td>\n",
       "      <td>0</td>\n",
       "      <td>1.0</td>\n",
       "      <td>2013-07-15 22:20:31</td>\n",
       "      <td>Hi Wesley, thanks for trying out Tinder! Pleas...</td>\n",
       "      <td>2013-07-30 16:07:52</td>\n",
       "      <td>1.0</td>\n",
       "    </tr>\n",
       "    <tr>\n",
       "      <th>637215</th>\n",
       "      <td>f463cdfc-bd0a-42e0-a951-7de849cd95fd</td>\n",
       "      <td>A Google user</td>\n",
       "      <td>https://play-lh.googleusercontent.com/EGemoI2N...</td>\n",
       "      <td>Finally the real Tinder is on Android</td>\n",
       "      <td>5</td>\n",
       "      <td>4</td>\n",
       "      <td>1.0</td>\n",
       "      <td>2013-07-15 21:07:56</td>\n",
       "      <td>NaN</td>\n",
       "      <td>NaN</td>\n",
       "      <td>1.0</td>\n",
       "    </tr>\n",
       "  </tbody>\n",
       "</table>\n",
       "<p>637216 rows × 11 columns</p>\n",
       "</div>"
      ],
      "text/plain": [
       "                                    reviewId       userName  \\\n",
       "0       2ee284b2-8239-4434-b2e0-e3ed60a67896  A Google user   \n",
       "1       6682e590-eb30-4ded-84af-8f8243b56442  A Google user   \n",
       "2       e6f5db1f-6364-4ade-9e50-a089777af6e1  A Google user   \n",
       "3       2cd17dae-6488-4bbe-86db-a2e6e19da3af  A Google user   \n",
       "4       9925c76e-0722-4890-8fa6-d62557fc4cfe  A Google user   \n",
       "...                                      ...            ...   \n",
       "637211  c9c6a2e3-4d65-4d3c-b434-d027dd7d81a9  A Google user   \n",
       "637212  e418f4c2-78ca-4e93-93fa-d522d2ef2cb2  A Google user   \n",
       "637213  cfd8526b-e84b-4d4d-9989-3a5dc0a89b1a  A Google user   \n",
       "637214  91829d43-289a-42af-b5ab-8f548339dd76  A Google user   \n",
       "637215  f463cdfc-bd0a-42e0-a951-7de849cd95fd  A Google user   \n",
       "\n",
       "                                                userImage  \\\n",
       "0       https://play-lh.googleusercontent.com/EGemoI2N...   \n",
       "1       https://play-lh.googleusercontent.com/EGemoI2N...   \n",
       "2       https://play-lh.googleusercontent.com/EGemoI2N...   \n",
       "3       https://play-lh.googleusercontent.com/EGemoI2N...   \n",
       "4       https://play-lh.googleusercontent.com/EGemoI2N...   \n",
       "...                                                   ...   \n",
       "637211  https://play-lh.googleusercontent.com/EGemoI2N...   \n",
       "637212  https://play-lh.googleusercontent.com/EGemoI2N...   \n",
       "637213  https://play-lh.googleusercontent.com/EGemoI2N...   \n",
       "637214  https://play-lh.googleusercontent.com/EGemoI2N...   \n",
       "637215  https://play-lh.googleusercontent.com/EGemoI2N...   \n",
       "\n",
       "                                                  content  score  \\\n",
       "0       Was banned without any reason, didn't break an...      1   \n",
       "1                  no funciona! Sencillamente no funciona      1   \n",
       "2                                       thank you so much      5   \n",
       "3       All fake profiles, mostly people, try to scam ...      5   \n",
       "4       Can't do anything before there is a match. Dis...      1   \n",
       "...                                                   ...    ...   \n",
       "637211                   Best app ever finally on android      5   \n",
       "637212  Tinder is extremely buggy on the galaxy S4 act...      1   \n",
       "637213                                    Keeps crashing.      1   \n",
       "637214  Crashes. Doesn't load. Total failure. Take it ...      1   \n",
       "637215              Finally the real Tinder is on Android      5   \n",
       "\n",
       "        thumbsUpCount reviewCreatedVersion                   at  \\\n",
       "0                   0              15.21.1  2024-11-21 23:59:49   \n",
       "1                   0              15.21.1  2024-11-21 23:59:36   \n",
       "2                   0              15.21.1  2024-11-21 23:44:24   \n",
       "3                   0              15.21.1  2024-11-21 23:28:06   \n",
       "4                   0              15.21.1  2024-11-21 23:12:56   \n",
       "...               ...                  ...                  ...   \n",
       "637211              2                  1.0  2013-07-15 23:02:49   \n",
       "637212              0                  1.0  2013-07-15 22:43:41   \n",
       "637213              0                  1.0  2013-07-15 22:27:15   \n",
       "637214              0                  1.0  2013-07-15 22:20:31   \n",
       "637215              4                  1.0  2013-07-15 21:07:56   \n",
       "\n",
       "                                             replyContent  \\\n",
       "0                                                     NaN   \n",
       "1                                                     NaN   \n",
       "2                                                     NaN   \n",
       "3                                                     NaN   \n",
       "4                                                     NaN   \n",
       "...                                                   ...   \n",
       "637211                                                NaN   \n",
       "637212  Hi Steven, thanks for trying out Tinder! Pleas...   \n",
       "637213  Hi, thanks for trying out Tinder! Please updat...   \n",
       "637214  Hi Wesley, thanks for trying out Tinder! Pleas...   \n",
       "637215                                                NaN   \n",
       "\n",
       "                  repliedAt appVersion  \n",
       "0                       NaN    15.21.1  \n",
       "1                       NaN    15.21.1  \n",
       "2                       NaN    15.21.1  \n",
       "3                       NaN    15.21.1  \n",
       "4                       NaN    15.21.1  \n",
       "...                     ...        ...  \n",
       "637211                  NaN        1.0  \n",
       "637212  2013-07-30 16:07:32        1.0  \n",
       "637213  2013-07-30 16:07:41        1.0  \n",
       "637214  2013-07-30 16:07:52        1.0  \n",
       "637215                  NaN        1.0  \n",
       "\n",
       "[637216 rows x 11 columns]"
      ]
     },
     "execution_count": 4,
     "metadata": {},
     "output_type": "execute_result"
    }
   ],
   "source": [
    "# Dataset laden van 'tinder_reviews'\n",
    "tinder_reviews= pd.read_csv(\"C:\\\\Users\\\\kaile\\\\OneDrive\\\\Documents\\\\S4\\\\notebooks\\\\tinder app google play store\\\\tinder_google_play_reviews.csv\")\n",
    "tinder_reviews"
   ]
  },
  {
   "cell_type": "code",
   "execution_count": 5,
   "id": "ce2c89fe",
   "metadata": {
    "scrolled": true
   },
   "outputs": [
    {
     "data": {
      "text/html": [
       "<div>\n",
       "<style scoped>\n",
       "    .dataframe tbody tr th:only-of-type {\n",
       "        vertical-align: middle;\n",
       "    }\n",
       "\n",
       "    .dataframe tbody tr th {\n",
       "        vertical-align: top;\n",
       "    }\n",
       "\n",
       "    .dataframe thead th {\n",
       "        text-align: right;\n",
       "    }\n",
       "</style>\n",
       "<table border=\"1\" class=\"dataframe\">\n",
       "  <thead>\n",
       "    <tr style=\"text-align: right;\">\n",
       "      <th></th>\n",
       "      <th>reviewId</th>\n",
       "      <th>userName</th>\n",
       "      <th>userImage</th>\n",
       "      <th>content</th>\n",
       "      <th>score</th>\n",
       "      <th>thumbsUpCount</th>\n",
       "      <th>reviewCreatedVersion</th>\n",
       "      <th>at</th>\n",
       "      <th>replyContent</th>\n",
       "      <th>repliedAt</th>\n",
       "      <th>appVersion</th>\n",
       "    </tr>\n",
       "  </thead>\n",
       "  <tbody>\n",
       "    <tr>\n",
       "      <th>0</th>\n",
       "      <td>395888dc-c8b0-457d-a91e-8a90caf2f2d3</td>\n",
       "      <td>A Google user</td>\n",
       "      <td>https://play-lh.googleusercontent.com/EGemoI2N...</td>\n",
       "      <td>Fake</td>\n",
       "      <td>1</td>\n",
       "      <td>1</td>\n",
       "      <td>5.395.0</td>\n",
       "      <td>2024-11-23 23:41:33</td>\n",
       "      <td>NaN</td>\n",
       "      <td>NaN</td>\n",
       "      <td>5.395.0</td>\n",
       "    </tr>\n",
       "    <tr>\n",
       "      <th>1</th>\n",
       "      <td>ed4fcee5-8614-4d1a-98bf-ff22f7b3261a</td>\n",
       "      <td>A Google user</td>\n",
       "      <td>https://play-lh.googleusercontent.com/EGemoI2N...</td>\n",
       "      <td>I h haven't received any responses yet I'm hav...</td>\n",
       "      <td>3</td>\n",
       "      <td>0</td>\n",
       "      <td>5.395.0</td>\n",
       "      <td>2024-11-23 23:16:54</td>\n",
       "      <td>We're sorry to hear about your negative experi...</td>\n",
       "      <td>2024-11-24 08:45:30</td>\n",
       "      <td>5.395.0</td>\n",
       "    </tr>\n",
       "    <tr>\n",
       "      <th>2</th>\n",
       "      <td>4afcabd0-103d-47b9-a39a-b81554f556d2</td>\n",
       "      <td>A Google user</td>\n",
       "      <td>https://play-lh.googleusercontent.com/EGemoI2N...</td>\n",
       "      <td>Scam. By the time you're (not) explaining how ...</td>\n",
       "      <td>1</td>\n",
       "      <td>0</td>\n",
       "      <td>5.395.0</td>\n",
       "      <td>2024-11-23 23:01:39</td>\n",
       "      <td>We’re sorry your experience wasn’t positive, D...</td>\n",
       "      <td>2024-11-23 22:56:00</td>\n",
       "      <td>5.395.0</td>\n",
       "    </tr>\n",
       "    <tr>\n",
       "      <th>3</th>\n",
       "      <td>541fde8b-8a55-46a9-b2b3-2445f06d3ba1</td>\n",
       "      <td>A Google user</td>\n",
       "      <td>https://play-lh.googleusercontent.com/EGemoI2N...</td>\n",
       "      <td>On registration when I reach at stage of A qui...</td>\n",
       "      <td>3</td>\n",
       "      <td>0</td>\n",
       "      <td>5.395.0</td>\n",
       "      <td>2024-11-23 22:09:04</td>\n",
       "      <td>This shouldn't be happening and sounds like so...</td>\n",
       "      <td>2024-11-24 08:45:00</td>\n",
       "      <td>5.395.0</td>\n",
       "    </tr>\n",
       "    <tr>\n",
       "      <th>4</th>\n",
       "      <td>fddb7ba9-54ca-410b-9707-247347d9ff98</td>\n",
       "      <td>A Google user</td>\n",
       "      <td>https://play-lh.googleusercontent.com/EGemoI2N...</td>\n",
       "      <td>Pay money to find out who likes you.frig off t...</td>\n",
       "      <td>1</td>\n",
       "      <td>2</td>\n",
       "      <td>5.395.0</td>\n",
       "      <td>2024-11-23 21:47:56</td>\n",
       "      <td>You don't need to spend any money to match wit...</td>\n",
       "      <td>2024-11-24 08:44:29</td>\n",
       "      <td>5.395.0</td>\n",
       "    </tr>\n",
       "    <tr>\n",
       "      <th>...</th>\n",
       "      <td>...</td>\n",
       "      <td>...</td>\n",
       "      <td>...</td>\n",
       "      <td>...</td>\n",
       "      <td>...</td>\n",
       "      <td>...</td>\n",
       "      <td>...</td>\n",
       "      <td>...</td>\n",
       "      <td>...</td>\n",
       "      <td>...</td>\n",
       "      <td>...</td>\n",
       "    </tr>\n",
       "    <tr>\n",
       "      <th>160107</th>\n",
       "      <td>61bc7cdc-3085-4631-ac95-d8e42e2e0742</td>\n",
       "      <td>A Google user</td>\n",
       "      <td>https://play-lh.googleusercontent.com/EGemoI2N...</td>\n",
       "      <td>Finally here!</td>\n",
       "      <td>5</td>\n",
       "      <td>54</td>\n",
       "      <td>1.0.1</td>\n",
       "      <td>2015-12-01 02:17:24</td>\n",
       "      <td>NaN</td>\n",
       "      <td>NaN</td>\n",
       "      <td>1.0.1</td>\n",
       "    </tr>\n",
       "    <tr>\n",
       "      <th>160108</th>\n",
       "      <td>24d07489-88ad-496a-80ce-8f137c130323</td>\n",
       "      <td>A Google user</td>\n",
       "      <td>https://play-lh.googleusercontent.com/EGemoI2N...</td>\n",
       "      <td>Finally!</td>\n",
       "      <td>5</td>\n",
       "      <td>75</td>\n",
       "      <td>1.0.1</td>\n",
       "      <td>2015-12-01 02:09:05</td>\n",
       "      <td>NaN</td>\n",
       "      <td>NaN</td>\n",
       "      <td>1.0.1</td>\n",
       "    </tr>\n",
       "    <tr>\n",
       "      <th>160109</th>\n",
       "      <td>22a42d0d-7a12-400d-a2af-826f35d21581</td>\n",
       "      <td>A Google user</td>\n",
       "      <td>https://play-lh.googleusercontent.com/EGemoI2N...</td>\n",
       "      <td>Finally, an app where women have to start the ...</td>\n",
       "      <td>4</td>\n",
       "      <td>2</td>\n",
       "      <td>1.0.1</td>\n",
       "      <td>2015-12-01 00:18:53</td>\n",
       "      <td>NaN</td>\n",
       "      <td>NaN</td>\n",
       "      <td>1.0.1</td>\n",
       "    </tr>\n",
       "    <tr>\n",
       "      <th>160110</th>\n",
       "      <td>2480a41f-8863-4948-9f83-7d856bd9dc78</td>\n",
       "      <td>A Google user</td>\n",
       "      <td>https://play-lh.googleusercontent.com/EGemoI2N...</td>\n",
       "      <td>At last we have Android version!</td>\n",
       "      <td>5</td>\n",
       "      <td>60</td>\n",
       "      <td>1.0.0</td>\n",
       "      <td>2015-11-30 21:27:51</td>\n",
       "      <td>NaN</td>\n",
       "      <td>NaN</td>\n",
       "      <td>1.0.0</td>\n",
       "    </tr>\n",
       "    <tr>\n",
       "      <th>160111</th>\n",
       "      <td>6ebb270a-3b4b-4ff5-b98c-8899dcfd40ee</td>\n",
       "      <td>A Google user</td>\n",
       "      <td>https://play-lh.googleusercontent.com/EGemoI2N...</td>\n",
       "      <td>Nice and smooth.</td>\n",
       "      <td>5</td>\n",
       "      <td>52</td>\n",
       "      <td>NaN</td>\n",
       "      <td>2015-11-29 23:15:25</td>\n",
       "      <td>NaN</td>\n",
       "      <td>NaN</td>\n",
       "      <td>NaN</td>\n",
       "    </tr>\n",
       "  </tbody>\n",
       "</table>\n",
       "<p>160112 rows × 11 columns</p>\n",
       "</div>"
      ],
      "text/plain": [
       "                                    reviewId       userName  \\\n",
       "0       395888dc-c8b0-457d-a91e-8a90caf2f2d3  A Google user   \n",
       "1       ed4fcee5-8614-4d1a-98bf-ff22f7b3261a  A Google user   \n",
       "2       4afcabd0-103d-47b9-a39a-b81554f556d2  A Google user   \n",
       "3       541fde8b-8a55-46a9-b2b3-2445f06d3ba1  A Google user   \n",
       "4       fddb7ba9-54ca-410b-9707-247347d9ff98  A Google user   \n",
       "...                                      ...            ...   \n",
       "160107  61bc7cdc-3085-4631-ac95-d8e42e2e0742  A Google user   \n",
       "160108  24d07489-88ad-496a-80ce-8f137c130323  A Google user   \n",
       "160109  22a42d0d-7a12-400d-a2af-826f35d21581  A Google user   \n",
       "160110  2480a41f-8863-4948-9f83-7d856bd9dc78  A Google user   \n",
       "160111  6ebb270a-3b4b-4ff5-b98c-8899dcfd40ee  A Google user   \n",
       "\n",
       "                                                userImage  \\\n",
       "0       https://play-lh.googleusercontent.com/EGemoI2N...   \n",
       "1       https://play-lh.googleusercontent.com/EGemoI2N...   \n",
       "2       https://play-lh.googleusercontent.com/EGemoI2N...   \n",
       "3       https://play-lh.googleusercontent.com/EGemoI2N...   \n",
       "4       https://play-lh.googleusercontent.com/EGemoI2N...   \n",
       "...                                                   ...   \n",
       "160107  https://play-lh.googleusercontent.com/EGemoI2N...   \n",
       "160108  https://play-lh.googleusercontent.com/EGemoI2N...   \n",
       "160109  https://play-lh.googleusercontent.com/EGemoI2N...   \n",
       "160110  https://play-lh.googleusercontent.com/EGemoI2N...   \n",
       "160111  https://play-lh.googleusercontent.com/EGemoI2N...   \n",
       "\n",
       "                                                  content  score  \\\n",
       "0                                                    Fake      1   \n",
       "1       I h haven't received any responses yet I'm hav...      3   \n",
       "2       Scam. By the time you're (not) explaining how ...      1   \n",
       "3       On registration when I reach at stage of A qui...      3   \n",
       "4       Pay money to find out who likes you.frig off t...      1   \n",
       "...                                                   ...    ...   \n",
       "160107                                      Finally here!      5   \n",
       "160108                                           Finally!      5   \n",
       "160109  Finally, an app where women have to start the ...      4   \n",
       "160110                   At last we have Android version!      5   \n",
       "160111                                   Nice and smooth.      5   \n",
       "\n",
       "        thumbsUpCount reviewCreatedVersion                   at  \\\n",
       "0                   1              5.395.0  2024-11-23 23:41:33   \n",
       "1                   0              5.395.0  2024-11-23 23:16:54   \n",
       "2                   0              5.395.0  2024-11-23 23:01:39   \n",
       "3                   0              5.395.0  2024-11-23 22:09:04   \n",
       "4                   2              5.395.0  2024-11-23 21:47:56   \n",
       "...               ...                  ...                  ...   \n",
       "160107             54                1.0.1  2015-12-01 02:17:24   \n",
       "160108             75                1.0.1  2015-12-01 02:09:05   \n",
       "160109              2                1.0.1  2015-12-01 00:18:53   \n",
       "160110             60                1.0.0  2015-11-30 21:27:51   \n",
       "160111             52                  NaN  2015-11-29 23:15:25   \n",
       "\n",
       "                                             replyContent  \\\n",
       "0                                                     NaN   \n",
       "1       We're sorry to hear about your negative experi...   \n",
       "2       We’re sorry your experience wasn’t positive, D...   \n",
       "3       This shouldn't be happening and sounds like so...   \n",
       "4       You don't need to spend any money to match wit...   \n",
       "...                                                   ...   \n",
       "160107                                                NaN   \n",
       "160108                                                NaN   \n",
       "160109                                                NaN   \n",
       "160110                                                NaN   \n",
       "160111                                                NaN   \n",
       "\n",
       "                  repliedAt appVersion  \n",
       "0                       NaN    5.395.0  \n",
       "1       2024-11-24 08:45:30    5.395.0  \n",
       "2       2024-11-23 22:56:00    5.395.0  \n",
       "3       2024-11-24 08:45:00    5.395.0  \n",
       "4       2024-11-24 08:44:29    5.395.0  \n",
       "...                     ...        ...  \n",
       "160107                  NaN      1.0.1  \n",
       "160108                  NaN      1.0.1  \n",
       "160109                  NaN      1.0.1  \n",
       "160110                  NaN      1.0.0  \n",
       "160111                  NaN        NaN  \n",
       "\n",
       "[160112 rows x 11 columns]"
      ]
     },
     "execution_count": 5,
     "metadata": {},
     "output_type": "execute_result"
    }
   ],
   "source": [
    "# Dataset laden van 'bumble_reviews'\n",
    "bumble_reviews= pd.read_csv(\"C:\\\\Users\\\\kaile\\\\OneDrive\\\\Documents\\\\S4\\\\notebooks\\\\bumble app dating\\\\bumble_google_play_reviews.csv\")\n",
    "bumble_reviews"
   ]
  },
  {
   "cell_type": "code",
   "execution_count": 6,
   "id": "6859fda9",
   "metadata": {
    "scrolled": false
   },
   "outputs": [
    {
     "data": {
      "text/html": [
       "<div>\n",
       "<style scoped>\n",
       "    .dataframe tbody tr th:only-of-type {\n",
       "        vertical-align: middle;\n",
       "    }\n",
       "\n",
       "    .dataframe tbody tr th {\n",
       "        vertical-align: top;\n",
       "    }\n",
       "\n",
       "    .dataframe thead th {\n",
       "        text-align: right;\n",
       "    }\n",
       "</style>\n",
       "<table border=\"1\" class=\"dataframe\">\n",
       "  <thead>\n",
       "    <tr style=\"text-align: right;\">\n",
       "      <th></th>\n",
       "      <th>reviewId</th>\n",
       "      <th>userName</th>\n",
       "      <th>userImage</th>\n",
       "      <th>content</th>\n",
       "      <th>score</th>\n",
       "      <th>thumbsUpCount</th>\n",
       "      <th>reviewCreatedVersion</th>\n",
       "      <th>at</th>\n",
       "      <th>replyContent</th>\n",
       "      <th>repliedAt</th>\n",
       "      <th>appVersion</th>\n",
       "    </tr>\n",
       "  </thead>\n",
       "  <tbody>\n",
       "    <tr>\n",
       "      <th>0</th>\n",
       "      <td>5cd19a5f-b6b8-4298-87ea-d97116d7499c</td>\n",
       "      <td>A Google user</td>\n",
       "      <td>https://play-lh.googleusercontent.com/EGemoI2N...</td>\n",
       "      <td>biased app</td>\n",
       "      <td>1</td>\n",
       "      <td>4</td>\n",
       "      <td>9.62.0</td>\n",
       "      <td>2024-11-23 23:59:27</td>\n",
       "      <td>NaN</td>\n",
       "      <td>NaN</td>\n",
       "      <td>9.62.0</td>\n",
       "    </tr>\n",
       "    <tr>\n",
       "      <th>1</th>\n",
       "      <td>5579b219-854f-4b41-a360-16f7e7c48005</td>\n",
       "      <td>A Google user</td>\n",
       "      <td>https://play-lh.googleusercontent.com/EGemoI2N...</td>\n",
       "      <td>Women be trippin 🤷</td>\n",
       "      <td>1</td>\n",
       "      <td>0</td>\n",
       "      <td>9.62.0</td>\n",
       "      <td>2024-11-23 23:36:35</td>\n",
       "      <td>NaN</td>\n",
       "      <td>NaN</td>\n",
       "      <td>9.62.0</td>\n",
       "    </tr>\n",
       "    <tr>\n",
       "      <th>2</th>\n",
       "      <td>391d871a-d162-421b-8188-65ba1dc3e16f</td>\n",
       "      <td>A Google user</td>\n",
       "      <td>https://play-lh.googleusercontent.com/EGemoI2N...</td>\n",
       "      <td>\"the app designed to be deleted\" because it's ...</td>\n",
       "      <td>1</td>\n",
       "      <td>1</td>\n",
       "      <td>9.62.0</td>\n",
       "      <td>2024-11-23 22:41:52</td>\n",
       "      <td>NaN</td>\n",
       "      <td>NaN</td>\n",
       "      <td>9.62.0</td>\n",
       "    </tr>\n",
       "    <tr>\n",
       "      <th>3</th>\n",
       "      <td>789decfb-37ec-4f4b-bf93-ae372256568c</td>\n",
       "      <td>A Google user</td>\n",
       "      <td>https://play-lh.googleusercontent.com/EGemoI2N...</td>\n",
       "      <td>Happy to take your money and no matter how you...</td>\n",
       "      <td>1</td>\n",
       "      <td>0</td>\n",
       "      <td>9.62.0</td>\n",
       "      <td>2024-11-23 22:21:52</td>\n",
       "      <td>NaN</td>\n",
       "      <td>NaN</td>\n",
       "      <td>9.62.0</td>\n",
       "    </tr>\n",
       "    <tr>\n",
       "      <th>4</th>\n",
       "      <td>bf0bd8ce-a5b6-419a-b452-ea0bc71e7bc2</td>\n",
       "      <td>A Google user</td>\n",
       "      <td>https://play-lh.googleusercontent.com/EGemoI2N...</td>\n",
       "      <td>Dumpster fire. basically useless without paying</td>\n",
       "      <td>1</td>\n",
       "      <td>0</td>\n",
       "      <td>9.62.0</td>\n",
       "      <td>2024-11-23 22:05:57</td>\n",
       "      <td>NaN</td>\n",
       "      <td>NaN</td>\n",
       "      <td>9.62.0</td>\n",
       "    </tr>\n",
       "    <tr>\n",
       "      <th>...</th>\n",
       "      <td>...</td>\n",
       "      <td>...</td>\n",
       "      <td>...</td>\n",
       "      <td>...</td>\n",
       "      <td>...</td>\n",
       "      <td>...</td>\n",
       "      <td>...</td>\n",
       "      <td>...</td>\n",
       "      <td>...</td>\n",
       "      <td>...</td>\n",
       "      <td>...</td>\n",
       "    </tr>\n",
       "    <tr>\n",
       "      <th>73413</th>\n",
       "      <td>ef1a89dd-cad6-4c85-9af0-333eb500702f</td>\n",
       "      <td>A Google user</td>\n",
       "      <td>https://play-lh.googleusercontent.com/EGemoI2N...</td>\n",
       "      <td>Useless - I'm in the UK and it tells me i'm ov...</td>\n",
       "      <td>2</td>\n",
       "      <td>5</td>\n",
       "      <td>5.2.0</td>\n",
       "      <td>2017-07-11 20:14:10</td>\n",
       "      <td>Sorry for the error there. The sudden heavy in...</td>\n",
       "      <td>2017-07-11 21:31:17</td>\n",
       "      <td>5.2.0</td>\n",
       "    </tr>\n",
       "    <tr>\n",
       "      <th>73414</th>\n",
       "      <td>edb91049-807f-41b3-a2f8-2b4e952089bd</td>\n",
       "      <td>A Google user</td>\n",
       "      <td>https://play-lh.googleusercontent.com/EGemoI2N...</td>\n",
       "      <td>I can't get past the initial set up.  It won't...</td>\n",
       "      <td>1</td>\n",
       "      <td>11</td>\n",
       "      <td>5.2.0</td>\n",
       "      <td>2017-07-11 20:06:57</td>\n",
       "      <td>Sorry for the error there. The sudden heavy in...</td>\n",
       "      <td>2017-07-11 21:31:11</td>\n",
       "      <td>5.2.0</td>\n",
       "    </tr>\n",
       "    <tr>\n",
       "      <th>73415</th>\n",
       "      <td>98fdcb74-6fc9-4602-97b4-2a581972c850</td>\n",
       "      <td>A Google user</td>\n",
       "      <td>https://play-lh.googleusercontent.com/EGemoI2N...</td>\n",
       "      <td>This is incredible! A quality dating app for A...</td>\n",
       "      <td>5</td>\n",
       "      <td>1</td>\n",
       "      <td>5.2.0</td>\n",
       "      <td>2017-07-11 20:02:32</td>\n",
       "      <td>Right?? We've already seen a lot of new relati...</td>\n",
       "      <td>2017-07-11 21:39:24</td>\n",
       "      <td>5.2.0</td>\n",
       "    </tr>\n",
       "    <tr>\n",
       "      <th>73416</th>\n",
       "      <td>05c33419-30bd-49a3-937a-3ad3bdbdf6fe</td>\n",
       "      <td>A Google user</td>\n",
       "      <td>https://play-lh.googleusercontent.com/EGemoI2N...</td>\n",
       "      <td>\"Over Water\" ... Can't choose location.</td>\n",
       "      <td>2</td>\n",
       "      <td>8</td>\n",
       "      <td>5.2.0</td>\n",
       "      <td>2017-07-11 19:58:27</td>\n",
       "      <td>Sorry for the error there. The sudden heavy in...</td>\n",
       "      <td>2017-07-11 21:30:50</td>\n",
       "      <td>5.2.0</td>\n",
       "    </tr>\n",
       "    <tr>\n",
       "      <th>73417</th>\n",
       "      <td>de67b68f-25db-4bb2-846a-bda37db1355d</td>\n",
       "      <td>A Google user</td>\n",
       "      <td>https://play-lh.googleusercontent.com/EGemoI2N...</td>\n",
       "      <td>My entire town counts as \"over water\" and I ca...</td>\n",
       "      <td>2</td>\n",
       "      <td>15</td>\n",
       "      <td>5.2.0</td>\n",
       "      <td>2017-07-11 19:54:31</td>\n",
       "      <td>Sorry for the error there. The sudden heavy in...</td>\n",
       "      <td>2017-07-11 21:30:46</td>\n",
       "      <td>5.2.0</td>\n",
       "    </tr>\n",
       "  </tbody>\n",
       "</table>\n",
       "<p>73418 rows × 11 columns</p>\n",
       "</div>"
      ],
      "text/plain": [
       "                                   reviewId       userName  \\\n",
       "0      5cd19a5f-b6b8-4298-87ea-d97116d7499c  A Google user   \n",
       "1      5579b219-854f-4b41-a360-16f7e7c48005  A Google user   \n",
       "2      391d871a-d162-421b-8188-65ba1dc3e16f  A Google user   \n",
       "3      789decfb-37ec-4f4b-bf93-ae372256568c  A Google user   \n",
       "4      bf0bd8ce-a5b6-419a-b452-ea0bc71e7bc2  A Google user   \n",
       "...                                     ...            ...   \n",
       "73413  ef1a89dd-cad6-4c85-9af0-333eb500702f  A Google user   \n",
       "73414  edb91049-807f-41b3-a2f8-2b4e952089bd  A Google user   \n",
       "73415  98fdcb74-6fc9-4602-97b4-2a581972c850  A Google user   \n",
       "73416  05c33419-30bd-49a3-937a-3ad3bdbdf6fe  A Google user   \n",
       "73417  de67b68f-25db-4bb2-846a-bda37db1355d  A Google user   \n",
       "\n",
       "                                               userImage  \\\n",
       "0      https://play-lh.googleusercontent.com/EGemoI2N...   \n",
       "1      https://play-lh.googleusercontent.com/EGemoI2N...   \n",
       "2      https://play-lh.googleusercontent.com/EGemoI2N...   \n",
       "3      https://play-lh.googleusercontent.com/EGemoI2N...   \n",
       "4      https://play-lh.googleusercontent.com/EGemoI2N...   \n",
       "...                                                  ...   \n",
       "73413  https://play-lh.googleusercontent.com/EGemoI2N...   \n",
       "73414  https://play-lh.googleusercontent.com/EGemoI2N...   \n",
       "73415  https://play-lh.googleusercontent.com/EGemoI2N...   \n",
       "73416  https://play-lh.googleusercontent.com/EGemoI2N...   \n",
       "73417  https://play-lh.googleusercontent.com/EGemoI2N...   \n",
       "\n",
       "                                                 content  score  \\\n",
       "0                                             biased app      1   \n",
       "1                                     Women be trippin 🤷      1   \n",
       "2      \"the app designed to be deleted\" because it's ...      1   \n",
       "3      Happy to take your money and no matter how you...      1   \n",
       "4        Dumpster fire. basically useless without paying      1   \n",
       "...                                                  ...    ...   \n",
       "73413  Useless - I'm in the UK and it tells me i'm ov...      2   \n",
       "73414  I can't get past the initial set up.  It won't...      1   \n",
       "73415  This is incredible! A quality dating app for A...      5   \n",
       "73416            \"Over Water\" ... Can't choose location.      2   \n",
       "73417  My entire town counts as \"over water\" and I ca...      2   \n",
       "\n",
       "       thumbsUpCount reviewCreatedVersion                   at  \\\n",
       "0                  4               9.62.0  2024-11-23 23:59:27   \n",
       "1                  0               9.62.0  2024-11-23 23:36:35   \n",
       "2                  1               9.62.0  2024-11-23 22:41:52   \n",
       "3                  0               9.62.0  2024-11-23 22:21:52   \n",
       "4                  0               9.62.0  2024-11-23 22:05:57   \n",
       "...              ...                  ...                  ...   \n",
       "73413              5                5.2.0  2017-07-11 20:14:10   \n",
       "73414             11                5.2.0  2017-07-11 20:06:57   \n",
       "73415              1                5.2.0  2017-07-11 20:02:32   \n",
       "73416              8                5.2.0  2017-07-11 19:58:27   \n",
       "73417             15                5.2.0  2017-07-11 19:54:31   \n",
       "\n",
       "                                            replyContent            repliedAt  \\\n",
       "0                                                    NaN                  NaN   \n",
       "1                                                    NaN                  NaN   \n",
       "2                                                    NaN                  NaN   \n",
       "3                                                    NaN                  NaN   \n",
       "4                                                    NaN                  NaN   \n",
       "...                                                  ...                  ...   \n",
       "73413  Sorry for the error there. The sudden heavy in...  2017-07-11 21:31:17   \n",
       "73414  Sorry for the error there. The sudden heavy in...  2017-07-11 21:31:11   \n",
       "73415  Right?? We've already seen a lot of new relati...  2017-07-11 21:39:24   \n",
       "73416  Sorry for the error there. The sudden heavy in...  2017-07-11 21:30:50   \n",
       "73417  Sorry for the error there. The sudden heavy in...  2017-07-11 21:30:46   \n",
       "\n",
       "      appVersion  \n",
       "0         9.62.0  \n",
       "1         9.62.0  \n",
       "2         9.62.0  \n",
       "3         9.62.0  \n",
       "4         9.62.0  \n",
       "...          ...  \n",
       "73413      5.2.0  \n",
       "73414      5.2.0  \n",
       "73415      5.2.0  \n",
       "73416      5.2.0  \n",
       "73417      5.2.0  \n",
       "\n",
       "[73418 rows x 11 columns]"
      ]
     },
     "execution_count": 6,
     "metadata": {},
     "output_type": "execute_result"
    }
   ],
   "source": [
    "# Dataset van 'hinge_reviews'\n",
    "hinge_reviews= pd.read_csv(\"C:\\\\Users\\\\kaile\\\\OneDrive\\\\Documents\\\\S4\\\\notebooks\\\\Hinge app reviews\\\\hinge_google_play_reviews.csv\")\n",
    "hinge_reviews"
   ]
  },
  {
   "cell_type": "markdown",
   "id": "b644e428",
   "metadata": {},
   "source": [
    "We gaan onderzoeken of deze drie datasets geschikt zijn voor verdere analyse. Daarnaast zullen we beoordelen of we de datasets kunnen samenvoegen om zowel de hoofdvraag als de aanvullende onderzoeksvragen te beantwoorden."
   ]
  },
  {
   "cell_type": "markdown",
   "id": "6c877e5c",
   "metadata": {},
   "source": [
    "# 🪜Stap 2: EDA & Cleaning datasets"
   ]
  },
  {
   "cell_type": "markdown",
   "id": "fcca0796",
   "metadata": {},
   "source": [
    "Allereerst combineren we de drie datasets die we gaan gebruiken om één samengevoegde dataset te creëren. Daarna starten we met het opschonen van de gegevens en voeren we een Exploratory Data Analysis (EDA) uit om de dataset geschikt te maken voor verdere analyse. We gaan de datasets (tinder_reviews, bumble_reviews, hinge_reviews) afzonderlijk opschonen en een Exploratory Data Analysis (EDA) uitvoeren voordat we de drie datasets samenvoegen. Daarna zullen we verder gaan met de data-analyse en het uitvoeren van sentimentanalyse en machine learning."
   ]
  },
  {
   "cell_type": "markdown",
   "id": "0bedeec5",
   "metadata": {},
   "source": [
    "# Tinder Reviews EDA"
   ]
  },
  {
   "cell_type": "code",
   "execution_count": 7,
   "id": "e001ef02",
   "metadata": {
    "scrolled": true
   },
   "outputs": [
    {
     "data": {
      "text/html": [
       "<div>\n",
       "<style scoped>\n",
       "    .dataframe tbody tr th:only-of-type {\n",
       "        vertical-align: middle;\n",
       "    }\n",
       "\n",
       "    .dataframe tbody tr th {\n",
       "        vertical-align: top;\n",
       "    }\n",
       "\n",
       "    .dataframe thead th {\n",
       "        text-align: right;\n",
       "    }\n",
       "</style>\n",
       "<table border=\"1\" class=\"dataframe\">\n",
       "  <thead>\n",
       "    <tr style=\"text-align: right;\">\n",
       "      <th></th>\n",
       "      <th>reviewId</th>\n",
       "      <th>userName</th>\n",
       "      <th>userImage</th>\n",
       "      <th>content</th>\n",
       "      <th>score</th>\n",
       "      <th>thumbsUpCount</th>\n",
       "      <th>reviewCreatedVersion</th>\n",
       "      <th>at</th>\n",
       "      <th>replyContent</th>\n",
       "      <th>repliedAt</th>\n",
       "      <th>appVersion</th>\n",
       "    </tr>\n",
       "  </thead>\n",
       "  <tbody>\n",
       "    <tr>\n",
       "      <th>0</th>\n",
       "      <td>2ee284b2-8239-4434-b2e0-e3ed60a67896</td>\n",
       "      <td>A Google user</td>\n",
       "      <td>https://play-lh.googleusercontent.com/EGemoI2N...</td>\n",
       "      <td>Was banned without any reason, didn't break an...</td>\n",
       "      <td>1</td>\n",
       "      <td>0</td>\n",
       "      <td>15.21.1</td>\n",
       "      <td>2024-11-21 23:59:49</td>\n",
       "      <td>NaN</td>\n",
       "      <td>NaN</td>\n",
       "      <td>15.21.1</td>\n",
       "    </tr>\n",
       "    <tr>\n",
       "      <th>1</th>\n",
       "      <td>6682e590-eb30-4ded-84af-8f8243b56442</td>\n",
       "      <td>A Google user</td>\n",
       "      <td>https://play-lh.googleusercontent.com/EGemoI2N...</td>\n",
       "      <td>no funciona! Sencillamente no funciona</td>\n",
       "      <td>1</td>\n",
       "      <td>0</td>\n",
       "      <td>15.21.1</td>\n",
       "      <td>2024-11-21 23:59:36</td>\n",
       "      <td>NaN</td>\n",
       "      <td>NaN</td>\n",
       "      <td>15.21.1</td>\n",
       "    </tr>\n",
       "    <tr>\n",
       "      <th>2</th>\n",
       "      <td>e6f5db1f-6364-4ade-9e50-a089777af6e1</td>\n",
       "      <td>A Google user</td>\n",
       "      <td>https://play-lh.googleusercontent.com/EGemoI2N...</td>\n",
       "      <td>thank you so much</td>\n",
       "      <td>5</td>\n",
       "      <td>0</td>\n",
       "      <td>15.21.1</td>\n",
       "      <td>2024-11-21 23:44:24</td>\n",
       "      <td>NaN</td>\n",
       "      <td>NaN</td>\n",
       "      <td>15.21.1</td>\n",
       "    </tr>\n",
       "    <tr>\n",
       "      <th>3</th>\n",
       "      <td>2cd17dae-6488-4bbe-86db-a2e6e19da3af</td>\n",
       "      <td>A Google user</td>\n",
       "      <td>https://play-lh.googleusercontent.com/EGemoI2N...</td>\n",
       "      <td>All fake profiles, mostly people, try to scam ...</td>\n",
       "      <td>5</td>\n",
       "      <td>0</td>\n",
       "      <td>15.21.1</td>\n",
       "      <td>2024-11-21 23:28:06</td>\n",
       "      <td>NaN</td>\n",
       "      <td>NaN</td>\n",
       "      <td>15.21.1</td>\n",
       "    </tr>\n",
       "    <tr>\n",
       "      <th>4</th>\n",
       "      <td>9925c76e-0722-4890-8fa6-d62557fc4cfe</td>\n",
       "      <td>A Google user</td>\n",
       "      <td>https://play-lh.googleusercontent.com/EGemoI2N...</td>\n",
       "      <td>Can't do anything before there is a match. Dis...</td>\n",
       "      <td>1</td>\n",
       "      <td>0</td>\n",
       "      <td>15.21.1</td>\n",
       "      <td>2024-11-21 23:12:56</td>\n",
       "      <td>NaN</td>\n",
       "      <td>NaN</td>\n",
       "      <td>15.21.1</td>\n",
       "    </tr>\n",
       "  </tbody>\n",
       "</table>\n",
       "</div>"
      ],
      "text/plain": [
       "                               reviewId       userName  \\\n",
       "0  2ee284b2-8239-4434-b2e0-e3ed60a67896  A Google user   \n",
       "1  6682e590-eb30-4ded-84af-8f8243b56442  A Google user   \n",
       "2  e6f5db1f-6364-4ade-9e50-a089777af6e1  A Google user   \n",
       "3  2cd17dae-6488-4bbe-86db-a2e6e19da3af  A Google user   \n",
       "4  9925c76e-0722-4890-8fa6-d62557fc4cfe  A Google user   \n",
       "\n",
       "                                           userImage  \\\n",
       "0  https://play-lh.googleusercontent.com/EGemoI2N...   \n",
       "1  https://play-lh.googleusercontent.com/EGemoI2N...   \n",
       "2  https://play-lh.googleusercontent.com/EGemoI2N...   \n",
       "3  https://play-lh.googleusercontent.com/EGemoI2N...   \n",
       "4  https://play-lh.googleusercontent.com/EGemoI2N...   \n",
       "\n",
       "                                             content  score  thumbsUpCount  \\\n",
       "0  Was banned without any reason, didn't break an...      1              0   \n",
       "1             no funciona! Sencillamente no funciona      1              0   \n",
       "2                                  thank you so much      5              0   \n",
       "3  All fake profiles, mostly people, try to scam ...      5              0   \n",
       "4  Can't do anything before there is a match. Dis...      1              0   \n",
       "\n",
       "  reviewCreatedVersion                   at replyContent repliedAt appVersion  \n",
       "0              15.21.1  2024-11-21 23:59:49          NaN       NaN    15.21.1  \n",
       "1              15.21.1  2024-11-21 23:59:36          NaN       NaN    15.21.1  \n",
       "2              15.21.1  2024-11-21 23:44:24          NaN       NaN    15.21.1  \n",
       "3              15.21.1  2024-11-21 23:28:06          NaN       NaN    15.21.1  \n",
       "4              15.21.1  2024-11-21 23:12:56          NaN       NaN    15.21.1  "
      ]
     },
     "execution_count": 7,
     "metadata": {},
     "output_type": "execute_result"
    }
   ],
   "source": [
    "tinder_reviews.head()"
   ]
  },
  {
   "cell_type": "code",
   "execution_count": 8,
   "id": "60189661",
   "metadata": {
    "scrolled": true
   },
   "outputs": [
    {
     "name": "stdout",
     "output_type": "stream",
     "text": [
      "<class 'pandas.core.frame.DataFrame'>\n",
      "RangeIndex: 637216 entries, 0 to 637215\n",
      "Data columns (total 11 columns):\n",
      " #   Column                Non-Null Count   Dtype \n",
      "---  ------                --------------   ----- \n",
      " 0   reviewId              637216 non-null  object\n",
      " 1   userName              637216 non-null  object\n",
      " 2   userImage             637216 non-null  object\n",
      " 3   content               635854 non-null  object\n",
      " 4   score                 637216 non-null  int64 \n",
      " 5   thumbsUpCount         637216 non-null  int64 \n",
      " 6   reviewCreatedVersion  506553 non-null  object\n",
      " 7   at                    637216 non-null  object\n",
      " 8   replyContent          59430 non-null   object\n",
      " 9   repliedAt             59430 non-null   object\n",
      " 10  appVersion            506553 non-null  object\n",
      "dtypes: int64(2), object(9)\n",
      "memory usage: 53.5+ MB\n",
      "shape of the dataset -->> (637216, 11)\n"
     ]
    }
   ],
   "source": [
    "tinder_reviews.info()\n",
    "print(\"shape of the dataset -->>\",np.shape(tinder_reviews)) "
   ]
  },
  {
   "cell_type": "markdown",
   "id": "41dd95c0",
   "metadata": {},
   "source": [
    "Opmerkingen van de dataset informatie: \n",
    "\n",
    "- De dtypes zijn de verkeerde dus we zullen op de correcte manier converteren\n",
    "- Het opsplitsen van Date&Time maakt het makkelijker om te analyseren of beoordelingen verbeteren over tijd, met specifieke datums en tijdstippen apart.\n",
    "- Onnodige kolommen verwijderen om de structuur van de dataset verebeteren voordat we de datasets aan elkaar brengen (mergen).\n",
    "\n",
    "We gaan eerst de datatypes wijzigen naar de correcte types:\n",
    "\n",
    "- Converteer reviewId naar string, omdat het is bestaat niet alleen uit cijfers maar ook letters. Het is puur als een identificator. \n",
    "- Converteer score en thumbsUpCount naar gehele getallen (int). \n",
    "- Converteer Date&Time (at) naar een datetime-object.\n",
    "- Zorg ervoor dat content en userName strings zijn.\n",
    "\n",
    "Daarna gaan we de Date & Time aan elkaar scheiding: \n",
    "- We gaan de kolom Date&Time in twee aparte kolommen opsplitsen : één voor de datum en één voor de tijd. Daarna verwijderen we de oorspronkelijke kolom Date&Time, omdat deze niet meer nodig is.\n",
    "\n",
    "Aan het eind we gaan de verschillende kolommen bekijken en daarna de onnodige kolommen verwijderen: \n",
    "\n",
    "- Waar ik kan nu zien, is dat er verschillende kolommen dat kan verwijder zijn: userImage, replyContent, repliedAt..."
   ]
  },
  {
   "cell_type": "code",
   "execution_count": 9,
   "id": "4c785297",
   "metadata": {},
   "outputs": [],
   "source": [
    "# Convert reviewId and UserName to string type\n",
    "tinder_reviews['reviewId'] = tinder_reviews['reviewId'].astype('string')\n",
    "tinder_reviews['userName'] = tinder_reviews['userName'].astype('string')\n",
    "tinder_reviews['content'] = tinder_reviews['content'].astype('string')"
   ]
  },
  {
   "cell_type": "code",
   "execution_count": 10,
   "id": "10963f40",
   "metadata": {},
   "outputs": [],
   "source": [
    "# Convert score and thumbsUpCount to int type\n",
    "tinder_reviews['score'] = tinder_reviews['score'].astype(int)\n",
    "tinder_reviews['thumbsUpCount'] = tinder_reviews['thumbsUpCount'].astype(int) "
   ]
  },
  {
   "cell_type": "code",
   "execution_count": 11,
   "id": "fb79a2d2",
   "metadata": {
    "scrolled": true
   },
   "outputs": [
    {
     "name": "stdout",
     "output_type": "stream",
     "text": [
      "<class 'pandas.core.frame.DataFrame'>\n",
      "RangeIndex: 637216 entries, 0 to 637215\n",
      "Data columns (total 11 columns):\n",
      " #   Column                Non-Null Count   Dtype \n",
      "---  ------                --------------   ----- \n",
      " 0   reviewId              637216 non-null  string\n",
      " 1   userName              637216 non-null  string\n",
      " 2   userImage             637216 non-null  object\n",
      " 3   content               635854 non-null  string\n",
      " 4   score                 637216 non-null  int32 \n",
      " 5   thumbsUpCount         637216 non-null  int32 \n",
      " 6   reviewCreatedVersion  506553 non-null  object\n",
      " 7   at                    637216 non-null  object\n",
      " 8   replyContent          59430 non-null   object\n",
      " 9   repliedAt             59430 non-null   object\n",
      " 10  appVersion            506553 non-null  object\n",
      "dtypes: int32(2), object(6), string(3)\n",
      "memory usage: 48.6+ MB\n"
     ]
    }
   ],
   "source": [
    "tinder_reviews.info()"
   ]
  },
  {
   "cell_type": "markdown",
   "id": "fefa9e87",
   "metadata": {},
   "source": [
    "# Date & Time opsplitsen"
   ]
  },
  {
   "cell_type": "markdown",
   "id": "a078b998",
   "metadata": {},
   "source": [
    "In dit geval hebben we alleen de datum nodig om de verschillende reviews te classificeren en te zien of de reviews slechter of beter zijn geworden in de loop van de tijd. We gaan twee aparte kolommen creëren en daarna de kolom 'Time' verwijderen."
   ]
  },
  {
   "cell_type": "code",
   "execution_count": 12,
   "id": "1f256e8d",
   "metadata": {},
   "outputs": [],
   "source": [
    "tinder_reviews[\"Date\"] = pd.to_datetime(tinder_reviews['at'], format='%Y-%m-%d %H:%M:%S').dt.date"
   ]
  },
  {
   "cell_type": "code",
   "execution_count": 13,
   "id": "5505fdf5",
   "metadata": {},
   "outputs": [],
   "source": [
    "tinder_reviews[\"Time\"] = pd.to_datetime(tinder_reviews['at'], format='%Y-%m-%d %H:%M:%S').dt.time"
   ]
  },
  {
   "cell_type": "code",
   "execution_count": 14,
   "id": "b572451d",
   "metadata": {},
   "outputs": [],
   "source": [
    "tinder_reviews = tinder_reviews.drop(\"at\",axis=1)"
   ]
  },
  {
   "cell_type": "code",
   "execution_count": 15,
   "id": "6620895a",
   "metadata": {},
   "outputs": [],
   "source": [
    "tinder_reviews[\"Date\"] = pd.to_datetime(tinder_reviews[\"Date\"])"
   ]
  },
  {
   "cell_type": "code",
   "execution_count": 16,
   "id": "874e83f2",
   "metadata": {},
   "outputs": [],
   "source": [
    "tinder_reviews[\"Time\"] = tinder_reviews[\"Time\"].astype(str)"
   ]
  },
  {
   "cell_type": "code",
   "execution_count": 17,
   "id": "48bfda13",
   "metadata": {},
   "outputs": [
    {
     "name": "stdout",
     "output_type": "stream",
     "text": [
      "<class 'pandas.core.frame.DataFrame'>\n",
      "RangeIndex: 637216 entries, 0 to 637215\n",
      "Data columns (total 12 columns):\n",
      " #   Column                Non-Null Count   Dtype         \n",
      "---  ------                --------------   -----         \n",
      " 0   reviewId              637216 non-null  string        \n",
      " 1   userName              637216 non-null  string        \n",
      " 2   userImage             637216 non-null  object        \n",
      " 3   content               635854 non-null  string        \n",
      " 4   score                 637216 non-null  int32         \n",
      " 5   thumbsUpCount         637216 non-null  int32         \n",
      " 6   reviewCreatedVersion  506553 non-null  object        \n",
      " 7   replyContent          59430 non-null   object        \n",
      " 8   repliedAt             59430 non-null   object        \n",
      " 9   appVersion            506553 non-null  object        \n",
      " 10  Date                  637216 non-null  datetime64[ns]\n",
      " 11  Time                  637216 non-null  object        \n",
      "dtypes: datetime64[ns](1), int32(2), object(6), string(3)\n",
      "memory usage: 53.5+ MB\n"
     ]
    }
   ],
   "source": [
    "tinder_reviews.info()"
   ]
  },
  {
   "cell_type": "code",
   "execution_count": 18,
   "id": "552d636e",
   "metadata": {
    "scrolled": true
   },
   "outputs": [],
   "source": [
    "#Reorder columns in a way that is understanding\n",
    "new_column_order = ['reviewId', 'userName', 'userImage', 'content', 'score', 'thumbsUpCount', 'reviewCreatedVersion', 'Date', 'Time', 'replyContent', 'repliedAt', 'appVersion']\n",
    "tinder_reviews = tinder_reviews[new_column_order]"
   ]
  },
  {
   "cell_type": "code",
   "execution_count": 19,
   "id": "14b33444",
   "metadata": {},
   "outputs": [
    {
     "name": "stdout",
     "output_type": "stream",
     "text": [
      "Index(['reviewId', 'userName', 'userImage', 'content', 'score',\n",
      "       'thumbsUpCount', 'reviewCreatedVersion', 'Date', 'Time', 'replyContent',\n",
      "       'repliedAt', 'appVersion'],\n",
      "      dtype='object')\n"
     ]
    }
   ],
   "source": [
    "# Check if the order is corrected: \n",
    "print(tinder_reviews.columns)"
   ]
  },
  {
   "cell_type": "markdown",
   "id": "86fee521",
   "metadata": {},
   "source": [
    "# Kolommen verwijderen"
   ]
  },
  {
   "cell_type": "markdown",
   "id": "4389c8b8",
   "metadata": {},
   "source": [
    "Volgende stap zou de kolommen dat NIET nodig zijn veranderen. We hebben alleen deze kolommen nodig om de volgende stap (sentiment analysis) doen: reviewId, userName, content, score, thumbsUpCount, reviewCreatedVersion, Date, appVersion."
   ]
  },
  {
   "cell_type": "code",
   "execution_count": 20,
   "id": "ca051486",
   "metadata": {},
   "outputs": [],
   "source": [
    "# Onnodige kolommen verwijderen:\n",
    "tinder_reviews.drop(['userImage','reviewCreatedVersion',  'Time', 'replyContent', 'repliedAt', 'appVersion'], axis=1, inplace=True)"
   ]
  },
  {
   "cell_type": "code",
   "execution_count": 21,
   "id": "db915a8c",
   "metadata": {},
   "outputs": [
    {
     "data": {
      "text/html": [
       "<div>\n",
       "<style scoped>\n",
       "    .dataframe tbody tr th:only-of-type {\n",
       "        vertical-align: middle;\n",
       "    }\n",
       "\n",
       "    .dataframe tbody tr th {\n",
       "        vertical-align: top;\n",
       "    }\n",
       "\n",
       "    .dataframe thead th {\n",
       "        text-align: right;\n",
       "    }\n",
       "</style>\n",
       "<table border=\"1\" class=\"dataframe\">\n",
       "  <thead>\n",
       "    <tr style=\"text-align: right;\">\n",
       "      <th></th>\n",
       "      <th>reviewId</th>\n",
       "      <th>userName</th>\n",
       "      <th>content</th>\n",
       "      <th>score</th>\n",
       "      <th>thumbsUpCount</th>\n",
       "      <th>Date</th>\n",
       "    </tr>\n",
       "  </thead>\n",
       "  <tbody>\n",
       "    <tr>\n",
       "      <th>0</th>\n",
       "      <td>2ee284b2-8239-4434-b2e0-e3ed60a67896</td>\n",
       "      <td>A Google user</td>\n",
       "      <td>Was banned without any reason, didn't break an...</td>\n",
       "      <td>1</td>\n",
       "      <td>0</td>\n",
       "      <td>2024-11-21</td>\n",
       "    </tr>\n",
       "    <tr>\n",
       "      <th>1</th>\n",
       "      <td>6682e590-eb30-4ded-84af-8f8243b56442</td>\n",
       "      <td>A Google user</td>\n",
       "      <td>no funciona! Sencillamente no funciona</td>\n",
       "      <td>1</td>\n",
       "      <td>0</td>\n",
       "      <td>2024-11-21</td>\n",
       "    </tr>\n",
       "    <tr>\n",
       "      <th>2</th>\n",
       "      <td>e6f5db1f-6364-4ade-9e50-a089777af6e1</td>\n",
       "      <td>A Google user</td>\n",
       "      <td>thank you so much</td>\n",
       "      <td>5</td>\n",
       "      <td>0</td>\n",
       "      <td>2024-11-21</td>\n",
       "    </tr>\n",
       "    <tr>\n",
       "      <th>3</th>\n",
       "      <td>2cd17dae-6488-4bbe-86db-a2e6e19da3af</td>\n",
       "      <td>A Google user</td>\n",
       "      <td>All fake profiles, mostly people, try to scam ...</td>\n",
       "      <td>5</td>\n",
       "      <td>0</td>\n",
       "      <td>2024-11-21</td>\n",
       "    </tr>\n",
       "    <tr>\n",
       "      <th>4</th>\n",
       "      <td>9925c76e-0722-4890-8fa6-d62557fc4cfe</td>\n",
       "      <td>A Google user</td>\n",
       "      <td>Can't do anything before there is a match. Dis...</td>\n",
       "      <td>1</td>\n",
       "      <td>0</td>\n",
       "      <td>2024-11-21</td>\n",
       "    </tr>\n",
       "  </tbody>\n",
       "</table>\n",
       "</div>"
      ],
      "text/plain": [
       "                               reviewId       userName  \\\n",
       "0  2ee284b2-8239-4434-b2e0-e3ed60a67896  A Google user   \n",
       "1  6682e590-eb30-4ded-84af-8f8243b56442  A Google user   \n",
       "2  e6f5db1f-6364-4ade-9e50-a089777af6e1  A Google user   \n",
       "3  2cd17dae-6488-4bbe-86db-a2e6e19da3af  A Google user   \n",
       "4  9925c76e-0722-4890-8fa6-d62557fc4cfe  A Google user   \n",
       "\n",
       "                                             content  score  thumbsUpCount  \\\n",
       "0  Was banned without any reason, didn't break an...      1              0   \n",
       "1             no funciona! Sencillamente no funciona      1              0   \n",
       "2                                  thank you so much      5              0   \n",
       "3  All fake profiles, mostly people, try to scam ...      5              0   \n",
       "4  Can't do anything before there is a match. Dis...      1              0   \n",
       "\n",
       "        Date  \n",
       "0 2024-11-21  \n",
       "1 2024-11-21  \n",
       "2 2024-11-21  \n",
       "3 2024-11-21  \n",
       "4 2024-11-21  "
      ]
     },
     "execution_count": 21,
     "metadata": {},
     "output_type": "execute_result"
    }
   ],
   "source": [
    "tinder_reviews.head()"
   ]
  },
  {
   "cell_type": "code",
   "execution_count": 22,
   "id": "b89e9639",
   "metadata": {
    "scrolled": true
   },
   "outputs": [
    {
     "data": {
      "text/html": [
       "<div>\n",
       "<style scoped>\n",
       "    .dataframe tbody tr th:only-of-type {\n",
       "        vertical-align: middle;\n",
       "    }\n",
       "\n",
       "    .dataframe tbody tr th {\n",
       "        vertical-align: top;\n",
       "    }\n",
       "\n",
       "    .dataframe thead th {\n",
       "        text-align: right;\n",
       "    }\n",
       "</style>\n",
       "<table border=\"1\" class=\"dataframe\">\n",
       "  <thead>\n",
       "    <tr style=\"text-align: right;\">\n",
       "      <th></th>\n",
       "      <th>score</th>\n",
       "      <th>thumbsUpCount</th>\n",
       "    </tr>\n",
       "  </thead>\n",
       "  <tbody>\n",
       "    <tr>\n",
       "      <th>count</th>\n",
       "      <td>637216.000000</td>\n",
       "      <td>637216.000000</td>\n",
       "    </tr>\n",
       "    <tr>\n",
       "      <th>mean</th>\n",
       "      <td>2.870292</td>\n",
       "      <td>1.878201</td>\n",
       "    </tr>\n",
       "    <tr>\n",
       "      <th>std</th>\n",
       "      <td>1.771274</td>\n",
       "      <td>30.684762</td>\n",
       "    </tr>\n",
       "    <tr>\n",
       "      <th>min</th>\n",
       "      <td>1.000000</td>\n",
       "      <td>0.000000</td>\n",
       "    </tr>\n",
       "    <tr>\n",
       "      <th>25%</th>\n",
       "      <td>1.000000</td>\n",
       "      <td>0.000000</td>\n",
       "    </tr>\n",
       "    <tr>\n",
       "      <th>50%</th>\n",
       "      <td>3.000000</td>\n",
       "      <td>0.000000</td>\n",
       "    </tr>\n",
       "    <tr>\n",
       "      <th>75%</th>\n",
       "      <td>5.000000</td>\n",
       "      <td>0.000000</td>\n",
       "    </tr>\n",
       "    <tr>\n",
       "      <th>max</th>\n",
       "      <td>5.000000</td>\n",
       "      <td>5461.000000</td>\n",
       "    </tr>\n",
       "  </tbody>\n",
       "</table>\n",
       "</div>"
      ],
      "text/plain": [
       "               score  thumbsUpCount\n",
       "count  637216.000000  637216.000000\n",
       "mean        2.870292       1.878201\n",
       "std         1.771274      30.684762\n",
       "min         1.000000       0.000000\n",
       "25%         1.000000       0.000000\n",
       "50%         3.000000       0.000000\n",
       "75%         5.000000       0.000000\n",
       "max         5.000000    5461.000000"
      ]
     },
     "execution_count": 22,
     "metadata": {},
     "output_type": "execute_result"
    }
   ],
   "source": [
    "# We gaan alleen de numerieke nummers dtypes van de describe tabel zien. \n",
    "tinder_reviews.describe(include=[np.number])"
   ]
  },
  {
   "cell_type": "code",
   "execution_count": 23,
   "id": "96b94737",
   "metadata": {
    "scrolled": true
   },
   "outputs": [
    {
     "data": {
      "text/html": [
       "<div>\n",
       "<style scoped>\n",
       "    .dataframe tbody tr th:only-of-type {\n",
       "        vertical-align: middle;\n",
       "    }\n",
       "\n",
       "    .dataframe tbody tr th {\n",
       "        vertical-align: top;\n",
       "    }\n",
       "\n",
       "    .dataframe thead th {\n",
       "        text-align: right;\n",
       "    }\n",
       "</style>\n",
       "<table border=\"1\" class=\"dataframe\">\n",
       "  <thead>\n",
       "    <tr style=\"text-align: right;\">\n",
       "      <th></th>\n",
       "      <th>reviewId</th>\n",
       "      <th>userName</th>\n",
       "      <th>content</th>\n",
       "      <th>score</th>\n",
       "      <th>thumbsUpCount</th>\n",
       "      <th>Date</th>\n",
       "    </tr>\n",
       "  </thead>\n",
       "  <tbody>\n",
       "    <tr>\n",
       "      <th>637211</th>\n",
       "      <td>c9c6a2e3-4d65-4d3c-b434-d027dd7d81a9</td>\n",
       "      <td>A Google user</td>\n",
       "      <td>Best app ever finally on android</td>\n",
       "      <td>5</td>\n",
       "      <td>2</td>\n",
       "      <td>2013-07-15</td>\n",
       "    </tr>\n",
       "    <tr>\n",
       "      <th>637212</th>\n",
       "      <td>e418f4c2-78ca-4e93-93fa-d522d2ef2cb2</td>\n",
       "      <td>A Google user</td>\n",
       "      <td>Tinder is extremely buggy on the galaxy S4 act...</td>\n",
       "      <td>1</td>\n",
       "      <td>0</td>\n",
       "      <td>2013-07-15</td>\n",
       "    </tr>\n",
       "    <tr>\n",
       "      <th>637213</th>\n",
       "      <td>cfd8526b-e84b-4d4d-9989-3a5dc0a89b1a</td>\n",
       "      <td>A Google user</td>\n",
       "      <td>Keeps crashing.</td>\n",
       "      <td>1</td>\n",
       "      <td>0</td>\n",
       "      <td>2013-07-15</td>\n",
       "    </tr>\n",
       "    <tr>\n",
       "      <th>637214</th>\n",
       "      <td>91829d43-289a-42af-b5ab-8f548339dd76</td>\n",
       "      <td>A Google user</td>\n",
       "      <td>Crashes. Doesn't load. Total failure. Take it ...</td>\n",
       "      <td>1</td>\n",
       "      <td>0</td>\n",
       "      <td>2013-07-15</td>\n",
       "    </tr>\n",
       "    <tr>\n",
       "      <th>637215</th>\n",
       "      <td>f463cdfc-bd0a-42e0-a951-7de849cd95fd</td>\n",
       "      <td>A Google user</td>\n",
       "      <td>Finally the real Tinder is on Android</td>\n",
       "      <td>5</td>\n",
       "      <td>4</td>\n",
       "      <td>2013-07-15</td>\n",
       "    </tr>\n",
       "  </tbody>\n",
       "</table>\n",
       "</div>"
      ],
      "text/plain": [
       "                                    reviewId       userName  \\\n",
       "637211  c9c6a2e3-4d65-4d3c-b434-d027dd7d81a9  A Google user   \n",
       "637212  e418f4c2-78ca-4e93-93fa-d522d2ef2cb2  A Google user   \n",
       "637213  cfd8526b-e84b-4d4d-9989-3a5dc0a89b1a  A Google user   \n",
       "637214  91829d43-289a-42af-b5ab-8f548339dd76  A Google user   \n",
       "637215  f463cdfc-bd0a-42e0-a951-7de849cd95fd  A Google user   \n",
       "\n",
       "                                                  content  score  \\\n",
       "637211                   Best app ever finally on android      5   \n",
       "637212  Tinder is extremely buggy on the galaxy S4 act...      1   \n",
       "637213                                    Keeps crashing.      1   \n",
       "637214  Crashes. Doesn't load. Total failure. Take it ...      1   \n",
       "637215              Finally the real Tinder is on Android      5   \n",
       "\n",
       "        thumbsUpCount       Date  \n",
       "637211              2 2013-07-15  \n",
       "637212              0 2013-07-15  \n",
       "637213              0 2013-07-15  \n",
       "637214              0 2013-07-15  \n",
       "637215              4 2013-07-15  "
      ]
     },
     "execution_count": 23,
     "metadata": {},
     "output_type": "execute_result"
    }
   ],
   "source": [
    "tinder_reviews.tail()"
   ]
  },
  {
   "cell_type": "markdown",
   "id": "f2d905cc",
   "metadata": {},
   "source": [
    "# 🧼Cleaning Tinder Reviews"
   ]
  },
  {
   "cell_type": "markdown",
   "id": "c4cc2554",
   "metadata": {},
   "source": [
    "In deze stap zullen we de null warden vervangen en duplicates verwijderen. "
   ]
  },
  {
   "cell_type": "code",
   "execution_count": 24,
   "id": "4606da31",
   "metadata": {
    "scrolled": true
   },
   "outputs": [
    {
     "name": "stdout",
     "output_type": "stream",
     "text": [
      "reviewId            0\n",
      "userName            0\n",
      "content          1362\n",
      "score               0\n",
      "thumbsUpCount       0\n",
      "Date                0\n",
      "dtype: int64\n"
     ]
    }
   ],
   "source": [
    "# Check non-null values for each column\n",
    "print(tinder_reviews.isnull().sum())"
   ]
  },
  {
   "cell_type": "code",
   "execution_count": 25,
   "id": "6fb11faf",
   "metadata": {},
   "outputs": [],
   "source": [
    "# Handle null values in 'content'\n",
    "tinder_reviews = tinder_reviews.dropna(subset=['content'])"
   ]
  },
  {
   "cell_type": "code",
   "execution_count": 26,
   "id": "82549990",
   "metadata": {},
   "outputs": [
    {
     "name": "stdout",
     "output_type": "stream",
     "text": [
      "reviewId         0\n",
      "userName         0\n",
      "content          0\n",
      "score            0\n",
      "thumbsUpCount    0\n",
      "Date             0\n",
      "dtype: int64\n"
     ]
    }
   ],
   "source": [
    "# Verify if null values are replaced\n",
    "print(tinder_reviews.isnull().sum())"
   ]
  },
  {
   "cell_type": "code",
   "execution_count": 27,
   "id": "328257d6",
   "metadata": {},
   "outputs": [
    {
     "name": "stdout",
     "output_type": "stream",
     "text": [
      "0\n"
     ]
    }
   ],
   "source": [
    "# Controleer op duplicaten\n",
    "print(tinder_reviews.duplicated().sum())# Controleer op duplicaten"
   ]
  },
  {
   "cell_type": "markdown",
   "id": "3aac69e0",
   "metadata": {},
   "source": [
    "# Visualisaties Tinder_Reviews"
   ]
  },
  {
   "cell_type": "markdown",
   "id": "9c0946c8",
   "metadata": {},
   "source": [
    "# 1. Verdeling van Scores"
   ]
  },
  {
   "cell_type": "markdown",
   "id": "a768cac1",
   "metadata": {},
   "source": [
    "Deze grafiek toont de frequentie van beoordelingen in de tinder_reviews-dataset en laat de verdeling in verschillende scorecategorieën zien."
   ]
  },
  {
   "cell_type": "code",
   "execution_count": 98,
   "id": "25e3e1a8",
   "metadata": {
    "scrolled": false
   },
   "outputs": [
    {
     "data": {
      "image/png": "[encoded data removed]",
      "text/plain": [
       "<Figure size 800x600 with 1 Axes>"
      ]
     },
     "metadata": {},
     "output_type": "display_data"
    }
   ],
   "source": [
    "# Histogram for the 'score' column om de distrubutie van scores\n",
    "plt.figure(figsize=(8, 6))\n",
    "plt.hist(tinder_reviews['score'], bins=5,color= 'red', edgecolor='black', alpha=0.7)\n",
    "plt.title('Distribution of Scores')\n",
    "plt.xlabel('Score')\n",
    "plt.ylabel('Frequency')\n",
    "plt.show()"
   ]
  },
  {
   "cell_type": "markdown",
   "id": "3b1f2024",
   "metadata": {},
   "source": [
    "De eerste grafiek laat zien dat de verdeling van scores sterk gepolariseerd is, met de meeste reviews geconcentreerd op scores van 1 en 5. Dit suggereert dat gebruikers over het algemeen zeer negatieve of zeer positieve ervaringen hebben, met weinig middelmatige beoordelingen."
   ]
  },
  {
   "cell_type": "markdown",
   "id": "91df995b",
   "metadata": {},
   "source": [
    "# 2. Gemiddeld Aantal Duimen Omhoog per Score"
   ]
  },
  {
   "cell_type": "markdown",
   "id": "cce17bbf",
   "metadata": {},
   "source": [
    "Deze staafdiagram toont welke gemiddelde scores meer 'duimen omhoog' ontvangen."
   ]
  },
  {
   "cell_type": "code",
   "execution_count": 83,
   "id": "13a120fb",
   "metadata": {},
   "outputs": [
    {
     "data": {
      "image/png": "[encoded data removed]",
      "text/plain": [
       "<Figure size 800x600 with 1 Axes>"
      ]
     },
     "metadata": {},
     "output_type": "display_data"
    }
   ],
   "source": [
    "# Bar Chart for Average Thumbs Up Count per Score\n",
    "avg_thumbs_up = tinder_reviews.groupby('score')['thumbsUpCount'].mean()\n",
    "plt.figure(figsize=(8, 6))\n",
    "avg_thumbs_up.plot(kind='bar', color='orange')\n",
    "plt.title('Average Thumbs Up Count per Score')\n",
    "plt.xlabel('Score')\n",
    "plt.ylabel('Average Thumbs Up Count')\n",
    "plt.xticks(rotation=0)\n",
    "plt.show()"
   ]
  },
  {
   "cell_type": "markdown",
   "id": "66a98271",
   "metadata": {},
   "source": [
    "De tweede grafiek toont aan dat reviews met lagere scores (1 en 2) gemiddeld meer duimpjes omhoog krijgen. Dit geeft aan dat negatieve reviews meer resoneren bij gebruikers, mogelijk omdat ze als nuttiger of herkenbaarder worden gezien."
   ]
  },
  {
   "cell_type": "markdown",
   "id": "b23e042a",
   "metadata": {},
   "source": [
    "# 3. Aantal Reviews in de Tijd"
   ]
  },
  {
   "cell_type": "markdown",
   "id": "2eb4bb1a",
   "metadata": {},
   "source": [
    "Een tijdreeksdiagram dat de verdeling van het aantal reviews over de tijd laat zien."
   ]
  },
  {
   "cell_type": "code",
   "execution_count": 104,
   "id": "cf9fc97c",
   "metadata": {},
   "outputs": [
    {
     "data": {
      "image/png": "[encoded data removed]",
      "text/plain": [
       "<Figure size 1200x600 with 1 Axes>"
      ]
     },
     "metadata": {},
     "output_type": "display_data"
    }
   ],
   "source": [
    "# Reviews Over Time\n",
    "tinder_reviews['Date'] = pd.to_datetime(tinder_reviews['Date'])\n",
    "daily_reviews = tinder_reviews.groupby(tinder_reviews['Date'].dt.date).size()\n",
    "\n",
    "plt.figure(figsize=(12, 6))\n",
    "daily_reviews.plot(kind='line', color='purple')\n",
    "plt.title('Number of Reviews Over Time')\n",
    "plt.xlabel('Date')\n",
    "plt.ylabel('Number of Reviews')\n",
    "plt.grid(True)\n",
    "plt.show()\n"
   ]
  },
  {
   "cell_type": "markdown",
   "id": "36472b22",
   "metadata": {},
   "source": [
    "De derde grafiek illustreert de trend van reviews over tijd, met een significante toename in activiteit tussen 2015 en 2017, gevolgd door een geleidelijke daling. Dit kan wijzen op een afname in populariteit van de app, veranderingen in gebruikersgedrag of een verschuiving in marketingfocus in latere jaren. We gaan dit grafiek verder onderzoeken met sentimentanalyse en de beoordelingen te koppelen aan specifieke trends in gebruikerservaringen of belangrijke gebeurtenissen in die periode."
   ]
  },
  {
   "cell_type": "markdown",
   "id": "d85fed12",
   "metadata": {},
   "source": [
    "# Conclusie "
   ]
  },
  {
   "cell_type": "markdown",
   "id": "f15aa1f4",
   "metadata": {},
   "source": [
    "We kunnen concluderen dat deze dataset geschikt is voor verdere analyse en koppeling met andere datasets. Na de EDA en het opschonen van de data hebben we vastgesteld dat er geen ontbrekende waarden (NaN) aanwezig zijn, dat de datastructuur goed is, en dat alle benodigde informatie beschikbaar is om de beoordelingen verder te analyseren"
   ]
  },
  {
   "cell_type": "markdown",
   "id": "be9170f2",
   "metadata": {},
   "source": [
    "Daarna gaan we met de EDA & Cleaning van de andere datase: Bumble Reviews"
   ]
  },
  {
   "cell_type": "markdown",
   "id": "139f3e06",
   "metadata": {},
   "source": [
    "# Bumble Reviews EDA"
   ]
  },
  {
   "cell_type": "code",
   "execution_count": 29,
   "id": "5a8e3747",
   "metadata": {},
   "outputs": [
    {
     "data": {
      "text/html": [
       "<div>\n",
       "<style scoped>\n",
       "    .dataframe tbody tr th:only-of-type {\n",
       "        vertical-align: middle;\n",
       "    }\n",
       "\n",
       "    .dataframe tbody tr th {\n",
       "        vertical-align: top;\n",
       "    }\n",
       "\n",
       "    .dataframe thead th {\n",
       "        text-align: right;\n",
       "    }\n",
       "</style>\n",
       "<table border=\"1\" class=\"dataframe\">\n",
       "  <thead>\n",
       "    <tr style=\"text-align: right;\">\n",
       "      <th></th>\n",
       "      <th>reviewId</th>\n",
       "      <th>userName</th>\n",
       "      <th>userImage</th>\n",
       "      <th>content</th>\n",
       "      <th>score</th>\n",
       "      <th>thumbsUpCount</th>\n",
       "      <th>reviewCreatedVersion</th>\n",
       "      <th>at</th>\n",
       "      <th>replyContent</th>\n",
       "      <th>repliedAt</th>\n",
       "      <th>appVersion</th>\n",
       "    </tr>\n",
       "  </thead>\n",
       "  <tbody>\n",
       "    <tr>\n",
       "      <th>0</th>\n",
       "      <td>395888dc-c8b0-457d-a91e-8a90caf2f2d3</td>\n",
       "      <td>A Google user</td>\n",
       "      <td>https://play-lh.googleusercontent.com/EGemoI2N...</td>\n",
       "      <td>Fake</td>\n",
       "      <td>1</td>\n",
       "      <td>1</td>\n",
       "      <td>5.395.0</td>\n",
       "      <td>2024-11-23 23:41:33</td>\n",
       "      <td>NaN</td>\n",
       "      <td>NaN</td>\n",
       "      <td>5.395.0</td>\n",
       "    </tr>\n",
       "    <tr>\n",
       "      <th>1</th>\n",
       "      <td>ed4fcee5-8614-4d1a-98bf-ff22f7b3261a</td>\n",
       "      <td>A Google user</td>\n",
       "      <td>https://play-lh.googleusercontent.com/EGemoI2N...</td>\n",
       "      <td>I h haven't received any responses yet I'm hav...</td>\n",
       "      <td>3</td>\n",
       "      <td>0</td>\n",
       "      <td>5.395.0</td>\n",
       "      <td>2024-11-23 23:16:54</td>\n",
       "      <td>We're sorry to hear about your negative experi...</td>\n",
       "      <td>2024-11-24 08:45:30</td>\n",
       "      <td>5.395.0</td>\n",
       "    </tr>\n",
       "    <tr>\n",
       "      <th>2</th>\n",
       "      <td>4afcabd0-103d-47b9-a39a-b81554f556d2</td>\n",
       "      <td>A Google user</td>\n",
       "      <td>https://play-lh.googleusercontent.com/EGemoI2N...</td>\n",
       "      <td>Scam. By the time you're (not) explaining how ...</td>\n",
       "      <td>1</td>\n",
       "      <td>0</td>\n",
       "      <td>5.395.0</td>\n",
       "      <td>2024-11-23 23:01:39</td>\n",
       "      <td>We’re sorry your experience wasn’t positive, D...</td>\n",
       "      <td>2024-11-23 22:56:00</td>\n",
       "      <td>5.395.0</td>\n",
       "    </tr>\n",
       "    <tr>\n",
       "      <th>3</th>\n",
       "      <td>541fde8b-8a55-46a9-b2b3-2445f06d3ba1</td>\n",
       "      <td>A Google user</td>\n",
       "      <td>https://play-lh.googleusercontent.com/EGemoI2N...</td>\n",
       "      <td>On registration when I reach at stage of A qui...</td>\n",
       "      <td>3</td>\n",
       "      <td>0</td>\n",
       "      <td>5.395.0</td>\n",
       "      <td>2024-11-23 22:09:04</td>\n",
       "      <td>This shouldn't be happening and sounds like so...</td>\n",
       "      <td>2024-11-24 08:45:00</td>\n",
       "      <td>5.395.0</td>\n",
       "    </tr>\n",
       "    <tr>\n",
       "      <th>4</th>\n",
       "      <td>fddb7ba9-54ca-410b-9707-247347d9ff98</td>\n",
       "      <td>A Google user</td>\n",
       "      <td>https://play-lh.googleusercontent.com/EGemoI2N...</td>\n",
       "      <td>Pay money to find out who likes you.frig off t...</td>\n",
       "      <td>1</td>\n",
       "      <td>2</td>\n",
       "      <td>5.395.0</td>\n",
       "      <td>2024-11-23 21:47:56</td>\n",
       "      <td>You don't need to spend any money to match wit...</td>\n",
       "      <td>2024-11-24 08:44:29</td>\n",
       "      <td>5.395.0</td>\n",
       "    </tr>\n",
       "  </tbody>\n",
       "</table>\n",
       "</div>"
      ],
      "text/plain": [
       "                               reviewId       userName  \\\n",
       "0  395888dc-c8b0-457d-a91e-8a90caf2f2d3  A Google user   \n",
       "1  ed4fcee5-8614-4d1a-98bf-ff22f7b3261a  A Google user   \n",
       "2  4afcabd0-103d-47b9-a39a-b81554f556d2  A Google user   \n",
       "3  541fde8b-8a55-46a9-b2b3-2445f06d3ba1  A Google user   \n",
       "4  fddb7ba9-54ca-410b-9707-247347d9ff98  A Google user   \n",
       "\n",
       "                                           userImage  \\\n",
       "0  https://play-lh.googleusercontent.com/EGemoI2N...   \n",
       "1  https://play-lh.googleusercontent.com/EGemoI2N...   \n",
       "2  https://play-lh.googleusercontent.com/EGemoI2N...   \n",
       "3  https://play-lh.googleusercontent.com/EGemoI2N...   \n",
       "4  https://play-lh.googleusercontent.com/EGemoI2N...   \n",
       "\n",
       "                                             content  score  thumbsUpCount  \\\n",
       "0                                               Fake      1              1   \n",
       "1  I h haven't received any responses yet I'm hav...      3              0   \n",
       "2  Scam. By the time you're (not) explaining how ...      1              0   \n",
       "3  On registration when I reach at stage of A qui...      3              0   \n",
       "4  Pay money to find out who likes you.frig off t...      1              2   \n",
       "\n",
       "  reviewCreatedVersion                   at  \\\n",
       "0              5.395.0  2024-11-23 23:41:33   \n",
       "1              5.395.0  2024-11-23 23:16:54   \n",
       "2              5.395.0  2024-11-23 23:01:39   \n",
       "3              5.395.0  2024-11-23 22:09:04   \n",
       "4              5.395.0  2024-11-23 21:47:56   \n",
       "\n",
       "                                        replyContent            repliedAt  \\\n",
       "0                                                NaN                  NaN   \n",
       "1  We're sorry to hear about your negative experi...  2024-11-24 08:45:30   \n",
       "2  We’re sorry your experience wasn’t positive, D...  2024-11-23 22:56:00   \n",
       "3  This shouldn't be happening and sounds like so...  2024-11-24 08:45:00   \n",
       "4  You don't need to spend any money to match wit...  2024-11-24 08:44:29   \n",
       "\n",
       "  appVersion  \n",
       "0    5.395.0  \n",
       "1    5.395.0  \n",
       "2    5.395.0  \n",
       "3    5.395.0  \n",
       "4    5.395.0  "
      ]
     },
     "execution_count": 29,
     "metadata": {},
     "output_type": "execute_result"
    }
   ],
   "source": [
    "bumble_reviews.head()"
   ]
  },
  {
   "cell_type": "code",
   "execution_count": 30,
   "id": "d7c05c7d",
   "metadata": {},
   "outputs": [
    {
     "name": "stdout",
     "output_type": "stream",
     "text": [
      "<class 'pandas.core.frame.DataFrame'>\n",
      "RangeIndex: 160112 entries, 0 to 160111\n",
      "Data columns (total 11 columns):\n",
      " #   Column                Non-Null Count   Dtype \n",
      "---  ------                --------------   ----- \n",
      " 0   reviewId              160112 non-null  object\n",
      " 1   userName              160112 non-null  object\n",
      " 2   userImage             160112 non-null  object\n",
      " 3   content               160096 non-null  object\n",
      " 4   score                 160112 non-null  int64 \n",
      " 5   thumbsUpCount         160112 non-null  int64 \n",
      " 6   reviewCreatedVersion  131806 non-null  object\n",
      " 7   at                    160112 non-null  object\n",
      " 8   replyContent          115013 non-null  object\n",
      " 9   repliedAt             115013 non-null  object\n",
      " 10  appVersion            131806 non-null  object\n",
      "dtypes: int64(2), object(9)\n",
      "memory usage: 13.4+ MB\n",
      "shape of the dataset -->> (160112, 11)\n"
     ]
    }
   ],
   "source": [
    "bumble_reviews.info()\n",
    "print(\"shape of the dataset -->>\",np.shape(bumble_reviews)) "
   ]
  },
  {
   "cell_type": "markdown",
   "id": "445c1f06",
   "metadata": {},
   "source": [
    "We gaan dezelfde stappen volgen als de vorige dataset: Tinder Reviews\n",
    "\n",
    "Opmerkingen van de dataset informatie: \n",
    "\n",
    "- De dtypes zijn de verkeerde dus we zullen op de correcte manier converteren\n",
    "- Het opsplitsen van Date&Time maakt het makkelijker om te analyseren of beoordelingen verbeteren over tijd, met specifieke datums en tijdstippen apart.\n",
    "- Onnodige kolommen verwijderen om de structuur van de dataset verebeteren voordat we de datasets aan elkaar brengen (mergen).\n",
    "\n",
    "We gaan eerst de datatypes wijzigen naar de correcte types:\n",
    "\n",
    "- Converteer reviewId naar string, omdat het is bestaat niet alleen uit cijfers maar ook letters. Het is puur als een identificator. \n",
    "- Converteer score en thumbsUpCount naar gehele getallen (int). \n",
    "- Converteer Date&Time (at) naar een datetime-object.\n",
    "- Zorg ervoor dat content en userName strings zijn.\n",
    "\n",
    "Daarna gaan we de Date & Time aan elkaar scheiding: \n",
    "- We gaan de kolom Date&Time in twee aparte kolommen opsplitsen : één voor de datum en één voor de tijd. Daarna verwijderen we de oorspronkelijke kolom Date&Time, omdat deze niet meer nodig is.\n",
    "\n",
    "Aan het eind we gaan de verschillende kolommen bekijken en daarna de onnodige kolommen verwijderen: \n",
    "\n",
    "- Waar ik kan nu zien, is dat er verschillende kolommen dat kan verwijder zijn: userImage, replyContent, repliedAt..."
   ]
  },
  {
   "cell_type": "code",
   "execution_count": 31,
   "id": "6a688aca",
   "metadata": {},
   "outputs": [],
   "source": [
    "# Convert reviewId and UserName to string type\n",
    "bumble_reviews['reviewId'] = bumble_reviews['reviewId'].astype('string')\n",
    "bumble_reviews['userName'] = bumble_reviews['userName'].astype('string')\n",
    "bumble_reviews['content'] = bumble_reviews['content'].astype('string')"
   ]
  },
  {
   "cell_type": "code",
   "execution_count": 32,
   "id": "da342284",
   "metadata": {},
   "outputs": [],
   "source": [
    "# Convert score and thumbsUpCount to int type\n",
    "bumble_reviews['score'] = bumble_reviews['score'].astype(int)\n",
    "bumble_reviews['thumbsUpCount'] = bumble_reviews['thumbsUpCount'].astype(int) "
   ]
  },
  {
   "cell_type": "code",
   "execution_count": 33,
   "id": "d043b3ec",
   "metadata": {},
   "outputs": [
    {
     "name": "stdout",
     "output_type": "stream",
     "text": [
      "<class 'pandas.core.frame.DataFrame'>\n",
      "RangeIndex: 160112 entries, 0 to 160111\n",
      "Data columns (total 11 columns):\n",
      " #   Column                Non-Null Count   Dtype \n",
      "---  ------                --------------   ----- \n",
      " 0   reviewId              160112 non-null  string\n",
      " 1   userName              160112 non-null  string\n",
      " 2   userImage             160112 non-null  object\n",
      " 3   content               160096 non-null  string\n",
      " 4   score                 160112 non-null  int32 \n",
      " 5   thumbsUpCount         160112 non-null  int32 \n",
      " 6   reviewCreatedVersion  131806 non-null  object\n",
      " 7   at                    160112 non-null  object\n",
      " 8   replyContent          115013 non-null  object\n",
      " 9   repliedAt             115013 non-null  object\n",
      " 10  appVersion            131806 non-null  object\n",
      "dtypes: int32(2), object(6), string(3)\n",
      "memory usage: 12.2+ MB\n"
     ]
    }
   ],
   "source": [
    "bumble_reviews.info()"
   ]
  },
  {
   "cell_type": "markdown",
   "id": "0c3d3f9b",
   "metadata": {},
   "source": [
    "# Date& Time opsplitsen"
   ]
  },
  {
   "cell_type": "code",
   "execution_count": 34,
   "id": "71ca9606",
   "metadata": {},
   "outputs": [],
   "source": [
    "bumble_reviews[\"Date\"] = pd.to_datetime(bumble_reviews['at'], format='%Y-%m-%d %H:%M:%S').dt.date"
   ]
  },
  {
   "cell_type": "code",
   "execution_count": 35,
   "id": "02927a21",
   "metadata": {},
   "outputs": [],
   "source": [
    "bumble_reviews[\"Time\"] = pd.to_datetime(bumble_reviews['at'], format='%Y-%m-%d %H:%M:%S').dt.time"
   ]
  },
  {
   "cell_type": "code",
   "execution_count": 36,
   "id": "ed2ee57a",
   "metadata": {},
   "outputs": [],
   "source": [
    "bumble_reviews = bumble_reviews.drop(\"at\",axis=1)"
   ]
  },
  {
   "cell_type": "code",
   "execution_count": 37,
   "id": "adb1bfed",
   "metadata": {},
   "outputs": [],
   "source": [
    "bumble_reviews[\"Date\"] = pd.to_datetime(bumble_reviews[\"Date\"])"
   ]
  },
  {
   "cell_type": "code",
   "execution_count": 38,
   "id": "f233f81b",
   "metadata": {},
   "outputs": [],
   "source": [
    "bumble_reviews[\"Time\"] = bumble_reviews[\"Time\"].astype(str)"
   ]
  },
  {
   "cell_type": "code",
   "execution_count": 39,
   "id": "53cd039d",
   "metadata": {},
   "outputs": [
    {
     "name": "stdout",
     "output_type": "stream",
     "text": [
      "<class 'pandas.core.frame.DataFrame'>\n",
      "RangeIndex: 160112 entries, 0 to 160111\n",
      "Data columns (total 12 columns):\n",
      " #   Column                Non-Null Count   Dtype         \n",
      "---  ------                --------------   -----         \n",
      " 0   reviewId              160112 non-null  string        \n",
      " 1   userName              160112 non-null  string        \n",
      " 2   userImage             160112 non-null  object        \n",
      " 3   content               160096 non-null  string        \n",
      " 4   score                 160112 non-null  int32         \n",
      " 5   thumbsUpCount         160112 non-null  int32         \n",
      " 6   reviewCreatedVersion  131806 non-null  object        \n",
      " 7   replyContent          115013 non-null  object        \n",
      " 8   repliedAt             115013 non-null  object        \n",
      " 9   appVersion            131806 non-null  object        \n",
      " 10  Date                  160112 non-null  datetime64[ns]\n",
      " 11  Time                  160112 non-null  object        \n",
      "dtypes: datetime64[ns](1), int32(2), object(6), string(3)\n",
      "memory usage: 13.4+ MB\n"
     ]
    }
   ],
   "source": [
    "bumble_reviews.info()"
   ]
  },
  {
   "cell_type": "code",
   "execution_count": 40,
   "id": "573be20c",
   "metadata": {},
   "outputs": [],
   "source": [
    "#Reorder columns in a way that is understanding\n",
    "new_column_order = ['reviewId', 'userName', 'userImage', 'content', 'score', 'thumbsUpCount', 'reviewCreatedVersion', 'Date', 'Time', 'replyContent', 'repliedAt', 'appVersion']\n",
    "bumble_reviews = bumble_reviews[new_column_order]"
   ]
  },
  {
   "cell_type": "code",
   "execution_count": 41,
   "id": "1cb8028c",
   "metadata": {},
   "outputs": [
    {
     "name": "stdout",
     "output_type": "stream",
     "text": [
      "Index(['reviewId', 'userName', 'userImage', 'content', 'score',\n",
      "       'thumbsUpCount', 'reviewCreatedVersion', 'Date', 'Time', 'replyContent',\n",
      "       'repliedAt', 'appVersion'],\n",
      "      dtype='object')\n"
     ]
    }
   ],
   "source": [
    "# Check if the order is corrected: \n",
    "print(bumble_reviews.columns)"
   ]
  },
  {
   "cell_type": "markdown",
   "id": "cd3676e5",
   "metadata": {},
   "source": [
    "# Kolommen vewijderen"
   ]
  },
  {
   "cell_type": "markdown",
   "id": "1572cff8",
   "metadata": {},
   "source": [
    "Volgende stap zou de kolommen dat NIET nodig zijn veranderen. We hebben alleen deze kolommen nodig om de volgende stap (sentiment analysis) doen: reviewId, userName, content, score, thumbsUpCount, reviewCreatedVersion, Date, appVersion."
   ]
  },
  {
   "cell_type": "code",
   "execution_count": 42,
   "id": "90ea396e",
   "metadata": {},
   "outputs": [],
   "source": [
    "# Onnodige kolommen verwijderen:\n",
    "bumble_reviews.drop(['userImage','reviewCreatedVersion',  'Time', 'replyContent', 'repliedAt', 'appVersion'], axis=1, inplace=True)"
   ]
  },
  {
   "cell_type": "code",
   "execution_count": 43,
   "id": "d3c3872e",
   "metadata": {},
   "outputs": [
    {
     "data": {
      "text/html": [
       "<div>\n",
       "<style scoped>\n",
       "    .dataframe tbody tr th:only-of-type {\n",
       "        vertical-align: middle;\n",
       "    }\n",
       "\n",
       "    .dataframe tbody tr th {\n",
       "        vertical-align: top;\n",
       "    }\n",
       "\n",
       "    .dataframe thead th {\n",
       "        text-align: right;\n",
       "    }\n",
       "</style>\n",
       "<table border=\"1\" class=\"dataframe\">\n",
       "  <thead>\n",
       "    <tr style=\"text-align: right;\">\n",
       "      <th></th>\n",
       "      <th>reviewId</th>\n",
       "      <th>userName</th>\n",
       "      <th>content</th>\n",
       "      <th>score</th>\n",
       "      <th>thumbsUpCount</th>\n",
       "      <th>Date</th>\n",
       "    </tr>\n",
       "  </thead>\n",
       "  <tbody>\n",
       "    <tr>\n",
       "      <th>0</th>\n",
       "      <td>395888dc-c8b0-457d-a91e-8a90caf2f2d3</td>\n",
       "      <td>A Google user</td>\n",
       "      <td>Fake</td>\n",
       "      <td>1</td>\n",
       "      <td>1</td>\n",
       "      <td>2024-11-23</td>\n",
       "    </tr>\n",
       "    <tr>\n",
       "      <th>1</th>\n",
       "      <td>ed4fcee5-8614-4d1a-98bf-ff22f7b3261a</td>\n",
       "      <td>A Google user</td>\n",
       "      <td>I h haven't received any responses yet I'm hav...</td>\n",
       "      <td>3</td>\n",
       "      <td>0</td>\n",
       "      <td>2024-11-23</td>\n",
       "    </tr>\n",
       "    <tr>\n",
       "      <th>2</th>\n",
       "      <td>4afcabd0-103d-47b9-a39a-b81554f556d2</td>\n",
       "      <td>A Google user</td>\n",
       "      <td>Scam. By the time you're (not) explaining how ...</td>\n",
       "      <td>1</td>\n",
       "      <td>0</td>\n",
       "      <td>2024-11-23</td>\n",
       "    </tr>\n",
       "    <tr>\n",
       "      <th>3</th>\n",
       "      <td>541fde8b-8a55-46a9-b2b3-2445f06d3ba1</td>\n",
       "      <td>A Google user</td>\n",
       "      <td>On registration when I reach at stage of A qui...</td>\n",
       "      <td>3</td>\n",
       "      <td>0</td>\n",
       "      <td>2024-11-23</td>\n",
       "    </tr>\n",
       "    <tr>\n",
       "      <th>4</th>\n",
       "      <td>fddb7ba9-54ca-410b-9707-247347d9ff98</td>\n",
       "      <td>A Google user</td>\n",
       "      <td>Pay money to find out who likes you.frig off t...</td>\n",
       "      <td>1</td>\n",
       "      <td>2</td>\n",
       "      <td>2024-11-23</td>\n",
       "    </tr>\n",
       "  </tbody>\n",
       "</table>\n",
       "</div>"
      ],
      "text/plain": [
       "                               reviewId       userName  \\\n",
       "0  395888dc-c8b0-457d-a91e-8a90caf2f2d3  A Google user   \n",
       "1  ed4fcee5-8614-4d1a-98bf-ff22f7b3261a  A Google user   \n",
       "2  4afcabd0-103d-47b9-a39a-b81554f556d2  A Google user   \n",
       "3  541fde8b-8a55-46a9-b2b3-2445f06d3ba1  A Google user   \n",
       "4  fddb7ba9-54ca-410b-9707-247347d9ff98  A Google user   \n",
       "\n",
       "                                             content  score  thumbsUpCount  \\\n",
       "0                                               Fake      1              1   \n",
       "1  I h haven't received any responses yet I'm hav...      3              0   \n",
       "2  Scam. By the time you're (not) explaining how ...      1              0   \n",
       "3  On registration when I reach at stage of A qui...      3              0   \n",
       "4  Pay money to find out who likes you.frig off t...      1              2   \n",
       "\n",
       "        Date  \n",
       "0 2024-11-23  \n",
       "1 2024-11-23  \n",
       "2 2024-11-23  \n",
       "3 2024-11-23  \n",
       "4 2024-11-23  "
      ]
     },
     "execution_count": 43,
     "metadata": {},
     "output_type": "execute_result"
    }
   ],
   "source": [
    "bumble_reviews.head()"
   ]
  },
  {
   "cell_type": "code",
   "execution_count": 44,
   "id": "044b9f75",
   "metadata": {},
   "outputs": [
    {
     "data": {
      "text/html": [
       "<div>\n",
       "<style scoped>\n",
       "    .dataframe tbody tr th:only-of-type {\n",
       "        vertical-align: middle;\n",
       "    }\n",
       "\n",
       "    .dataframe tbody tr th {\n",
       "        vertical-align: top;\n",
       "    }\n",
       "\n",
       "    .dataframe thead th {\n",
       "        text-align: right;\n",
       "    }\n",
       "</style>\n",
       "<table border=\"1\" class=\"dataframe\">\n",
       "  <thead>\n",
       "    <tr style=\"text-align: right;\">\n",
       "      <th></th>\n",
       "      <th>score</th>\n",
       "      <th>thumbsUpCount</th>\n",
       "    </tr>\n",
       "  </thead>\n",
       "  <tbody>\n",
       "    <tr>\n",
       "      <th>count</th>\n",
       "      <td>160112.000000</td>\n",
       "      <td>160112.000000</td>\n",
       "    </tr>\n",
       "    <tr>\n",
       "      <th>mean</th>\n",
       "      <td>2.619454</td>\n",
       "      <td>3.127854</td>\n",
       "    </tr>\n",
       "    <tr>\n",
       "      <th>std</th>\n",
       "      <td>1.714390</td>\n",
       "      <td>30.123608</td>\n",
       "    </tr>\n",
       "    <tr>\n",
       "      <th>min</th>\n",
       "      <td>1.000000</td>\n",
       "      <td>0.000000</td>\n",
       "    </tr>\n",
       "    <tr>\n",
       "      <th>25%</th>\n",
       "      <td>1.000000</td>\n",
       "      <td>0.000000</td>\n",
       "    </tr>\n",
       "    <tr>\n",
       "      <th>50%</th>\n",
       "      <td>2.000000</td>\n",
       "      <td>0.000000</td>\n",
       "    </tr>\n",
       "    <tr>\n",
       "      <th>75%</th>\n",
       "      <td>5.000000</td>\n",
       "      <td>1.000000</td>\n",
       "    </tr>\n",
       "    <tr>\n",
       "      <th>max</th>\n",
       "      <td>5.000000</td>\n",
       "      <td>3767.000000</td>\n",
       "    </tr>\n",
       "  </tbody>\n",
       "</table>\n",
       "</div>"
      ],
      "text/plain": [
       "               score  thumbsUpCount\n",
       "count  160112.000000  160112.000000\n",
       "mean        2.619454       3.127854\n",
       "std         1.714390      30.123608\n",
       "min         1.000000       0.000000\n",
       "25%         1.000000       0.000000\n",
       "50%         2.000000       0.000000\n",
       "75%         5.000000       1.000000\n",
       "max         5.000000    3767.000000"
      ]
     },
     "execution_count": 44,
     "metadata": {},
     "output_type": "execute_result"
    }
   ],
   "source": [
    "# We gaan alleen de numerieke nummers dtypes van de describe tabel zien. \n",
    "bumble_reviews.describe(include=[np.number])"
   ]
  },
  {
   "cell_type": "code",
   "execution_count": 45,
   "id": "84c1d6e4",
   "metadata": {
    "scrolled": true
   },
   "outputs": [
    {
     "data": {
      "text/html": [
       "<div>\n",
       "<style scoped>\n",
       "    .dataframe tbody tr th:only-of-type {\n",
       "        vertical-align: middle;\n",
       "    }\n",
       "\n",
       "    .dataframe tbody tr th {\n",
       "        vertical-align: top;\n",
       "    }\n",
       "\n",
       "    .dataframe thead th {\n",
       "        text-align: right;\n",
       "    }\n",
       "</style>\n",
       "<table border=\"1\" class=\"dataframe\">\n",
       "  <thead>\n",
       "    <tr style=\"text-align: right;\">\n",
       "      <th></th>\n",
       "      <th>reviewId</th>\n",
       "      <th>userName</th>\n",
       "      <th>content</th>\n",
       "      <th>score</th>\n",
       "      <th>thumbsUpCount</th>\n",
       "      <th>Date</th>\n",
       "    </tr>\n",
       "  </thead>\n",
       "  <tbody>\n",
       "    <tr>\n",
       "      <th>160107</th>\n",
       "      <td>61bc7cdc-3085-4631-ac95-d8e42e2e0742</td>\n",
       "      <td>A Google user</td>\n",
       "      <td>Finally here!</td>\n",
       "      <td>5</td>\n",
       "      <td>54</td>\n",
       "      <td>2015-12-01</td>\n",
       "    </tr>\n",
       "    <tr>\n",
       "      <th>160108</th>\n",
       "      <td>24d07489-88ad-496a-80ce-8f137c130323</td>\n",
       "      <td>A Google user</td>\n",
       "      <td>Finally!</td>\n",
       "      <td>5</td>\n",
       "      <td>75</td>\n",
       "      <td>2015-12-01</td>\n",
       "    </tr>\n",
       "    <tr>\n",
       "      <th>160109</th>\n",
       "      <td>22a42d0d-7a12-400d-a2af-826f35d21581</td>\n",
       "      <td>A Google user</td>\n",
       "      <td>Finally, an app where women have to start the ...</td>\n",
       "      <td>4</td>\n",
       "      <td>2</td>\n",
       "      <td>2015-12-01</td>\n",
       "    </tr>\n",
       "    <tr>\n",
       "      <th>160110</th>\n",
       "      <td>2480a41f-8863-4948-9f83-7d856bd9dc78</td>\n",
       "      <td>A Google user</td>\n",
       "      <td>At last we have Android version!</td>\n",
       "      <td>5</td>\n",
       "      <td>60</td>\n",
       "      <td>2015-11-30</td>\n",
       "    </tr>\n",
       "    <tr>\n",
       "      <th>160111</th>\n",
       "      <td>6ebb270a-3b4b-4ff5-b98c-8899dcfd40ee</td>\n",
       "      <td>A Google user</td>\n",
       "      <td>Nice and smooth.</td>\n",
       "      <td>5</td>\n",
       "      <td>52</td>\n",
       "      <td>2015-11-29</td>\n",
       "    </tr>\n",
       "  </tbody>\n",
       "</table>\n",
       "</div>"
      ],
      "text/plain": [
       "                                    reviewId       userName  \\\n",
       "160107  61bc7cdc-3085-4631-ac95-d8e42e2e0742  A Google user   \n",
       "160108  24d07489-88ad-496a-80ce-8f137c130323  A Google user   \n",
       "160109  22a42d0d-7a12-400d-a2af-826f35d21581  A Google user   \n",
       "160110  2480a41f-8863-4948-9f83-7d856bd9dc78  A Google user   \n",
       "160111  6ebb270a-3b4b-4ff5-b98c-8899dcfd40ee  A Google user   \n",
       "\n",
       "                                                  content  score  \\\n",
       "160107                                      Finally here!      5   \n",
       "160108                                           Finally!      5   \n",
       "160109  Finally, an app where women have to start the ...      4   \n",
       "160110                   At last we have Android version!      5   \n",
       "160111                                   Nice and smooth.      5   \n",
       "\n",
       "        thumbsUpCount       Date  \n",
       "160107             54 2015-12-01  \n",
       "160108             75 2015-12-01  \n",
       "160109              2 2015-12-01  \n",
       "160110             60 2015-11-30  \n",
       "160111             52 2015-11-29  "
      ]
     },
     "execution_count": 45,
     "metadata": {},
     "output_type": "execute_result"
    }
   ],
   "source": [
    "bumble_reviews.tail()"
   ]
  },
  {
   "cell_type": "markdown",
   "id": "d61982a4",
   "metadata": {},
   "source": [
    "# 🧼Cleaning Bumble Reviews"
   ]
  },
  {
   "cell_type": "markdown",
   "id": "cfa5755b",
   "metadata": {},
   "source": [
    "In deze stap zullen we de null warden vervangen en duplicates verwijderen. "
   ]
  },
  {
   "cell_type": "code",
   "execution_count": 46,
   "id": "c27de71e",
   "metadata": {},
   "outputs": [
    {
     "name": "stdout",
     "output_type": "stream",
     "text": [
      "reviewId          0\n",
      "userName          0\n",
      "content          16\n",
      "score             0\n",
      "thumbsUpCount     0\n",
      "Date              0\n",
      "dtype: int64\n"
     ]
    }
   ],
   "source": [
    "# Check non-null values for each column\n",
    "print(bumble_reviews.isnull().sum())"
   ]
  },
  {
   "cell_type": "code",
   "execution_count": 47,
   "id": "3da51237",
   "metadata": {},
   "outputs": [],
   "source": [
    "# Handle null values in 'content'\n",
    "bumble_reviews = bumble_reviews.dropna(subset=['content'])"
   ]
  },
  {
   "cell_type": "code",
   "execution_count": 48,
   "id": "4321e312",
   "metadata": {},
   "outputs": [
    {
     "name": "stdout",
     "output_type": "stream",
     "text": [
      "reviewId         0\n",
      "userName         0\n",
      "content          0\n",
      "score            0\n",
      "thumbsUpCount    0\n",
      "Date             0\n",
      "dtype: int64\n"
     ]
    }
   ],
   "source": [
    "# Verify if null values are replaced\n",
    "print(bumble_reviews.isnull().sum())"
   ]
  },
  {
   "cell_type": "code",
   "execution_count": 49,
   "id": "ca22ecff",
   "metadata": {
    "scrolled": true
   },
   "outputs": [
    {
     "name": "stdout",
     "output_type": "stream",
     "text": [
      "0\n"
     ]
    }
   ],
   "source": [
    "# Controleer op duplicaten\n",
    "print(bumble_reviews.duplicated().sum())# Controleer op duplicaten"
   ]
  },
  {
   "cell_type": "markdown",
   "id": "25fd08e4",
   "metadata": {},
   "source": [
    "# Visualisaties Bumble Reviews"
   ]
  },
  {
   "cell_type": "markdown",
   "id": "88198722",
   "metadata": {},
   "source": [
    "# 1. Verdeling van scores"
   ]
  },
  {
   "cell_type": "code",
   "execution_count": 99,
   "id": "7c9992c7",
   "metadata": {
    "scrolled": true
   },
   "outputs": [
    {
     "data": {
      "image/png": "[encoded data removed]",
      "text/plain": [
       "<Figure size 800x600 with 1 Axes>"
      ]
     },
     "metadata": {},
     "output_type": "display_data"
    }
   ],
   "source": [
    "# Histogram for the 'score' column om de distrubutie van scores\n",
    "plt.figure(figsize=(8, 6))\n",
    "plt.hist(bumble_reviews['score'], bins=5,color= 'yellow', edgecolor='black', alpha=0.7)\n",
    "plt.title('Distribution of Scores')\n",
    "plt.xlabel('Score')\n",
    "plt.ylabel('Frequency')\n",
    "plt.show()"
   ]
  },
  {
   "cell_type": "markdown",
   "id": "d8b9d1d2",
   "metadata": {},
   "source": [
    "De eerste visualisatie toont dat de scores sterk gepolariseerd zijn. De meeste gebruikers geven een score van 1 of 5, wat suggereert dat gebruikers ofwel erg ontevreden of juist erg tevreden zijn over hun ervaring. Dit wijst op een duidelijke verdeeldheid in de ervaringen van gebruikers, waarbij er weinig neutrale beoordelingen zijn."
   ]
  },
  {
   "cell_type": "markdown",
   "id": "85128c0d",
   "metadata": {},
   "source": [
    "# 2. Gemiddeld Aantal Duimen Omhoog per Score"
   ]
  },
  {
   "cell_type": "code",
   "execution_count": 101,
   "id": "311f4166",
   "metadata": {
    "scrolled": true
   },
   "outputs": [
    {
     "data": {
      "image/png": "[encoded data removed]",
      "text/plain": [
       "<Figure size 800x600 with 1 Axes>"
      ]
     },
     "metadata": {},
     "output_type": "display_data"
    }
   ],
   "source": [
    "# Bar Chart for Average Thumbs Up Count per Score\n",
    "avg_thumbs_up = bumble_reviews.groupby('score')['thumbsUpCount'].mean()\n",
    "plt.figure(figsize=(8, 6))\n",
    "avg_thumbs_up.plot(kind='bar', color='orange')\n",
    "plt.title('Average Thumbs Up Count per Score')\n",
    "plt.xlabel('Score')\n",
    "plt.ylabel('Average Thumbs Up Count')\n",
    "plt.xticks(rotation=0)\n",
    "plt.show()"
   ]
  },
  {
   "cell_type": "markdown",
   "id": "21dfc466",
   "metadata": {},
   "source": [
    "De tweede grafiek laat zien dat beoordelingen met lagere scores, zoals 1 en 2, gemiddeld meer thumbs-ups ontvangen. Dit betekent dat negatieve beoordelingen meer interactie of betrokkenheid genereren van andere gebruikers, waarschijnlijk omdat deze als nuttiger of herkenbaarder worden beschouwd."
   ]
  },
  {
   "cell_type": "markdown",
   "id": "5302b0c1",
   "metadata": {},
   "source": [
    "# 3. Aantal Reviews in de Tijd"
   ]
  },
  {
   "cell_type": "code",
   "execution_count": 105,
   "id": "285b228a",
   "metadata": {
    "scrolled": true
   },
   "outputs": [
    {
     "data": {
      "image/png": "[encoded data removed]",
      "text/plain": [
       "<Figure size 1200x600 with 1 Axes>"
      ]
     },
     "metadata": {},
     "output_type": "display_data"
    }
   ],
   "source": [
    "# Reviews Over Time\n",
    "bumble_reviews['Date'] = pd.to_datetime(bumble_reviews['Date'])\n",
    "daily_reviews = bumble_reviews.groupby(bumble_reviews['Date'].dt.date).size()\n",
    "\n",
    "plt.figure(figsize=(12, 6))\n",
    "daily_reviews.plot(kind='line', color='purple')\n",
    "plt.title('Number of Reviews Over Time')\n",
    "plt.xlabel('Date')\n",
    "plt.ylabel('Number of Reviews')\n",
    "plt.grid(True)\n",
    "plt.show()\n"
   ]
  },
  {
   "cell_type": "markdown",
   "id": "b0b77286",
   "metadata": {},
   "source": [
    "De derde visualisatie toont een tijdlijn van reviews, waarin een piek in activiteit zichtbaar is rond 2018. Na die piek is er een geleidelijke afname in het aantal reviews, met enkele fluctuaties in latere jaren. Dit kan wijzen op een daling in de populariteit van de app of een verandering in het gedrag van gebruikers om feedback te geven. De recente pieken kunnen te maken hebben met specifieke gebeurtenissen of marketingcampagnes."
   ]
  },
  {
   "cell_type": "markdown",
   "id": "f7342d12",
   "metadata": {},
   "source": [
    "# Conclusie"
   ]
  },
  {
   "cell_type": "markdown",
   "id": "c24249e7",
   "metadata": {},
   "source": [
    "Net als bij de andere Tinder-reviewsdataset kunnen we concluderen dat ook deze dataset geschikt is voor verdere analyse. Na het uitvoeren van de EDA hebben we vastgesteld dat er geen ontbrekende waarden (NaN) zijn, de datastructuur goed is georganiseerd, en dat alle benodigde informatie aanwezig is om door te gaan met de sentimentanalyse en verder in te zoomen op de inhoud van de beoordelingen."
   ]
  },
  {
   "cell_type": "markdown",
   "id": "95163974",
   "metadata": {},
   "source": [
    "Daarna gaan we met de EDA & Cleaning van de andere datase: Hinge Reviews"
   ]
  },
  {
   "cell_type": "markdown",
   "id": "a5935e60",
   "metadata": {},
   "source": [
    "# Hinge Reviews EDA"
   ]
  },
  {
   "cell_type": "code",
   "execution_count": 50,
   "id": "91620af3",
   "metadata": {},
   "outputs": [
    {
     "data": {
      "text/html": [
       "<div>\n",
       "<style scoped>\n",
       "    .dataframe tbody tr th:only-of-type {\n",
       "        vertical-align: middle;\n",
       "    }\n",
       "\n",
       "    .dataframe tbody tr th {\n",
       "        vertical-align: top;\n",
       "    }\n",
       "\n",
       "    .dataframe thead th {\n",
       "        text-align: right;\n",
       "    }\n",
       "</style>\n",
       "<table border=\"1\" class=\"dataframe\">\n",
       "  <thead>\n",
       "    <tr style=\"text-align: right;\">\n",
       "      <th></th>\n",
       "      <th>reviewId</th>\n",
       "      <th>userName</th>\n",
       "      <th>userImage</th>\n",
       "      <th>content</th>\n",
       "      <th>score</th>\n",
       "      <th>thumbsUpCount</th>\n",
       "      <th>reviewCreatedVersion</th>\n",
       "      <th>at</th>\n",
       "      <th>replyContent</th>\n",
       "      <th>repliedAt</th>\n",
       "      <th>appVersion</th>\n",
       "    </tr>\n",
       "  </thead>\n",
       "  <tbody>\n",
       "    <tr>\n",
       "      <th>0</th>\n",
       "      <td>5cd19a5f-b6b8-4298-87ea-d97116d7499c</td>\n",
       "      <td>A Google user</td>\n",
       "      <td>https://play-lh.googleusercontent.com/EGemoI2N...</td>\n",
       "      <td>biased app</td>\n",
       "      <td>1</td>\n",
       "      <td>4</td>\n",
       "      <td>9.62.0</td>\n",
       "      <td>2024-11-23 23:59:27</td>\n",
       "      <td>NaN</td>\n",
       "      <td>NaN</td>\n",
       "      <td>9.62.0</td>\n",
       "    </tr>\n",
       "    <tr>\n",
       "      <th>1</th>\n",
       "      <td>5579b219-854f-4b41-a360-16f7e7c48005</td>\n",
       "      <td>A Google user</td>\n",
       "      <td>https://play-lh.googleusercontent.com/EGemoI2N...</td>\n",
       "      <td>Women be trippin 🤷</td>\n",
       "      <td>1</td>\n",
       "      <td>0</td>\n",
       "      <td>9.62.0</td>\n",
       "      <td>2024-11-23 23:36:35</td>\n",
       "      <td>NaN</td>\n",
       "      <td>NaN</td>\n",
       "      <td>9.62.0</td>\n",
       "    </tr>\n",
       "    <tr>\n",
       "      <th>2</th>\n",
       "      <td>391d871a-d162-421b-8188-65ba1dc3e16f</td>\n",
       "      <td>A Google user</td>\n",
       "      <td>https://play-lh.googleusercontent.com/EGemoI2N...</td>\n",
       "      <td>\"the app designed to be deleted\" because it's ...</td>\n",
       "      <td>1</td>\n",
       "      <td>1</td>\n",
       "      <td>9.62.0</td>\n",
       "      <td>2024-11-23 22:41:52</td>\n",
       "      <td>NaN</td>\n",
       "      <td>NaN</td>\n",
       "      <td>9.62.0</td>\n",
       "    </tr>\n",
       "    <tr>\n",
       "      <th>3</th>\n",
       "      <td>789decfb-37ec-4f4b-bf93-ae372256568c</td>\n",
       "      <td>A Google user</td>\n",
       "      <td>https://play-lh.googleusercontent.com/EGemoI2N...</td>\n",
       "      <td>Happy to take your money and no matter how you...</td>\n",
       "      <td>1</td>\n",
       "      <td>0</td>\n",
       "      <td>9.62.0</td>\n",
       "      <td>2024-11-23 22:21:52</td>\n",
       "      <td>NaN</td>\n",
       "      <td>NaN</td>\n",
       "      <td>9.62.0</td>\n",
       "    </tr>\n",
       "    <tr>\n",
       "      <th>4</th>\n",
       "      <td>bf0bd8ce-a5b6-419a-b452-ea0bc71e7bc2</td>\n",
       "      <td>A Google user</td>\n",
       "      <td>https://play-lh.googleusercontent.com/EGemoI2N...</td>\n",
       "      <td>Dumpster fire. basically useless without paying</td>\n",
       "      <td>1</td>\n",
       "      <td>0</td>\n",
       "      <td>9.62.0</td>\n",
       "      <td>2024-11-23 22:05:57</td>\n",
       "      <td>NaN</td>\n",
       "      <td>NaN</td>\n",
       "      <td>9.62.0</td>\n",
       "    </tr>\n",
       "  </tbody>\n",
       "</table>\n",
       "</div>"
      ],
      "text/plain": [
       "                               reviewId       userName  \\\n",
       "0  5cd19a5f-b6b8-4298-87ea-d97116d7499c  A Google user   \n",
       "1  5579b219-854f-4b41-a360-16f7e7c48005  A Google user   \n",
       "2  391d871a-d162-421b-8188-65ba1dc3e16f  A Google user   \n",
       "3  789decfb-37ec-4f4b-bf93-ae372256568c  A Google user   \n",
       "4  bf0bd8ce-a5b6-419a-b452-ea0bc71e7bc2  A Google user   \n",
       "\n",
       "                                           userImage  \\\n",
       "0  https://play-lh.googleusercontent.com/EGemoI2N...   \n",
       "1  https://play-lh.googleusercontent.com/EGemoI2N...   \n",
       "2  https://play-lh.googleusercontent.com/EGemoI2N...   \n",
       "3  https://play-lh.googleusercontent.com/EGemoI2N...   \n",
       "4  https://play-lh.googleusercontent.com/EGemoI2N...   \n",
       "\n",
       "                                             content  score  thumbsUpCount  \\\n",
       "0                                         biased app      1              4   \n",
       "1                                 Women be trippin 🤷      1              0   \n",
       "2  \"the app designed to be deleted\" because it's ...      1              1   \n",
       "3  Happy to take your money and no matter how you...      1              0   \n",
       "4    Dumpster fire. basically useless without paying      1              0   \n",
       "\n",
       "  reviewCreatedVersion                   at replyContent repliedAt appVersion  \n",
       "0               9.62.0  2024-11-23 23:59:27          NaN       NaN     9.62.0  \n",
       "1               9.62.0  2024-11-23 23:36:35          NaN       NaN     9.62.0  \n",
       "2               9.62.0  2024-11-23 22:41:52          NaN       NaN     9.62.0  \n",
       "3               9.62.0  2024-11-23 22:21:52          NaN       NaN     9.62.0  \n",
       "4               9.62.0  2024-11-23 22:05:57          NaN       NaN     9.62.0  "
      ]
     },
     "execution_count": 50,
     "metadata": {},
     "output_type": "execute_result"
    }
   ],
   "source": [
    "hinge_reviews.head()"
   ]
  },
  {
   "cell_type": "code",
   "execution_count": 51,
   "id": "6f964e6b",
   "metadata": {},
   "outputs": [
    {
     "name": "stdout",
     "output_type": "stream",
     "text": [
      "<class 'pandas.core.frame.DataFrame'>\n",
      "RangeIndex: 73418 entries, 0 to 73417\n",
      "Data columns (total 11 columns):\n",
      " #   Column                Non-Null Count  Dtype \n",
      "---  ------                --------------  ----- \n",
      " 0   reviewId              73418 non-null  object\n",
      " 1   userName              73418 non-null  object\n",
      " 2   userImage             73418 non-null  object\n",
      " 3   content               73411 non-null  object\n",
      " 4   score                 73418 non-null  int64 \n",
      " 5   thumbsUpCount         73418 non-null  int64 \n",
      " 6   reviewCreatedVersion  61804 non-null  object\n",
      " 7   at                    73418 non-null  object\n",
      " 8   replyContent          1207 non-null   object\n",
      " 9   repliedAt             1207 non-null   object\n",
      " 10  appVersion            61804 non-null  object\n",
      "dtypes: int64(2), object(9)\n",
      "memory usage: 6.2+ MB\n",
      "shape of the dataset -->> (73418, 11)\n"
     ]
    }
   ],
   "source": [
    "hinge_reviews.info()\n",
    "print(\"shape of the dataset -->>\",np.shape(hinge_reviews)) "
   ]
  },
  {
   "cell_type": "markdown",
   "id": "c1b49acc",
   "metadata": {},
   "source": [
    "We gaan dezelfde stappen volgen als de vorige dataset: Bumble Reviews\n",
    "\n",
    "Opmerkingen van de dataset informatie: \n",
    "\n",
    "- De dtypes zijn de verkeerde dus we zullen op de correcte manier converteren\n",
    "- Het opsplitsen van Date&Time maakt het makkelijker om te analyseren of beoordelingen verbeteren over tijd, met specifieke datums en tijdstippen apart.\n",
    "- Onnodige kolommen verwijderen om de structuur van de dataset verebeteren voordat we de datasets aan elkaar brengen (mergen).\n",
    "\n",
    "We gaan eerst de datatypes wijzigen naar de correcte types:\n",
    "\n",
    "- Converteer reviewId naar string, omdat het is bestaat niet alleen uit cijfers maar ook letters. Het is puur als een identificator. \n",
    "- Converteer score en thumbsUpCount naar gehele getallen (int). \n",
    "- Converteer Date&Time (at) naar een datetime-object.\n",
    "- Zorg ervoor dat content en userName strings zijn.\n",
    "\n",
    "Daarna gaan we de Date & Time aan elkaar scheiding: \n",
    "- We gaan de kolom Date&Time in twee aparte kolommen opsplitsen : één voor de datum en één voor de tijd. Daarna verwijderen we de oorspronkelijke kolom Date&Time, omdat deze niet meer nodig is.\n",
    "\n",
    "Aan het eind we gaan de verschillende kolommen bekijken en daarna de onnodige kolommen verwijderen: \n",
    "\n",
    "- Waar ik kan nu zien, is dat er verschillende kolommen dat kan verwijder zijn: userImage, replyContent, repliedAt..."
   ]
  },
  {
   "cell_type": "code",
   "execution_count": 52,
   "id": "b2056b52",
   "metadata": {},
   "outputs": [],
   "source": [
    "# Convert reviewId and UserName to string type\n",
    "hinge_reviews['reviewId'] = hinge_reviews['reviewId'].astype('string')\n",
    "hinge_reviews['userName'] = hinge_reviews['userName'].astype('string')\n",
    "hinge_reviews['content'] = hinge_reviews['content'].astype('string')"
   ]
  },
  {
   "cell_type": "code",
   "execution_count": 53,
   "id": "313d9df4",
   "metadata": {},
   "outputs": [],
   "source": [
    "# Convert score and thumbsUpCount to int type\n",
    "hinge_reviews['score'] = hinge_reviews['score'].astype(int)\n",
    "hinge_reviews['thumbsUpCount'] = hinge_reviews['thumbsUpCount'].astype(int) "
   ]
  },
  {
   "cell_type": "code",
   "execution_count": 54,
   "id": "fb2013e6",
   "metadata": {},
   "outputs": [
    {
     "name": "stdout",
     "output_type": "stream",
     "text": [
      "<class 'pandas.core.frame.DataFrame'>\n",
      "RangeIndex: 73418 entries, 0 to 73417\n",
      "Data columns (total 11 columns):\n",
      " #   Column                Non-Null Count  Dtype \n",
      "---  ------                --------------  ----- \n",
      " 0   reviewId              73418 non-null  string\n",
      " 1   userName              73418 non-null  string\n",
      " 2   userImage             73418 non-null  object\n",
      " 3   content               73411 non-null  string\n",
      " 4   score                 73418 non-null  int32 \n",
      " 5   thumbsUpCount         73418 non-null  int32 \n",
      " 6   reviewCreatedVersion  61804 non-null  object\n",
      " 7   at                    73418 non-null  object\n",
      " 8   replyContent          1207 non-null   object\n",
      " 9   repliedAt             1207 non-null   object\n",
      " 10  appVersion            61804 non-null  object\n",
      "dtypes: int32(2), object(6), string(3)\n",
      "memory usage: 5.6+ MB\n"
     ]
    }
   ],
   "source": [
    "hinge_reviews.info()"
   ]
  },
  {
   "cell_type": "markdown",
   "id": "9b79933c",
   "metadata": {},
   "source": [
    "# Date&Time opsplitsen"
   ]
  },
  {
   "cell_type": "code",
   "execution_count": 55,
   "id": "5def3676",
   "metadata": {},
   "outputs": [],
   "source": [
    "hinge_reviews[\"Date\"] = pd.to_datetime(hinge_reviews['at'], format='%Y-%m-%d %H:%M:%S').dt.date"
   ]
  },
  {
   "cell_type": "code",
   "execution_count": 56,
   "id": "84dd6772",
   "metadata": {},
   "outputs": [],
   "source": [
    "hinge_reviews[\"Time\"] = pd.to_datetime(hinge_reviews['at'], format='%Y-%m-%d %H:%M:%S').dt.time"
   ]
  },
  {
   "cell_type": "code",
   "execution_count": 57,
   "id": "4876f1d4",
   "metadata": {},
   "outputs": [],
   "source": [
    "hinge_reviews = hinge_reviews.drop(\"at\",axis=1)"
   ]
  },
  {
   "cell_type": "code",
   "execution_count": 58,
   "id": "190163bf",
   "metadata": {},
   "outputs": [],
   "source": [
    "hinge_reviews[\"Date\"] = pd.to_datetime(hinge_reviews[\"Date\"])"
   ]
  },
  {
   "cell_type": "code",
   "execution_count": 59,
   "id": "ba0d611f",
   "metadata": {},
   "outputs": [],
   "source": [
    "hinge_reviews[\"Time\"] = hinge_reviews[\"Time\"].astype(str)"
   ]
  },
  {
   "cell_type": "code",
   "execution_count": 60,
   "id": "b17a8417",
   "metadata": {},
   "outputs": [
    {
     "name": "stdout",
     "output_type": "stream",
     "text": [
      "<class 'pandas.core.frame.DataFrame'>\n",
      "RangeIndex: 73418 entries, 0 to 73417\n",
      "Data columns (total 12 columns):\n",
      " #   Column                Non-Null Count  Dtype         \n",
      "---  ------                --------------  -----         \n",
      " 0   reviewId              73418 non-null  string        \n",
      " 1   userName              73418 non-null  string        \n",
      " 2   userImage             73418 non-null  object        \n",
      " 3   content               73411 non-null  string        \n",
      " 4   score                 73418 non-null  int32         \n",
      " 5   thumbsUpCount         73418 non-null  int32         \n",
      " 6   reviewCreatedVersion  61804 non-null  object        \n",
      " 7   replyContent          1207 non-null   object        \n",
      " 8   repliedAt             1207 non-null   object        \n",
      " 9   appVersion            61804 non-null  object        \n",
      " 10  Date                  73418 non-null  datetime64[ns]\n",
      " 11  Time                  73418 non-null  object        \n",
      "dtypes: datetime64[ns](1), int32(2), object(6), string(3)\n",
      "memory usage: 6.2+ MB\n"
     ]
    }
   ],
   "source": [
    "hinge_reviews.info()"
   ]
  },
  {
   "cell_type": "code",
   "execution_count": 61,
   "id": "3c1c5630",
   "metadata": {},
   "outputs": [],
   "source": [
    "#Reorder columns in a way that is understanding\n",
    "new_column_order = ['reviewId', 'userName', 'userImage', 'content', 'score', 'thumbsUpCount', 'reviewCreatedVersion', 'Date', 'Time', 'replyContent', 'repliedAt', 'appVersion']\n",
    "hinge_reviews = hinge_reviews[new_column_order]"
   ]
  },
  {
   "cell_type": "code",
   "execution_count": 62,
   "id": "6dbccbb9",
   "metadata": {},
   "outputs": [
    {
     "name": "stdout",
     "output_type": "stream",
     "text": [
      "Index(['reviewId', 'userName', 'userImage', 'content', 'score',\n",
      "       'thumbsUpCount', 'reviewCreatedVersion', 'Date', 'Time', 'replyContent',\n",
      "       'repliedAt', 'appVersion'],\n",
      "      dtype='object')\n"
     ]
    }
   ],
   "source": [
    "# Check if the order is corrected: \n",
    "print(hinge_reviews.columns)"
   ]
  },
  {
   "cell_type": "markdown",
   "id": "bddb2f42",
   "metadata": {},
   "source": [
    "# Kolommen vewijderen"
   ]
  },
  {
   "cell_type": "markdown",
   "id": "3055abcd",
   "metadata": {},
   "source": [
    "Volgende stap zou de kolommen dat NIET nodig zijn veranderen. We hebben alleen deze kolommen nodig om de volgende stap (sentiment analysis) doen: reviewId, userName, content, score, thumbsUpCount, reviewCreatedVersion, Date, appVersion."
   ]
  },
  {
   "cell_type": "code",
   "execution_count": 63,
   "id": "fe524c1a",
   "metadata": {},
   "outputs": [],
   "source": [
    "# Onnodige kolommen verwijderen:\n",
    "hinge_reviews.drop(['userImage','reviewCreatedVersion',  'Time', 'replyContent', 'repliedAt', 'appVersion'], axis=1, inplace=True)"
   ]
  },
  {
   "cell_type": "code",
   "execution_count": 64,
   "id": "ebf95665",
   "metadata": {
    "scrolled": true
   },
   "outputs": [
    {
     "data": {
      "text/html": [
       "<div>\n",
       "<style scoped>\n",
       "    .dataframe tbody tr th:only-of-type {\n",
       "        vertical-align: middle;\n",
       "    }\n",
       "\n",
       "    .dataframe tbody tr th {\n",
       "        vertical-align: top;\n",
       "    }\n",
       "\n",
       "    .dataframe thead th {\n",
       "        text-align: right;\n",
       "    }\n",
       "</style>\n",
       "<table border=\"1\" class=\"dataframe\">\n",
       "  <thead>\n",
       "    <tr style=\"text-align: right;\">\n",
       "      <th></th>\n",
       "      <th>reviewId</th>\n",
       "      <th>userName</th>\n",
       "      <th>content</th>\n",
       "      <th>score</th>\n",
       "      <th>thumbsUpCount</th>\n",
       "      <th>Date</th>\n",
       "    </tr>\n",
       "  </thead>\n",
       "  <tbody>\n",
       "    <tr>\n",
       "      <th>0</th>\n",
       "      <td>5cd19a5f-b6b8-4298-87ea-d97116d7499c</td>\n",
       "      <td>A Google user</td>\n",
       "      <td>biased app</td>\n",
       "      <td>1</td>\n",
       "      <td>4</td>\n",
       "      <td>2024-11-23</td>\n",
       "    </tr>\n",
       "    <tr>\n",
       "      <th>1</th>\n",
       "      <td>5579b219-854f-4b41-a360-16f7e7c48005</td>\n",
       "      <td>A Google user</td>\n",
       "      <td>Women be trippin 🤷</td>\n",
       "      <td>1</td>\n",
       "      <td>0</td>\n",
       "      <td>2024-11-23</td>\n",
       "    </tr>\n",
       "    <tr>\n",
       "      <th>2</th>\n",
       "      <td>391d871a-d162-421b-8188-65ba1dc3e16f</td>\n",
       "      <td>A Google user</td>\n",
       "      <td>\"the app designed to be deleted\" because it's ...</td>\n",
       "      <td>1</td>\n",
       "      <td>1</td>\n",
       "      <td>2024-11-23</td>\n",
       "    </tr>\n",
       "    <tr>\n",
       "      <th>3</th>\n",
       "      <td>789decfb-37ec-4f4b-bf93-ae372256568c</td>\n",
       "      <td>A Google user</td>\n",
       "      <td>Happy to take your money and no matter how you...</td>\n",
       "      <td>1</td>\n",
       "      <td>0</td>\n",
       "      <td>2024-11-23</td>\n",
       "    </tr>\n",
       "    <tr>\n",
       "      <th>4</th>\n",
       "      <td>bf0bd8ce-a5b6-419a-b452-ea0bc71e7bc2</td>\n",
       "      <td>A Google user</td>\n",
       "      <td>Dumpster fire. basically useless without paying</td>\n",
       "      <td>1</td>\n",
       "      <td>0</td>\n",
       "      <td>2024-11-23</td>\n",
       "    </tr>\n",
       "  </tbody>\n",
       "</table>\n",
       "</div>"
      ],
      "text/plain": [
       "                               reviewId       userName  \\\n",
       "0  5cd19a5f-b6b8-4298-87ea-d97116d7499c  A Google user   \n",
       "1  5579b219-854f-4b41-a360-16f7e7c48005  A Google user   \n",
       "2  391d871a-d162-421b-8188-65ba1dc3e16f  A Google user   \n",
       "3  789decfb-37ec-4f4b-bf93-ae372256568c  A Google user   \n",
       "4  bf0bd8ce-a5b6-419a-b452-ea0bc71e7bc2  A Google user   \n",
       "\n",
       "                                             content  score  thumbsUpCount  \\\n",
       "0                                         biased app      1              4   \n",
       "1                                 Women be trippin 🤷      1              0   \n",
       "2  \"the app designed to be deleted\" because it's ...      1              1   \n",
       "3  Happy to take your money and no matter how you...      1              0   \n",
       "4    Dumpster fire. basically useless without paying      1              0   \n",
       "\n",
       "        Date  \n",
       "0 2024-11-23  \n",
       "1 2024-11-23  \n",
       "2 2024-11-23  \n",
       "3 2024-11-23  \n",
       "4 2024-11-23  "
      ]
     },
     "execution_count": 64,
     "metadata": {},
     "output_type": "execute_result"
    }
   ],
   "source": [
    "hinge_reviews.head()"
   ]
  },
  {
   "cell_type": "code",
   "execution_count": 65,
   "id": "0b9d4c6b",
   "metadata": {
    "scrolled": true
   },
   "outputs": [
    {
     "data": {
      "text/html": [
       "<div>\n",
       "<style scoped>\n",
       "    .dataframe tbody tr th:only-of-type {\n",
       "        vertical-align: middle;\n",
       "    }\n",
       "\n",
       "    .dataframe tbody tr th {\n",
       "        vertical-align: top;\n",
       "    }\n",
       "\n",
       "    .dataframe thead th {\n",
       "        text-align: right;\n",
       "    }\n",
       "</style>\n",
       "<table border=\"1\" class=\"dataframe\">\n",
       "  <thead>\n",
       "    <tr style=\"text-align: right;\">\n",
       "      <th></th>\n",
       "      <th>score</th>\n",
       "      <th>thumbsUpCount</th>\n",
       "    </tr>\n",
       "  </thead>\n",
       "  <tbody>\n",
       "    <tr>\n",
       "      <th>count</th>\n",
       "      <td>73418.000000</td>\n",
       "      <td>73418.000000</td>\n",
       "    </tr>\n",
       "    <tr>\n",
       "      <th>mean</th>\n",
       "      <td>2.813711</td>\n",
       "      <td>2.462067</td>\n",
       "    </tr>\n",
       "    <tr>\n",
       "      <th>std</th>\n",
       "      <td>1.706054</td>\n",
       "      <td>17.254089</td>\n",
       "    </tr>\n",
       "    <tr>\n",
       "      <th>min</th>\n",
       "      <td>1.000000</td>\n",
       "      <td>0.000000</td>\n",
       "    </tr>\n",
       "    <tr>\n",
       "      <th>25%</th>\n",
       "      <td>1.000000</td>\n",
       "      <td>0.000000</td>\n",
       "    </tr>\n",
       "    <tr>\n",
       "      <th>50%</th>\n",
       "      <td>3.000000</td>\n",
       "      <td>0.000000</td>\n",
       "    </tr>\n",
       "    <tr>\n",
       "      <th>75%</th>\n",
       "      <td>5.000000</td>\n",
       "      <td>1.000000</td>\n",
       "    </tr>\n",
       "    <tr>\n",
       "      <th>max</th>\n",
       "      <td>5.000000</td>\n",
       "      <td>1159.000000</td>\n",
       "    </tr>\n",
       "  </tbody>\n",
       "</table>\n",
       "</div>"
      ],
      "text/plain": [
       "              score  thumbsUpCount\n",
       "count  73418.000000   73418.000000\n",
       "mean       2.813711       2.462067\n",
       "std        1.706054      17.254089\n",
       "min        1.000000       0.000000\n",
       "25%        1.000000       0.000000\n",
       "50%        3.000000       0.000000\n",
       "75%        5.000000       1.000000\n",
       "max        5.000000    1159.000000"
      ]
     },
     "execution_count": 65,
     "metadata": {},
     "output_type": "execute_result"
    }
   ],
   "source": [
    "# We gaan alleen de numerieke nummers dtypes van de describe tabel zien. \n",
    "hinge_reviews.describe(include=[np.number])"
   ]
  },
  {
   "cell_type": "code",
   "execution_count": 66,
   "id": "945af8b5",
   "metadata": {},
   "outputs": [
    {
     "data": {
      "text/html": [
       "<div>\n",
       "<style scoped>\n",
       "    .dataframe tbody tr th:only-of-type {\n",
       "        vertical-align: middle;\n",
       "    }\n",
       "\n",
       "    .dataframe tbody tr th {\n",
       "        vertical-align: top;\n",
       "    }\n",
       "\n",
       "    .dataframe thead th {\n",
       "        text-align: right;\n",
       "    }\n",
       "</style>\n",
       "<table border=\"1\" class=\"dataframe\">\n",
       "  <thead>\n",
       "    <tr style=\"text-align: right;\">\n",
       "      <th></th>\n",
       "      <th>reviewId</th>\n",
       "      <th>userName</th>\n",
       "      <th>content</th>\n",
       "      <th>score</th>\n",
       "      <th>thumbsUpCount</th>\n",
       "      <th>Date</th>\n",
       "    </tr>\n",
       "  </thead>\n",
       "  <tbody>\n",
       "    <tr>\n",
       "      <th>73413</th>\n",
       "      <td>ef1a89dd-cad6-4c85-9af0-333eb500702f</td>\n",
       "      <td>A Google user</td>\n",
       "      <td>Useless - I'm in the UK and it tells me i'm ov...</td>\n",
       "      <td>2</td>\n",
       "      <td>5</td>\n",
       "      <td>2017-07-11</td>\n",
       "    </tr>\n",
       "    <tr>\n",
       "      <th>73414</th>\n",
       "      <td>edb91049-807f-41b3-a2f8-2b4e952089bd</td>\n",
       "      <td>A Google user</td>\n",
       "      <td>I can't get past the initial set up.  It won't...</td>\n",
       "      <td>1</td>\n",
       "      <td>11</td>\n",
       "      <td>2017-07-11</td>\n",
       "    </tr>\n",
       "    <tr>\n",
       "      <th>73415</th>\n",
       "      <td>98fdcb74-6fc9-4602-97b4-2a581972c850</td>\n",
       "      <td>A Google user</td>\n",
       "      <td>This is incredible! A quality dating app for A...</td>\n",
       "      <td>5</td>\n",
       "      <td>1</td>\n",
       "      <td>2017-07-11</td>\n",
       "    </tr>\n",
       "    <tr>\n",
       "      <th>73416</th>\n",
       "      <td>05c33419-30bd-49a3-937a-3ad3bdbdf6fe</td>\n",
       "      <td>A Google user</td>\n",
       "      <td>\"Over Water\" ... Can't choose location.</td>\n",
       "      <td>2</td>\n",
       "      <td>8</td>\n",
       "      <td>2017-07-11</td>\n",
       "    </tr>\n",
       "    <tr>\n",
       "      <th>73417</th>\n",
       "      <td>de67b68f-25db-4bb2-846a-bda37db1355d</td>\n",
       "      <td>A Google user</td>\n",
       "      <td>My entire town counts as \"over water\" and I ca...</td>\n",
       "      <td>2</td>\n",
       "      <td>15</td>\n",
       "      <td>2017-07-11</td>\n",
       "    </tr>\n",
       "  </tbody>\n",
       "</table>\n",
       "</div>"
      ],
      "text/plain": [
       "                                   reviewId       userName  \\\n",
       "73413  ef1a89dd-cad6-4c85-9af0-333eb500702f  A Google user   \n",
       "73414  edb91049-807f-41b3-a2f8-2b4e952089bd  A Google user   \n",
       "73415  98fdcb74-6fc9-4602-97b4-2a581972c850  A Google user   \n",
       "73416  05c33419-30bd-49a3-937a-3ad3bdbdf6fe  A Google user   \n",
       "73417  de67b68f-25db-4bb2-846a-bda37db1355d  A Google user   \n",
       "\n",
       "                                                 content  score  \\\n",
       "73413  Useless - I'm in the UK and it tells me i'm ov...      2   \n",
       "73414  I can't get past the initial set up.  It won't...      1   \n",
       "73415  This is incredible! A quality dating app for A...      5   \n",
       "73416            \"Over Water\" ... Can't choose location.      2   \n",
       "73417  My entire town counts as \"over water\" and I ca...      2   \n",
       "\n",
       "       thumbsUpCount       Date  \n",
       "73413              5 2017-07-11  \n",
       "73414             11 2017-07-11  \n",
       "73415              1 2017-07-11  \n",
       "73416              8 2017-07-11  \n",
       "73417             15 2017-07-11  "
      ]
     },
     "execution_count": 66,
     "metadata": {},
     "output_type": "execute_result"
    }
   ],
   "source": [
    "hinge_reviews.tail()"
   ]
  },
  {
   "cell_type": "markdown",
   "id": "8ac9e873",
   "metadata": {},
   "source": [
    "# 🧼Cleaning Hinge Reviews"
   ]
  },
  {
   "cell_type": "markdown",
   "id": "d3e74b40",
   "metadata": {},
   "source": [
    "In deze stap zullen we de null warden vervangen en duplicates verwijderen. "
   ]
  },
  {
   "cell_type": "code",
   "execution_count": 67,
   "id": "0016b532",
   "metadata": {},
   "outputs": [
    {
     "name": "stdout",
     "output_type": "stream",
     "text": [
      "reviewId         0\n",
      "userName         0\n",
      "content          7\n",
      "score            0\n",
      "thumbsUpCount    0\n",
      "Date             0\n",
      "dtype: int64\n"
     ]
    }
   ],
   "source": [
    "# Check non-null values for each column\n",
    "print(hinge_reviews.isnull().sum())"
   ]
  },
  {
   "cell_type": "code",
   "execution_count": 68,
   "id": "1bf1b04f",
   "metadata": {},
   "outputs": [],
   "source": [
    "# Handle null values in 'content'\n",
    "hinge_reviews = hinge_reviews.dropna(subset=['content'])"
   ]
  },
  {
   "cell_type": "code",
   "execution_count": 69,
   "id": "17506071",
   "metadata": {},
   "outputs": [
    {
     "name": "stdout",
     "output_type": "stream",
     "text": [
      "reviewId         0\n",
      "userName         0\n",
      "content          0\n",
      "score            0\n",
      "thumbsUpCount    0\n",
      "Date             0\n",
      "dtype: int64\n"
     ]
    }
   ],
   "source": [
    "# Verify if null values are replaced\n",
    "print(hinge_reviews.isnull().sum())"
   ]
  },
  {
   "cell_type": "code",
   "execution_count": 70,
   "id": "e65ca671",
   "metadata": {
    "scrolled": false
   },
   "outputs": [
    {
     "name": "stdout",
     "output_type": "stream",
     "text": [
      "0\n"
     ]
    }
   ],
   "source": [
    "# Controleer op duplicaten\n",
    "print(hinge_reviews.duplicated().sum())# Controleer op duplicaten"
   ]
  },
  {
   "cell_type": "markdown",
   "id": "67142b2e",
   "metadata": {},
   "source": [
    "# Visualisaties Hinge Reviews"
   ]
  },
  {
   "cell_type": "markdown",
   "id": "f6cce8d5",
   "metadata": {},
   "source": [
    "# 1. Verdeling van Scores"
   ]
  },
  {
   "cell_type": "code",
   "execution_count": 107,
   "id": "20c3e93f",
   "metadata": {
    "scrolled": true
   },
   "outputs": [
    {
     "data": {
      "image/png": "[encoded data removed]",
      "text/plain": [
       "<Figure size 800x600 with 1 Axes>"
      ]
     },
     "metadata": {},
     "output_type": "display_data"
    }
   ],
   "source": [
    "# Histogram for the 'score' column om de distrubutie van scores\n",
    "plt.figure(figsize=(8, 6))\n",
    "plt.hist(hinge_reviews['score'], bins=5,color= 'black', edgecolor='black', alpha=0.7)\n",
    "plt.title('Distribution of Scores')\n",
    "plt.xlabel('Score')\n",
    "plt.ylabel('Frequency')\n",
    "plt.show()"
   ]
  },
  {
   "cell_type": "markdown",
   "id": "9d71d686",
   "metadata": {},
   "source": [
    "De eerste visualisatie toont dat de scores sterk gepolariseerd zijn. De meeste gebruikers geven een score van 1 of 5, wat suggereert dat gebruikers ofwel erg ontevreden of juist erg tevreden zijn over hun ervaring. Dit wijst op een duidelijke verdeeldheid in de ervaringen van gebruikers, waarbij er weinig neutrale beoordelingen zijn."
   ]
  },
  {
   "cell_type": "markdown",
   "id": "da7641ec",
   "metadata": {},
   "source": [
    "# 2. Gemiddeld Aantal Duimen Omhoog per Score"
   ]
  },
  {
   "cell_type": "code",
   "execution_count": 109,
   "id": "7b31ee5d",
   "metadata": {
    "scrolled": false
   },
   "outputs": [
    {
     "data": {
      "image/png": "[encoded data removed]",
      "text/plain": [
       "<Figure size 800x600 with 1 Axes>"
      ]
     },
     "metadata": {},
     "output_type": "display_data"
    }
   ],
   "source": [
    "# Bar Chart for Average Thumbs Up Count per Score\n",
    "avg_thumbs_up = hinge_reviews.groupby('score')['thumbsUpCount'].mean()\n",
    "plt.figure(figsize=(8, 6))\n",
    "avg_thumbs_up.plot(kind='bar', color='orange')\n",
    "plt.title('Average Thumbs Up Count per Score')\n",
    "plt.xlabel('Score')\n",
    "plt.ylabel('Average Thumbs Up Count')\n",
    "plt.xticks(rotation=0)\n",
    "plt.show()"
   ]
  },
  {
   "cell_type": "markdown",
   "id": "7cf0a6c5",
   "metadata": {},
   "source": [
    "De tweede grafiek laat zien dat beoordelingen met lagere scores, zoals 1 en 2, gemiddeld meer thumbs-ups ontvangen. Dit betekent dat negatieve beoordelingen meer interactie of betrokkenheid genereren van andere gebruikers, waarschijnlijk omdat deze als nuttiger of herkenbaarder worden beschouwd."
   ]
  },
  {
   "cell_type": "markdown",
   "id": "80c5980d",
   "metadata": {},
   "source": [
    "# 3. Aantal Reviews in de Tijd"
   ]
  },
  {
   "cell_type": "code",
   "execution_count": 112,
   "id": "a43f4646",
   "metadata": {},
   "outputs": [
    {
     "data": {
      "image/png": "[encoded data removed]",
      "text/plain": [
       "<Figure size 1200x600 with 1 Axes>"
      ]
     },
     "metadata": {},
     "output_type": "display_data"
    }
   ],
   "source": [
    "# Reviews Over Time\n",
    "hinge_reviews['Date'] = pd.to_datetime(hinge_reviews['Date'])\n",
    "daily_reviews = hinge_reviews.groupby(hinge_reviews['Date'].dt.date).size()\n",
    "\n",
    "plt.figure(figsize=(12, 6))\n",
    "daily_reviews.plot(kind='line', color='purple')\n",
    "plt.title('Number of Reviews Over Time')\n",
    "plt.xlabel('Date')\n",
    "plt.ylabel('Number of Reviews')\n",
    "plt.grid(True)\n",
    "plt.show()"
   ]
  },
  {
   "cell_type": "markdown",
   "id": "320f0c82",
   "metadata": {},
   "source": [
    "De grafiek toont het aantal reviews over tijd, met een gestage groei tot eind 2019, gevolgd door significante pieken in 2020. Na deze pieken is er een duidelijke daling in het aantal reviews, dat vanaf 2021 op een lager niveau stabiliseert. De schommelingen in 2020 kunnen verband houden met gebeurtenissen zoals de COVID-19-pandemie, terwijl de daaropvolgende daling mogelijk wijst op verminderde gebruikersbetrokkenheid of marktverzadiging."
   ]
  },
  {
   "cell_type": "markdown",
   "id": "3d2465c3",
   "metadata": {},
   "source": [
    "# Conclusie"
   ]
  },
  {
   "cell_type": "markdown",
   "id": "c1066a01",
   "metadata": {},
   "source": [
    "Net als bij de andere twee ander datasets kunnen we concluderen dat ook deze dataset geschikt is voor verdere analyse. Na het uitvoeren van de EDA hebben we vastgesteld dat er geen ontbrekende waarden (NaN) zijn, de datastructuur goed is georganiseerd, en dat alle benodigde informatie aanwezig is om door te gaan met de sentimentanalyse en verder in te zoomen op de inhoud van de beoordelingen."
   ]
  },
  {
   "cell_type": "markdown",
   "id": "e6482719",
   "metadata": {},
   "source": [
    "Na de EDA & cleaning van elke datasets, zullen we met de volgende stap: Merging Datasets"
   ]
  },
  {
   "cell_type": "markdown",
   "id": "3bffae6c",
   "metadata": {},
   "source": [
    "# 🪜Stap 3: Merging Datasets"
   ]
  },
  {
   "cell_type": "markdown",
   "id": "d672aad6",
   "metadata": {},
   "source": [
    "In deze stap hebben we drie datasets gecombineerd door eerst een nieuwe kolom toe te voegen die de naam van de app aangeeft, zodat de herkomst van de gegevens duidelijk is. Vervolgens hebben we ervoor gezorgd dat de kolomnamen consistent zijn tussen de datasets. Daarna hebben we de datasets samengevoegd tot één uniforme dataset en deze weergegeven om te controleren of de samenvoeging correct is uitgevoerd."
   ]
  },
  {
   "cell_type": "code",
   "execution_count": 71,
   "id": "d9792dcc",
   "metadata": {},
   "outputs": [],
   "source": [
    "# Een nieuwe kolom toevoegen: 'App' in elke dataset\n",
    "tinder_reviews['App'] = 'Tinder'\n",
    "bumble_reviews['App'] = 'Bumble'\n",
    "hinge_reviews['App'] = 'Hinge'"
   ]
  },
  {
   "cell_type": "code",
   "execution_count": 72,
   "id": "9bab4e8e",
   "metadata": {},
   "outputs": [],
   "source": [
    "# Kolomnamen op één lijn brengen voor consistentie vóór het samenvoegen\n",
    "columns_to_keep = ['reviewId', 'userName', 'content', 'score', 'thumbsUpCount', 'Date', 'App']\n",
    "tinder_reviews = tinder_reviews[columns_to_keep]\n",
    "bumble_reviews = bumble_reviews[columns_to_keep]\n",
    "himge_reviews = hinge_reviews[columns_to_keep]"
   ]
  },
  {
   "cell_type": "code",
   "execution_count": 73,
   "id": "d2814d39",
   "metadata": {},
   "outputs": [],
   "source": [
    "# Alle datasets samenvoegen tot één verenigde review-dataset\n",
    "all_reviews_combined = pd.concat([tinder_reviews, bumble_reviews, hinge_reviews], ignore_index=True)"
   ]
  },
  {
   "cell_type": "code",
   "execution_count": 74,
   "id": "b85b57b9",
   "metadata": {
    "scrolled": false
   },
   "outputs": [
    {
     "data": {
      "text/html": [
       "<div>\n",
       "<style scoped>\n",
       "    .dataframe tbody tr th:only-of-type {\n",
       "        vertical-align: middle;\n",
       "    }\n",
       "\n",
       "    .dataframe tbody tr th {\n",
       "        vertical-align: top;\n",
       "    }\n",
       "\n",
       "    .dataframe thead th {\n",
       "        text-align: right;\n",
       "    }\n",
       "</style>\n",
       "<table border=\"1\" class=\"dataframe\">\n",
       "  <thead>\n",
       "    <tr style=\"text-align: right;\">\n",
       "      <th></th>\n",
       "      <th>reviewId</th>\n",
       "      <th>userName</th>\n",
       "      <th>content</th>\n",
       "      <th>score</th>\n",
       "      <th>thumbsUpCount</th>\n",
       "      <th>Date</th>\n",
       "      <th>App</th>\n",
       "    </tr>\n",
       "  </thead>\n",
       "  <tbody>\n",
       "    <tr>\n",
       "      <th>0</th>\n",
       "      <td>2ee284b2-8239-4434-b2e0-e3ed60a67896</td>\n",
       "      <td>A Google user</td>\n",
       "      <td>Was banned without any reason, didn't break an...</td>\n",
       "      <td>1</td>\n",
       "      <td>0</td>\n",
       "      <td>2024-11-21</td>\n",
       "      <td>Tinder</td>\n",
       "    </tr>\n",
       "    <tr>\n",
       "      <th>1</th>\n",
       "      <td>6682e590-eb30-4ded-84af-8f8243b56442</td>\n",
       "      <td>A Google user</td>\n",
       "      <td>no funciona! Sencillamente no funciona</td>\n",
       "      <td>1</td>\n",
       "      <td>0</td>\n",
       "      <td>2024-11-21</td>\n",
       "      <td>Tinder</td>\n",
       "    </tr>\n",
       "    <tr>\n",
       "      <th>2</th>\n",
       "      <td>e6f5db1f-6364-4ade-9e50-a089777af6e1</td>\n",
       "      <td>A Google user</td>\n",
       "      <td>thank you so much</td>\n",
       "      <td>5</td>\n",
       "      <td>0</td>\n",
       "      <td>2024-11-21</td>\n",
       "      <td>Tinder</td>\n",
       "    </tr>\n",
       "    <tr>\n",
       "      <th>3</th>\n",
       "      <td>2cd17dae-6488-4bbe-86db-a2e6e19da3af</td>\n",
       "      <td>A Google user</td>\n",
       "      <td>All fake profiles, mostly people, try to scam ...</td>\n",
       "      <td>5</td>\n",
       "      <td>0</td>\n",
       "      <td>2024-11-21</td>\n",
       "      <td>Tinder</td>\n",
       "    </tr>\n",
       "    <tr>\n",
       "      <th>4</th>\n",
       "      <td>9925c76e-0722-4890-8fa6-d62557fc4cfe</td>\n",
       "      <td>A Google user</td>\n",
       "      <td>Can't do anything before there is a match. Dis...</td>\n",
       "      <td>1</td>\n",
       "      <td>0</td>\n",
       "      <td>2024-11-21</td>\n",
       "      <td>Tinder</td>\n",
       "    </tr>\n",
       "    <tr>\n",
       "      <th>...</th>\n",
       "      <td>...</td>\n",
       "      <td>...</td>\n",
       "      <td>...</td>\n",
       "      <td>...</td>\n",
       "      <td>...</td>\n",
       "      <td>...</td>\n",
       "      <td>...</td>\n",
       "    </tr>\n",
       "    <tr>\n",
       "      <th>869356</th>\n",
       "      <td>ef1a89dd-cad6-4c85-9af0-333eb500702f</td>\n",
       "      <td>A Google user</td>\n",
       "      <td>Useless - I'm in the UK and it tells me i'm ov...</td>\n",
       "      <td>2</td>\n",
       "      <td>5</td>\n",
       "      <td>2017-07-11</td>\n",
       "      <td>Hinge</td>\n",
       "    </tr>\n",
       "    <tr>\n",
       "      <th>869357</th>\n",
       "      <td>edb91049-807f-41b3-a2f8-2b4e952089bd</td>\n",
       "      <td>A Google user</td>\n",
       "      <td>I can't get past the initial set up.  It won't...</td>\n",
       "      <td>1</td>\n",
       "      <td>11</td>\n",
       "      <td>2017-07-11</td>\n",
       "      <td>Hinge</td>\n",
       "    </tr>\n",
       "    <tr>\n",
       "      <th>869358</th>\n",
       "      <td>98fdcb74-6fc9-4602-97b4-2a581972c850</td>\n",
       "      <td>A Google user</td>\n",
       "      <td>This is incredible! A quality dating app for A...</td>\n",
       "      <td>5</td>\n",
       "      <td>1</td>\n",
       "      <td>2017-07-11</td>\n",
       "      <td>Hinge</td>\n",
       "    </tr>\n",
       "    <tr>\n",
       "      <th>869359</th>\n",
       "      <td>05c33419-30bd-49a3-937a-3ad3bdbdf6fe</td>\n",
       "      <td>A Google user</td>\n",
       "      <td>\"Over Water\" ... Can't choose location.</td>\n",
       "      <td>2</td>\n",
       "      <td>8</td>\n",
       "      <td>2017-07-11</td>\n",
       "      <td>Hinge</td>\n",
       "    </tr>\n",
       "    <tr>\n",
       "      <th>869360</th>\n",
       "      <td>de67b68f-25db-4bb2-846a-bda37db1355d</td>\n",
       "      <td>A Google user</td>\n",
       "      <td>My entire town counts as \"over water\" and I ca...</td>\n",
       "      <td>2</td>\n",
       "      <td>15</td>\n",
       "      <td>2017-07-11</td>\n",
       "      <td>Hinge</td>\n",
       "    </tr>\n",
       "  </tbody>\n",
       "</table>\n",
       "<p>869361 rows × 7 columns</p>\n",
       "</div>"
      ],
      "text/plain": [
       "                                    reviewId       userName  \\\n",
       "0       2ee284b2-8239-4434-b2e0-e3ed60a67896  A Google user   \n",
       "1       6682e590-eb30-4ded-84af-8f8243b56442  A Google user   \n",
       "2       e6f5db1f-6364-4ade-9e50-a089777af6e1  A Google user   \n",
       "3       2cd17dae-6488-4bbe-86db-a2e6e19da3af  A Google user   \n",
       "4       9925c76e-0722-4890-8fa6-d62557fc4cfe  A Google user   \n",
       "...                                      ...            ...   \n",
       "869356  ef1a89dd-cad6-4c85-9af0-333eb500702f  A Google user   \n",
       "869357  edb91049-807f-41b3-a2f8-2b4e952089bd  A Google user   \n",
       "869358  98fdcb74-6fc9-4602-97b4-2a581972c850  A Google user   \n",
       "869359  05c33419-30bd-49a3-937a-3ad3bdbdf6fe  A Google user   \n",
       "869360  de67b68f-25db-4bb2-846a-bda37db1355d  A Google user   \n",
       "\n",
       "                                                  content  score  \\\n",
       "0       Was banned without any reason, didn't break an...      1   \n",
       "1                  no funciona! Sencillamente no funciona      1   \n",
       "2                                       thank you so much      5   \n",
       "3       All fake profiles, mostly people, try to scam ...      5   \n",
       "4       Can't do anything before there is a match. Dis...      1   \n",
       "...                                                   ...    ...   \n",
       "869356  Useless - I'm in the UK and it tells me i'm ov...      2   \n",
       "869357  I can't get past the initial set up.  It won't...      1   \n",
       "869358  This is incredible! A quality dating app for A...      5   \n",
       "869359            \"Over Water\" ... Can't choose location.      2   \n",
       "869360  My entire town counts as \"over water\" and I ca...      2   \n",
       "\n",
       "        thumbsUpCount       Date     App  \n",
       "0                   0 2024-11-21  Tinder  \n",
       "1                   0 2024-11-21  Tinder  \n",
       "2                   0 2024-11-21  Tinder  \n",
       "3                   0 2024-11-21  Tinder  \n",
       "4                   0 2024-11-21  Tinder  \n",
       "...               ...        ...     ...  \n",
       "869356              5 2017-07-11   Hinge  \n",
       "869357             11 2017-07-11   Hinge  \n",
       "869358              1 2017-07-11   Hinge  \n",
       "869359              8 2017-07-11   Hinge  \n",
       "869360             15 2017-07-11   Hinge  \n",
       "\n",
       "[869361 rows x 7 columns]"
      ]
     },
     "metadata": {},
     "output_type": "display_data"
    }
   ],
   "source": [
    "# De DataFrame in een tabelweergave tonen\n",
    "display(all_reviews_combined)"
   ]
  },
  {
   "cell_type": "code",
   "execution_count": 75,
   "id": "fdfc9d2d",
   "metadata": {},
   "outputs": [],
   "source": [
    "all_reviews_combined.drop_duplicates(inplace=True)"
   ]
  },
  {
   "cell_type": "markdown",
   "id": "25be8ea7",
   "metadata": {},
   "source": [
    "We zien dat de datasets succesvol zijn samengevoegd. De volgende stap is het uitvoeren van een EDA (Exploratory Data Analysis). Voordat we hiermee beginnen, slaan we de nieuwe dataset op, zodat we de vervolgstappen zorgvuldig kunnen uitvoeren. Daarna gaan we verder met de data-analyse en werken we de sentimentanalyse verder uit in de volende notebook: 02- 💌NLP Sentiment Analysis Dating Apps Beoordelingen | 2017-2023 💌 -> Volledige Sentiment Analyse van alle Dating App Reviews"
   ]
  },
  {
   "cell_type": "code",
   "execution_count": 76,
   "id": "a233e603",
   "metadata": {
    "scrolled": true
   },
   "outputs": [
    {
     "name": "stdout",
     "output_type": "stream",
     "text": [
      "Merged dataset saved as 'all_reviews_combined.csv'\n"
     ]
    }
   ],
   "source": [
    "# Save the final merged dataset to a CSV file\n",
    "all_reviews_combined.to_csv(\"all_reviews_combined.csv\", index=False)\n",
    "print(\"Merged dataset saved as 'all_reviews_combined.csv'\")\n"
   ]
  },
  {
   "cell_type": "markdown",
   "id": "c65b5eaa",
   "metadata": {},
   "source": [
    "# Eindconclusie"
   ]
  },
  {
   "cell_type": "markdown",
   "id": "e1e93deb",
   "metadata": {},
   "source": [
    "De eindconclusie over het gehele proces van data cleaning, voorbereiding en merging is dat de dataset zorgvuldig is geanalyseerd en opgeschoond om ervoor te zorgen dat deze klaar is voor verdere sentimentanalyse. Tijdens dit proces hebben we datasets gecombineerd en gecontroleerd op ontbrekende waarden (NaN), onnauwkeurigheden en inconsistenties. De structuur van de gegevens is geoptimaliseerd en er is gezorgd voor uniformiteit in de datavelden.\n",
    "\n",
    "De laatste dataset blijkt de meest waardevolle te zijn, omdat deze geen ontbrekende waarden bevat, een goede datastructuur heeft en alle noodzakelijke informatie biedt voor diepgaande analyses. Bovendien weerspiegelt deze dataset de diversiteit en het sentiment van gebruikers beter dan eerdere datasets, waardoor deze niet alleen vollediger is, maar ook representatiever voor het onderwerp. Dit maakt de dataset de ideale keuze voor verdere sentimentanalyse en het beantwoorden van de onderzoeksvragen."
   ]
  },
  {
   "cell_type": "markdown",
   "id": "23bde207",
   "metadata": {},
   "source": [
    "# 📃Bronnen"
   ]
  },
  {
   "cell_type": "markdown",
   "id": "0b8e0d61",
   "metadata": {},
   "source": [
    "How to use Pandas for Data Cleaning and Preprocessing : https://www.freecodecamp.org/news/data-cleaning-and-preprocessing-with-pandasbdvhj/?utm_source=chatgpt.com\n",
    "\n",
    "A Beginner's Guide to Data Cleaning in Phyton: https://www.datacamp.com/tutorial/guide-to-data-cleaning-in-python?utm_source=chatgpt.com\n",
    "\n",
    "Step- by- Step EDA using Phyton: https://www.analyticsvidhya.com/blog/2022/07/step-by-step-exploratory-data-analysis-eda-using-python/?utm_source=chatgpt.com\n",
    "\n",
    "The Importance of Data Cleaning: https://hex.tech/blog/data-cleaning-exploratory-data-analysis/?utm_source=chatgpt.com\n",
    "\n",
    "Mastering Exploratory Data Analysis (EDA) For Dat Science Enthusiastics: https://www.analyticsvidhya.com/blog/2021/04/mastering-exploratory-data-analysiseda-for-data-science-enthusiasts/?utm_source=chatgpt.com\n",
    "\n",
    "Exploratory Data Analysis: Techniques and Tools: https://datamites.com/blog/exploratory-data-analysis-techniques-and-tools/?utm_source=chatgpt.com\n"
   ]
  }
 ],
 "metadata": {
  "kernelspec": {
   "display_name": "Python 3 (ipykernel)",
   "language": "python",
   "name": "python3"
  },
  "language_info": {
   "codemirror_mode": {
    "name": "ipython",
    "version": 3
   },
   "file_extension": ".py",
   "mimetype": "text/x-python",
   "name": "python",
   "nbconvert_exporter": "python",
   "pygments_lexer": "ipython3",
   "version": "3.11.5"
  }
 },
 "nbformat": 4,
 "nbformat_minor": 5
}
