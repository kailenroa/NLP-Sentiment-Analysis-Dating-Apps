{
 "cells": [
  {
   "cell_type": "markdown",
   "id": "4d9564c2",
   "metadata": {},
   "source": [
    "# 💌NLP Sentiment Analysis Dating Apps Beoordelingen | 2017-2023 💌"
   ]
  },
  {
   "cell_type": "markdown",
   "id": "9ae86800",
   "metadata": {},
   "source": [
    "# Inleiding"
   ]
  },
  {
   "cell_type": "markdown",
   "id": "10089c04",
   "metadata": {},
   "source": [
    "Het hoofddoel van dit project is het analyseren van beoordelingen van dating-apps uit de Google Play Store in verschillende landen (India en de VS), beide grote markten met een breed netwerk van gebruikers van dating-apps. Door deze datasets samen te voegen, zal ik een NLP-sentimentanalyse uitvoeren om de verschillende gedragingen en algemene gevoelens van gebruikers op verschillende datingplatforms te onderzoeken.\n",
    "\n",
    "De analyse richt zich op het beantwoorden van drie hoofdvragen:\n",
    "\n",
    "- Wat zijn de gebruikelijke gedragingen en gevoelens die mensen hebben bij het gebruik van verschillende dating-apps (Tinder, Bumble, Hinge)?\n",
    "- Welke dating-app is het meest geschikt voor daten, relaties of beste functionaliteiten?\n",
    "- Wat is het algemene gevoel van gebruikers (in algemeen) over het gebruik van dating-apps?\n",
    "\n",
    "Aan het einde van deze notebook zal een samenvatting staan van de inzichten uit de sentimentanalyse. De verschillende datasets die ik voor deze analyse heb gebruikt, zijn:\n"
   ]
  },
  {
   "cell_type": "markdown",
   "id": "d1b2acf2",
   "metadata": {},
   "source": [
    "- Dating Apps Reviews India 2017-2022 (dating_review): https://www.kaggle.com/datasets/sidharthkriplani/datingappreviews/data\n",
    "- Dating Apps Reviews US 2023 (dating_review2): https://figshare.com/articles/dataset/Text_of_user_reviews_of_dating_apps/21895827"
   ]
  },
  {
   "cell_type": "markdown",
   "id": "697163cf",
   "metadata": {},
   "source": [
    "# 📦Packages laden"
   ]
  },
  {
   "cell_type": "markdown",
   "id": "1d36ccc4",
   "metadata": {},
   "source": [
    "In dit deel van de code worden alle benodigde bibliotheken en pakketten geïmporteerd om een NLP-sentimentanalyse op dating-app beoordelingen uit te voeren. Hier is een overzicht van de belangrijkste geïmporteerde pakketten:\n",
    "- NLTK: Natural Language Toolkit, gebruikt voor tekstverwerkingstaken zoals tokenisatie, stemming, en lemmatizatie.\n",
    "- FuzzyWuzzy en RapidFuzz: Voor fuzzy matching, wat handig is voor het vergelijken van teksten die niet exact overeenkomen.\n",
    "- Multiprocessing: Om processen te versnellen door parallelle verwerking mogelijk te maken"
   ]
  },
  {
   "cell_type": "code",
   "execution_count": 2,
   "id": "c7f29585",
   "metadata": {
    "scrolled": true
   },
   "outputs": [
    {
     "name": "stderr",
     "output_type": "stream",
     "text": [
      "[nltk_data] Downloading package punkt to\n",
      "[nltk_data]     C:\\Users\\kaile\\AppData\\Roaming\\nltk_data...\n",
      "[nltk_data]   Package punkt is already up-to-date!\n",
      "[nltk_data] Downloading package stopwords to\n",
      "[nltk_data]     C:\\Users\\kaile\\AppData\\Roaming\\nltk_data...\n",
      "[nltk_data]   Package stopwords is already up-to-date!\n",
      "[nltk_data] Downloading package wordnet to\n",
      "[nltk_data]     C:\\Users\\kaile\\AppData\\Roaming\\nltk_data...\n",
      "[nltk_data]   Package wordnet is already up-to-date!\n"
     ]
    }
   ],
   "source": [
    "#import libraries\n",
    "import pandas as pd\n",
    "import numpy as np\n",
    "import string\n",
    "from IPython.display import display\n",
    "import matplotlib.pyplot as plt\n",
    "from sklearn.metrics import classification_report\n",
    "import seaborn as sns\n",
    "%matplotlib inline\n",
    "import re\n",
    "from sklearn.naive_bayes import BernoulliNB\n",
    "from nltk.corpus import stopwords\n",
    "from nltk.stem import RSLPStemmer\n",
    "from nltk.tokenize import word_tokenize\n",
    "from nltk.stem import WordNetLemmatizer\n",
    "from sklearn.feature_extraction.text import CountVectorizer, TfidfVectorizer\n",
    "from sklearn.base import BaseEstimator, TransformerMixin\n",
    "from sklearn.pipeline import Pipeline\n",
    "import joblib\n",
    "from sklearn.model_selection import train_test_split,GridSearchCV\n",
    "from sklearn.linear_model import LogisticRegression\n",
    "from sklearn.naive_bayes import GaussianNB\n",
    "from multiprocessing import Pool, cpu_count\n",
    "from fuzzywuzzy import process\n",
    "from rapidfuzz import process\n",
    "# Download necessary NLTK data files\n",
    "import nltk\n",
    "nltk.download('punkt')\n",
    "nltk.download('stopwords')\n",
    "nltk.download('wordnet')\n",
    "import re \n",
    "from nltk.corpus import stopwords\n",
    "from nltk.tokenize import word_tokenize\n",
    "from nltk.stem import WordNetLemmatizer"
   ]
  },
  {
   "cell_type": "markdown",
   "id": "0e9b2a73",
   "metadata": {},
   "source": [
    "# 🔋Datasets Laden"
   ]
  },
  {
   "cell_type": "markdown",
   "id": "ed171973",
   "metadata": {},
   "source": [
    "In dit gedeelte van de code worden twee datasets met beoordelingen van dating-apps ingeladen. De datasets worden ingelezen met behulp van de pd.read_csv() functie van de pandas-bibliotheek, waarbij het pad naar het CSV-bestand wordt opgegeven. Het eerste bestand bevat gebruikersbeoordelingen van verschillende dating-apps uit de periode 2017-2023 uit India en het tweede bestand bevat gebruikersbeoordelingen van verschillende dating-apps uit de periode 2023 uit VS."
   ]
  },
  {
   "cell_type": "code",
   "execution_count": 3,
   "id": "08b5a7ce",
   "metadata": {
    "scrolled": true
   },
   "outputs": [
    {
     "data": {
      "text/html": [
       "<div>\n",
       "<style scoped>\n",
       "    .dataframe tbody tr th:only-of-type {\n",
       "        vertical-align: middle;\n",
       "    }\n",
       "\n",
       "    .dataframe tbody tr th {\n",
       "        vertical-align: top;\n",
       "    }\n",
       "\n",
       "    .dataframe thead th {\n",
       "        text-align: right;\n",
       "    }\n",
       "</style>\n",
       "<table border=\"1\" class=\"dataframe\">\n",
       "  <thead>\n",
       "    <tr style=\"text-align: right;\">\n",
       "      <th></th>\n",
       "      <th>Name</th>\n",
       "      <th>Review</th>\n",
       "      <th>Rating</th>\n",
       "      <th>#ThumbsUp</th>\n",
       "      <th>Date&amp;Time</th>\n",
       "      <th>App</th>\n",
       "    </tr>\n",
       "  </thead>\n",
       "  <tbody>\n",
       "    <tr>\n",
       "      <th>0</th>\n",
       "      <td>linah sibanda</td>\n",
       "      <td>On this app i cant find a partner</td>\n",
       "      <td>5</td>\n",
       "      <td>0</td>\n",
       "      <td>18-02-2022 01:19</td>\n",
       "      <td>Tinder</td>\n",
       "    </tr>\n",
       "    <tr>\n",
       "      <th>1</th>\n",
       "      <td>Norman Johnson</td>\n",
       "      <td>Tinder would be so much better if we could spe...</td>\n",
       "      <td>3</td>\n",
       "      <td>0</td>\n",
       "      <td>18-02-2022 01:16</td>\n",
       "      <td>Tinder</td>\n",
       "    </tr>\n",
       "    <tr>\n",
       "      <th>2</th>\n",
       "      <td>David Hume</td>\n",
       "      <td>Still doesn't correctly notify matches or mess...</td>\n",
       "      <td>1</td>\n",
       "      <td>0</td>\n",
       "      <td>18-02-2022 01:11</td>\n",
       "      <td>Tinder</td>\n",
       "    </tr>\n",
       "    <tr>\n",
       "      <th>3</th>\n",
       "      <td>Last 1 Standing</td>\n",
       "      <td>Got banned because I updated my bio to say \"I ...</td>\n",
       "      <td>2</td>\n",
       "      <td>0</td>\n",
       "      <td>18-02-2022 01:11</td>\n",
       "      <td>Tinder</td>\n",
       "    </tr>\n",
       "    <tr>\n",
       "      <th>4</th>\n",
       "      <td>Arthur Magamedov</td>\n",
       "      <td>Love it!</td>\n",
       "      <td>5</td>\n",
       "      <td>0</td>\n",
       "      <td>18-02-2022 01:06</td>\n",
       "      <td>Tinder</td>\n",
       "    </tr>\n",
       "    <tr>\n",
       "      <th>...</th>\n",
       "      <td>...</td>\n",
       "      <td>...</td>\n",
       "      <td>...</td>\n",
       "      <td>...</td>\n",
       "      <td>...</td>\n",
       "      <td>...</td>\n",
       "    </tr>\n",
       "    <tr>\n",
       "      <th>52989</th>\n",
       "      <td>A Google user</td>\n",
       "      <td>Useless - I'm in the UK and it tells me i'm ov...</td>\n",
       "      <td>2</td>\n",
       "      <td>5</td>\n",
       "      <td>12-07-2017 01:44</td>\n",
       "      <td>Hinge</td>\n",
       "    </tr>\n",
       "    <tr>\n",
       "      <th>52990</th>\n",
       "      <td>Brian Shook</td>\n",
       "      <td>I can't get past the initial set up.  It won't...</td>\n",
       "      <td>1</td>\n",
       "      <td>11</td>\n",
       "      <td>12-07-2017 01:36</td>\n",
       "      <td>Hinge</td>\n",
       "    </tr>\n",
       "    <tr>\n",
       "      <th>52991</th>\n",
       "      <td>A Google user</td>\n",
       "      <td>This is incredible! A quality dating app for A...</td>\n",
       "      <td>5</td>\n",
       "      <td>1</td>\n",
       "      <td>12-07-2017 01:32</td>\n",
       "      <td>Hinge</td>\n",
       "    </tr>\n",
       "    <tr>\n",
       "      <th>52992</th>\n",
       "      <td>A Google user</td>\n",
       "      <td>\"Over Water\" ... Can't choose location.</td>\n",
       "      <td>2</td>\n",
       "      <td>8</td>\n",
       "      <td>12-07-2017 01:28</td>\n",
       "      <td>Hinge</td>\n",
       "    </tr>\n",
       "    <tr>\n",
       "      <th>52993</th>\n",
       "      <td>Dylan Fick</td>\n",
       "      <td>My entire town counts as \"over water\" and I ca...</td>\n",
       "      <td>2</td>\n",
       "      <td>15</td>\n",
       "      <td>12-07-2017 01:24</td>\n",
       "      <td>Hinge</td>\n",
       "    </tr>\n",
       "  </tbody>\n",
       "</table>\n",
       "<p>681994 rows × 6 columns</p>\n",
       "</div>"
      ],
      "text/plain": [
       "                   Name                                             Review  \\\n",
       "0         linah sibanda                  On this app i cant find a partner   \n",
       "1        Norman Johnson  Tinder would be so much better if we could spe...   \n",
       "2            David Hume  Still doesn't correctly notify matches or mess...   \n",
       "3       Last 1 Standing  Got banned because I updated my bio to say \"I ...   \n",
       "4      Arthur Magamedov                                           Love it!   \n",
       "...                 ...                                                ...   \n",
       "52989     A Google user  Useless - I'm in the UK and it tells me i'm ov...   \n",
       "52990       Brian Shook  I can't get past the initial set up.  It won't...   \n",
       "52991     A Google user  This is incredible! A quality dating app for A...   \n",
       "52992     A Google user            \"Over Water\" ... Can't choose location.   \n",
       "52993        Dylan Fick  My entire town counts as \"over water\" and I ca...   \n",
       "\n",
       "       Rating  #ThumbsUp         Date&Time     App  \n",
       "0           5          0  18-02-2022 01:19  Tinder  \n",
       "1           3          0  18-02-2022 01:16  Tinder  \n",
       "2           1          0  18-02-2022 01:11  Tinder  \n",
       "3           2          0  18-02-2022 01:11  Tinder  \n",
       "4           5          0  18-02-2022 01:06  Tinder  \n",
       "...       ...        ...               ...     ...  \n",
       "52989       2          5  12-07-2017 01:44   Hinge  \n",
       "52990       1         11  12-07-2017 01:36   Hinge  \n",
       "52991       5          1  12-07-2017 01:32   Hinge  \n",
       "52992       2          8  12-07-2017 01:28   Hinge  \n",
       "52993       2         15  12-07-2017 01:24   Hinge  \n",
       "\n",
       "[681994 rows x 6 columns]"
      ]
     },
     "execution_count": 3,
     "metadata": {},
     "output_type": "execute_result"
    }
   ],
   "source": [
    "#Dataset 'dating app reviews India 2017-2023' laden \n",
    "dating_review= pd.read_csv(\"C:\\\\Users\\\\kaile\\\\OneDrive\\\\Documents\\\\S4\\\\notebooks\\\\DatingAppReviewsDataset.csv\\\\DatingAppReviewsDataset.csv\",index_col=0)\n",
    "dating_review"
   ]
  },
  {
   "cell_type": "code",
   "execution_count": 4,
   "id": "b49c5135",
   "metadata": {
    "scrolled": false
   },
   "outputs": [
    {
     "data": {
      "text/html": [
       "<div>\n",
       "<style scoped>\n",
       "    .dataframe tbody tr th:only-of-type {\n",
       "        vertical-align: middle;\n",
       "    }\n",
       "\n",
       "    .dataframe tbody tr th {\n",
       "        vertical-align: top;\n",
       "    }\n",
       "\n",
       "    .dataframe thead th {\n",
       "        text-align: right;\n",
       "    }\n",
       "</style>\n",
       "<table border=\"1\" class=\"dataframe\">\n",
       "  <thead>\n",
       "    <tr style=\"text-align: right;\">\n",
       "      <th></th>\n",
       "      <th>Name</th>\n",
       "      <th>Review</th>\n",
       "      <th>Rating</th>\n",
       "      <th>#ThumbsUp</th>\n",
       "      <th>Date&amp;Time</th>\n",
       "      <th>App</th>\n",
       "    </tr>\n",
       "  </thead>\n",
       "  <tbody>\n",
       "    <tr>\n",
       "      <th>0</th>\n",
       "      <td>Tina Richardson</td>\n",
       "      <td>Matches can be misleading. I keep getting matc...</td>\n",
       "      <td>2.0</td>\n",
       "      <td>0.0</td>\n",
       "      <td>25-03-2023 22:24</td>\n",
       "      <td>Tinder</td>\n",
       "    </tr>\n",
       "    <tr>\n",
       "      <th>1</th>\n",
       "      <td>Rebekah Morales</td>\n",
       "      <td>This app is not working. Whenever i got notifi...</td>\n",
       "      <td>1.0</td>\n",
       "      <td>0.0</td>\n",
       "      <td>21-09-2023 02:07</td>\n",
       "      <td>Tinder</td>\n",
       "    </tr>\n",
       "    <tr>\n",
       "      <th>2</th>\n",
       "      <td>Adam Pierce</td>\n",
       "      <td>They want you to pay</td>\n",
       "      <td>1.0</td>\n",
       "      <td>0.0</td>\n",
       "      <td>04-05-2023 22:21</td>\n",
       "      <td>Tinder</td>\n",
       "    </tr>\n",
       "    <tr>\n",
       "      <th>3</th>\n",
       "      <td>Yvette Tran</td>\n",
       "      <td>BANNED ME FOR NO REASON AND I DIDN'T EVEN GET ...</td>\n",
       "      <td>1.0</td>\n",
       "      <td>0.0</td>\n",
       "      <td>21-04-2023 14:24</td>\n",
       "      <td>Tinder</td>\n",
       "    </tr>\n",
       "    <tr>\n",
       "      <th>4</th>\n",
       "      <td>Kyle Clark</td>\n",
       "      <td>Used to be good and easy to use... Every time ...</td>\n",
       "      <td>2.0</td>\n",
       "      <td>0.0</td>\n",
       "      <td>11-09-2023 20:40</td>\n",
       "      <td>Tinder</td>\n",
       "    </tr>\n",
       "    <tr>\n",
       "      <th>...</th>\n",
       "      <td>...</td>\n",
       "      <td>...</td>\n",
       "      <td>...</td>\n",
       "      <td>...</td>\n",
       "      <td>...</td>\n",
       "      <td>...</td>\n",
       "    </tr>\n",
       "    <tr>\n",
       "      <th>703174</th>\n",
       "      <td>Michael Garcia</td>\n",
       "      <td>Useless - I'm in the UK and it tells me i'm ov...</td>\n",
       "      <td>2.0</td>\n",
       "      <td>5.0</td>\n",
       "      <td>26-06-2023 11:27</td>\n",
       "      <td>Hinge</td>\n",
       "    </tr>\n",
       "    <tr>\n",
       "      <th>703175</th>\n",
       "      <td>Matthew Barnes</td>\n",
       "      <td>I can't get past the initial set up.  It won't...</td>\n",
       "      <td>1.0</td>\n",
       "      <td>11.0</td>\n",
       "      <td>03-01-2023 10:10</td>\n",
       "      <td>Hinge</td>\n",
       "    </tr>\n",
       "    <tr>\n",
       "      <th>703176</th>\n",
       "      <td>Mr. Paul Long</td>\n",
       "      <td>This is incredible! A quality dating app for A...</td>\n",
       "      <td>5.0</td>\n",
       "      <td>1.0</td>\n",
       "      <td>12-11-2023 21:20</td>\n",
       "      <td>Hinge</td>\n",
       "    </tr>\n",
       "    <tr>\n",
       "      <th>703177</th>\n",
       "      <td>David Gomez</td>\n",
       "      <td>\"Over Water\" ... Can't choose location.</td>\n",
       "      <td>2.0</td>\n",
       "      <td>8.0</td>\n",
       "      <td>29-10-2023 17:37</td>\n",
       "      <td>Hinge</td>\n",
       "    </tr>\n",
       "    <tr>\n",
       "      <th>703178</th>\n",
       "      <td>Richard Martinez</td>\n",
       "      <td>My entire town counts as \"over water\" and I ca...</td>\n",
       "      <td>2.0</td>\n",
       "      <td>15.0</td>\n",
       "      <td>30-05-2023 08:53</td>\n",
       "      <td>Hinge</td>\n",
       "    </tr>\n",
       "  </tbody>\n",
       "</table>\n",
       "<p>703179 rows × 6 columns</p>\n",
       "</div>"
      ],
      "text/plain": [
       "                    Name                                             Review  \\\n",
       "0        Tina Richardson  Matches can be misleading. I keep getting matc...   \n",
       "1        Rebekah Morales  This app is not working. Whenever i got notifi...   \n",
       "2            Adam Pierce                               They want you to pay   \n",
       "3            Yvette Tran  BANNED ME FOR NO REASON AND I DIDN'T EVEN GET ...   \n",
       "4             Kyle Clark  Used to be good and easy to use... Every time ...   \n",
       "...                  ...                                                ...   \n",
       "703174    Michael Garcia  Useless - I'm in the UK and it tells me i'm ov...   \n",
       "703175    Matthew Barnes  I can't get past the initial set up.  It won't...   \n",
       "703176     Mr. Paul Long  This is incredible! A quality dating app for A...   \n",
       "703177       David Gomez            \"Over Water\" ... Can't choose location.   \n",
       "703178  Richard Martinez  My entire town counts as \"over water\" and I ca...   \n",
       "\n",
       "        Rating  #ThumbsUp         Date&Time     App  \n",
       "0          2.0        0.0  25-03-2023 22:24  Tinder  \n",
       "1          1.0        0.0  21-09-2023 02:07  Tinder  \n",
       "2          1.0        0.0  04-05-2023 22:21  Tinder  \n",
       "3          1.0        0.0  21-04-2023 14:24  Tinder  \n",
       "4          2.0        0.0  11-09-2023 20:40  Tinder  \n",
       "...        ...        ...               ...     ...  \n",
       "703174     2.0        5.0  26-06-2023 11:27   Hinge  \n",
       "703175     1.0       11.0  03-01-2023 10:10   Hinge  \n",
       "703176     5.0        1.0  12-11-2023 21:20   Hinge  \n",
       "703177     2.0        8.0  29-10-2023 17:37   Hinge  \n",
       "703178     2.0       15.0  30-05-2023 08:53   Hinge  \n",
       "\n",
       "[703179 rows x 6 columns]"
      ]
     },
     "metadata": {},
     "output_type": "display_data"
    }
   ],
   "source": [
    "# Dataset 'dating app reviews US 2023' laden\n",
    "dating_review2 = pd.read_csv(\"C:\\\\Users\\\\kaile\\\\all_reviews_combined.csv\")\n",
    "display(dating_review2)"
   ]
  },
  {
   "cell_type": "markdown",
   "id": "48bf2a81",
   "metadata": {},
   "source": [
    "# 🧹Merging & Data- Cleaning Stappen"
   ]
  },
  {
   "cell_type": "markdown",
   "id": "0d1e9451",
   "metadata": {},
   "source": [
    "In de eerste codeblok worden de kolommen Rating en #ThumbsUp in beide datasets (dating_review en dating_review2) omgezet naar numerieke waarden van het type Int32. De pd.to_numeric functie wordt gebruikt met errors='coerce', wat ervoor zorgt dat niet-numerieke waarden worden omgezet naar NaN, gevolgd door conversie naar een integer type."
   ]
  },
  {
   "cell_type": "code",
   "execution_count": 5,
   "id": "0072c92b",
   "metadata": {},
   "outputs": [],
   "source": [
    "# Convert 'Rating' and '#ThumbsUp' columns to int64\n",
    "dating_review['Rating'] = pd.to_numeric(dating_review['Rating'], errors='coerce').astype('Int32')\n",
    "dating_review['#ThumbsUp'] = pd.to_numeric(dating_review['#ThumbsUp'], errors='coerce').astype('Int32')\n",
    "\n",
    "# Convert 'Rating' and '#ThumbsUp' columns to int64\n",
    "dating_review2['Rating'] = pd.to_numeric(dating_review2['Rating'], errors='coerce').astype('Int32')\n",
    "dating_review2['#ThumbsUp'] = pd.to_numeric(dating_review2['#ThumbsUp'], errors='coerce').astype('Int32')"
   ]
  },
  {
   "cell_type": "markdown",
   "id": "285646c1",
   "metadata": {},
   "source": [
    "In de volgende stap worden duplicaten verwijderd uit zowel de originele dataset (dating_review) als de tweede dataset (dating_review2). Dit voorkomt dat dezelfde beoordelingen meerdere keren in de gecombineerde dataset voorkomen."
   ]
  },
  {
   "cell_type": "code",
   "execution_count": 6,
   "id": "9587003c",
   "metadata": {
    "scrolled": true
   },
   "outputs": [],
   "source": [
    "# Remove duplicates from the original dating review dataset\n",
    "dating_review = dating_review.drop_duplicates()\n",
    "\n",
    "# Remove duplicates from the unified dating app reviews dataset\n",
    "dating_review2= dating_review2.drop_duplicates()"
   ]
  },
  {
   "cell_type": "markdown",
   "id": "fbb0fc11",
   "metadata": {},
   "source": [
    " Daarna als laatste stap worden de twee datasets (dating_review en dating_review2) verticaal samengevoegd met de pd.concat functie. Door ignore_index=True te gebruiken, wordt de index opnieuw gegenummerd in de samengevoegde dataset. Vervolgens wordt de samengevoegde dataset weergegeven met de display() functie."
   ]
  },
  {
   "cell_type": "code",
   "execution_count": 7,
   "id": "dd58f158",
   "metadata": {
    "scrolled": true
   },
   "outputs": [
    {
     "data": {
      "text/html": [
       "<div>\n",
       "<style scoped>\n",
       "    .dataframe tbody tr th:only-of-type {\n",
       "        vertical-align: middle;\n",
       "    }\n",
       "\n",
       "    .dataframe tbody tr th {\n",
       "        vertical-align: top;\n",
       "    }\n",
       "\n",
       "    .dataframe thead th {\n",
       "        text-align: right;\n",
       "    }\n",
       "</style>\n",
       "<table border=\"1\" class=\"dataframe\">\n",
       "  <thead>\n",
       "    <tr style=\"text-align: right;\">\n",
       "      <th></th>\n",
       "      <th>Name</th>\n",
       "      <th>Review</th>\n",
       "      <th>Rating</th>\n",
       "      <th>#ThumbsUp</th>\n",
       "      <th>Date&amp;Time</th>\n",
       "      <th>App</th>\n",
       "    </tr>\n",
       "  </thead>\n",
       "  <tbody>\n",
       "    <tr>\n",
       "      <th>0</th>\n",
       "      <td>linah sibanda</td>\n",
       "      <td>On this app i cant find a partner</td>\n",
       "      <td>5</td>\n",
       "      <td>0</td>\n",
       "      <td>18-02-2022 01:19</td>\n",
       "      <td>Tinder</td>\n",
       "    </tr>\n",
       "    <tr>\n",
       "      <th>1</th>\n",
       "      <td>Norman Johnson</td>\n",
       "      <td>Tinder would be so much better if we could spe...</td>\n",
       "      <td>3</td>\n",
       "      <td>0</td>\n",
       "      <td>18-02-2022 01:16</td>\n",
       "      <td>Tinder</td>\n",
       "    </tr>\n",
       "    <tr>\n",
       "      <th>2</th>\n",
       "      <td>David Hume</td>\n",
       "      <td>Still doesn't correctly notify matches or mess...</td>\n",
       "      <td>1</td>\n",
       "      <td>0</td>\n",
       "      <td>18-02-2022 01:11</td>\n",
       "      <td>Tinder</td>\n",
       "    </tr>\n",
       "    <tr>\n",
       "      <th>3</th>\n",
       "      <td>Last 1 Standing</td>\n",
       "      <td>Got banned because I updated my bio to say \"I ...</td>\n",
       "      <td>2</td>\n",
       "      <td>0</td>\n",
       "      <td>18-02-2022 01:11</td>\n",
       "      <td>Tinder</td>\n",
       "    </tr>\n",
       "    <tr>\n",
       "      <th>4</th>\n",
       "      <td>Arthur Magamedov</td>\n",
       "      <td>Love it!</td>\n",
       "      <td>5</td>\n",
       "      <td>0</td>\n",
       "      <td>18-02-2022 01:06</td>\n",
       "      <td>Tinder</td>\n",
       "    </tr>\n",
       "    <tr>\n",
       "      <th>...</th>\n",
       "      <td>...</td>\n",
       "      <td>...</td>\n",
       "      <td>...</td>\n",
       "      <td>...</td>\n",
       "      <td>...</td>\n",
       "      <td>...</td>\n",
       "    </tr>\n",
       "    <tr>\n",
       "      <th>1385168</th>\n",
       "      <td>Michael Garcia</td>\n",
       "      <td>Useless - I'm in the UK and it tells me i'm ov...</td>\n",
       "      <td>2</td>\n",
       "      <td>5</td>\n",
       "      <td>26-06-2023 11:27</td>\n",
       "      <td>Hinge</td>\n",
       "    </tr>\n",
       "    <tr>\n",
       "      <th>1385169</th>\n",
       "      <td>Matthew Barnes</td>\n",
       "      <td>I can't get past the initial set up.  It won't...</td>\n",
       "      <td>1</td>\n",
       "      <td>11</td>\n",
       "      <td>03-01-2023 10:10</td>\n",
       "      <td>Hinge</td>\n",
       "    </tr>\n",
       "    <tr>\n",
       "      <th>1385170</th>\n",
       "      <td>Mr. Paul Long</td>\n",
       "      <td>This is incredible! A quality dating app for A...</td>\n",
       "      <td>5</td>\n",
       "      <td>1</td>\n",
       "      <td>12-11-2023 21:20</td>\n",
       "      <td>Hinge</td>\n",
       "    </tr>\n",
       "    <tr>\n",
       "      <th>1385171</th>\n",
       "      <td>David Gomez</td>\n",
       "      <td>\"Over Water\" ... Can't choose location.</td>\n",
       "      <td>2</td>\n",
       "      <td>8</td>\n",
       "      <td>29-10-2023 17:37</td>\n",
       "      <td>Hinge</td>\n",
       "    </tr>\n",
       "    <tr>\n",
       "      <th>1385172</th>\n",
       "      <td>Richard Martinez</td>\n",
       "      <td>My entire town counts as \"over water\" and I ca...</td>\n",
       "      <td>2</td>\n",
       "      <td>15</td>\n",
       "      <td>30-05-2023 08:53</td>\n",
       "      <td>Hinge</td>\n",
       "    </tr>\n",
       "  </tbody>\n",
       "</table>\n",
       "<p>1385173 rows × 6 columns</p>\n",
       "</div>"
      ],
      "text/plain": [
       "                     Name                                             Review  \\\n",
       "0           linah sibanda                  On this app i cant find a partner   \n",
       "1          Norman Johnson  Tinder would be so much better if we could spe...   \n",
       "2              David Hume  Still doesn't correctly notify matches or mess...   \n",
       "3         Last 1 Standing  Got banned because I updated my bio to say \"I ...   \n",
       "4        Arthur Magamedov                                           Love it!   \n",
       "...                   ...                                                ...   \n",
       "1385168    Michael Garcia  Useless - I'm in the UK and it tells me i'm ov...   \n",
       "1385169    Matthew Barnes  I can't get past the initial set up.  It won't...   \n",
       "1385170     Mr. Paul Long  This is incredible! A quality dating app for A...   \n",
       "1385171       David Gomez            \"Over Water\" ... Can't choose location.   \n",
       "1385172  Richard Martinez  My entire town counts as \"over water\" and I ca...   \n",
       "\n",
       "         Rating  #ThumbsUp         Date&Time     App  \n",
       "0             5          0  18-02-2022 01:19  Tinder  \n",
       "1             3          0  18-02-2022 01:16  Tinder  \n",
       "2             1          0  18-02-2022 01:11  Tinder  \n",
       "3             2          0  18-02-2022 01:11  Tinder  \n",
       "4             5          0  18-02-2022 01:06  Tinder  \n",
       "...         ...        ...               ...     ...  \n",
       "1385168       2          5  26-06-2023 11:27   Hinge  \n",
       "1385169       1         11  03-01-2023 10:10   Hinge  \n",
       "1385170       5          1  12-11-2023 21:20   Hinge  \n",
       "1385171       2          8  29-10-2023 17:37   Hinge  \n",
       "1385172       2         15  30-05-2023 08:53   Hinge  \n",
       "\n",
       "[1385173 rows x 6 columns]"
      ]
     },
     "metadata": {},
     "output_type": "display_data"
    }
   ],
   "source": [
    "# Concatenate the datasets vertically\n",
    "merged_reviews = pd.concat([dating_review, dating_review2], ignore_index=True)\n",
    "\n",
    "# Display the merged dataset\n",
    "display(merged_reviews)\n"
   ]
  },
  {
   "cell_type": "markdown",
   "id": "6eed54e2",
   "metadata": {},
   "source": [
    "# 📃Data omschrijven"
   ]
  },
  {
   "cell_type": "markdown",
   "id": "2e3c990b",
   "metadata": {},
   "source": [
    "De data is afkomstig uit verschillende bronnen, voornamelijk de Google Play Store. Elke beoordeling is gekoppeld aan een specifieke dating-app waarmee de gebruiker interactie had, samen met een bijbehorende beoordeling en, indien beschikbaar, een ThumbsUp-score om aan te geven of anderen het commentaar nuttig vonden of ermee instemden. De dataset is gestructureerd met de volgende kolommen:\n",
    "\n",
    "- Name: De naam van de gebruiker die de review heeft geschreven.\n",
    "- Review: De tekst van de review die de gebruiker heeft achtergelaten.\n",
    "- Rating: De beoordeling gegeven door de gebruiker (waarschijnlijk op een schaal van 1-5).\n",
    "- #ThumbsUp: Aantal \"duimpjes omhoog\" of likes die de review heeft gekregen.\n",
    "- Date&Time: De datum en tijd waarop de review is geplaatst.\n",
    "- App: De specifieke dating-app die de gebruiker beoordeeld heeft (bijvoorbeeld Tinder of Hinge).\n",
    "\n",
    "Opmerking: Sommige gegevens zijn gegenereerd met behulp van de \"faker\"-functie in Python om synthetische data te maken voor de tweede dataset, met name voor de kolommen Name en Date&Time. Deze waarden zijn dus niet echt."
   ]
  },
  {
   "cell_type": "markdown",
   "id": "6a04072b",
   "metadata": {},
   "source": [
    "# 🧼Data opschonen & Exploratory Data Analysis (EDA)"
   ]
  },
  {
   "cell_type": "markdown",
   "id": "30eef443",
   "metadata": {},
   "source": [
    "Deze stap bevat het proces van data opschoning en verkennende data-analyse (EDA) van de merged_reviews dataset. Het doel is om een goed begrip van de dataset te krijgen en ervoor te zorgen dat de gegevens in het juiste formaat en zonder missende waarden zijn voordat verdere analyse wordt uitgevoerd."
   ]
  },
  {
   "cell_type": "code",
   "execution_count": 8,
   "id": "8ac61802",
   "metadata": {},
   "outputs": [
    {
     "data": {
      "text/html": [
       "<div>\n",
       "<style scoped>\n",
       "    .dataframe tbody tr th:only-of-type {\n",
       "        vertical-align: middle;\n",
       "    }\n",
       "\n",
       "    .dataframe tbody tr th {\n",
       "        vertical-align: top;\n",
       "    }\n",
       "\n",
       "    .dataframe thead th {\n",
       "        text-align: right;\n",
       "    }\n",
       "</style>\n",
       "<table border=\"1\" class=\"dataframe\">\n",
       "  <thead>\n",
       "    <tr style=\"text-align: right;\">\n",
       "      <th></th>\n",
       "      <th>Name</th>\n",
       "      <th>Review</th>\n",
       "      <th>Rating</th>\n",
       "      <th>#ThumbsUp</th>\n",
       "      <th>Date&amp;Time</th>\n",
       "      <th>App</th>\n",
       "    </tr>\n",
       "  </thead>\n",
       "  <tbody>\n",
       "    <tr>\n",
       "      <th>0</th>\n",
       "      <td>linah sibanda</td>\n",
       "      <td>On this app i cant find a partner</td>\n",
       "      <td>5</td>\n",
       "      <td>0</td>\n",
       "      <td>18-02-2022 01:19</td>\n",
       "      <td>Tinder</td>\n",
       "    </tr>\n",
       "    <tr>\n",
       "      <th>1</th>\n",
       "      <td>Norman Johnson</td>\n",
       "      <td>Tinder would be so much better if we could spe...</td>\n",
       "      <td>3</td>\n",
       "      <td>0</td>\n",
       "      <td>18-02-2022 01:16</td>\n",
       "      <td>Tinder</td>\n",
       "    </tr>\n",
       "    <tr>\n",
       "      <th>2</th>\n",
       "      <td>David Hume</td>\n",
       "      <td>Still doesn't correctly notify matches or mess...</td>\n",
       "      <td>1</td>\n",
       "      <td>0</td>\n",
       "      <td>18-02-2022 01:11</td>\n",
       "      <td>Tinder</td>\n",
       "    </tr>\n",
       "    <tr>\n",
       "      <th>3</th>\n",
       "      <td>Last 1 Standing</td>\n",
       "      <td>Got banned because I updated my bio to say \"I ...</td>\n",
       "      <td>2</td>\n",
       "      <td>0</td>\n",
       "      <td>18-02-2022 01:11</td>\n",
       "      <td>Tinder</td>\n",
       "    </tr>\n",
       "    <tr>\n",
       "      <th>4</th>\n",
       "      <td>Arthur Magamedov</td>\n",
       "      <td>Love it!</td>\n",
       "      <td>5</td>\n",
       "      <td>0</td>\n",
       "      <td>18-02-2022 01:06</td>\n",
       "      <td>Tinder</td>\n",
       "    </tr>\n",
       "  </tbody>\n",
       "</table>\n",
       "</div>"
      ],
      "text/plain": [
       "               Name                                             Review  \\\n",
       "0     linah sibanda                  On this app i cant find a partner   \n",
       "1    Norman Johnson  Tinder would be so much better if we could spe...   \n",
       "2        David Hume  Still doesn't correctly notify matches or mess...   \n",
       "3   Last 1 Standing  Got banned because I updated my bio to say \"I ...   \n",
       "4  Arthur Magamedov                                           Love it!   \n",
       "\n",
       "   Rating  #ThumbsUp         Date&Time     App  \n",
       "0       5          0  18-02-2022 01:19  Tinder  \n",
       "1       3          0  18-02-2022 01:16  Tinder  \n",
       "2       1          0  18-02-2022 01:11  Tinder  \n",
       "3       2          0  18-02-2022 01:11  Tinder  \n",
       "4       5          0  18-02-2022 01:06  Tinder  "
      ]
     },
     "execution_count": 8,
     "metadata": {},
     "output_type": "execute_result"
    }
   ],
   "source": [
    "#Dataset laden 10 eerste rijen \n",
    "merged_reviews.head()"
   ]
  },
  {
   "cell_type": "code",
   "execution_count": 9,
   "id": "767ac3c8",
   "metadata": {},
   "outputs": [
    {
     "data": {
      "text/html": [
       "<div>\n",
       "<style scoped>\n",
       "    .dataframe tbody tr th:only-of-type {\n",
       "        vertical-align: middle;\n",
       "    }\n",
       "\n",
       "    .dataframe tbody tr th {\n",
       "        vertical-align: top;\n",
       "    }\n",
       "\n",
       "    .dataframe thead th {\n",
       "        text-align: right;\n",
       "    }\n",
       "</style>\n",
       "<table border=\"1\" class=\"dataframe\">\n",
       "  <thead>\n",
       "    <tr style=\"text-align: right;\">\n",
       "      <th></th>\n",
       "      <th>Name</th>\n",
       "      <th>Review</th>\n",
       "      <th>Rating</th>\n",
       "      <th>#ThumbsUp</th>\n",
       "      <th>Date&amp;Time</th>\n",
       "      <th>App</th>\n",
       "    </tr>\n",
       "  </thead>\n",
       "  <tbody>\n",
       "    <tr>\n",
       "      <th>1385168</th>\n",
       "      <td>Michael Garcia</td>\n",
       "      <td>Useless - I'm in the UK and it tells me i'm ov...</td>\n",
       "      <td>2</td>\n",
       "      <td>5</td>\n",
       "      <td>26-06-2023 11:27</td>\n",
       "      <td>Hinge</td>\n",
       "    </tr>\n",
       "    <tr>\n",
       "      <th>1385169</th>\n",
       "      <td>Matthew Barnes</td>\n",
       "      <td>I can't get past the initial set up.  It won't...</td>\n",
       "      <td>1</td>\n",
       "      <td>11</td>\n",
       "      <td>03-01-2023 10:10</td>\n",
       "      <td>Hinge</td>\n",
       "    </tr>\n",
       "    <tr>\n",
       "      <th>1385170</th>\n",
       "      <td>Mr. Paul Long</td>\n",
       "      <td>This is incredible! A quality dating app for A...</td>\n",
       "      <td>5</td>\n",
       "      <td>1</td>\n",
       "      <td>12-11-2023 21:20</td>\n",
       "      <td>Hinge</td>\n",
       "    </tr>\n",
       "    <tr>\n",
       "      <th>1385171</th>\n",
       "      <td>David Gomez</td>\n",
       "      <td>\"Over Water\" ... Can't choose location.</td>\n",
       "      <td>2</td>\n",
       "      <td>8</td>\n",
       "      <td>29-10-2023 17:37</td>\n",
       "      <td>Hinge</td>\n",
       "    </tr>\n",
       "    <tr>\n",
       "      <th>1385172</th>\n",
       "      <td>Richard Martinez</td>\n",
       "      <td>My entire town counts as \"over water\" and I ca...</td>\n",
       "      <td>2</td>\n",
       "      <td>15</td>\n",
       "      <td>30-05-2023 08:53</td>\n",
       "      <td>Hinge</td>\n",
       "    </tr>\n",
       "  </tbody>\n",
       "</table>\n",
       "</div>"
      ],
      "text/plain": [
       "                     Name                                             Review  \\\n",
       "1385168    Michael Garcia  Useless - I'm in the UK and it tells me i'm ov...   \n",
       "1385169    Matthew Barnes  I can't get past the initial set up.  It won't...   \n",
       "1385170     Mr. Paul Long  This is incredible! A quality dating app for A...   \n",
       "1385171       David Gomez            \"Over Water\" ... Can't choose location.   \n",
       "1385172  Richard Martinez  My entire town counts as \"over water\" and I ca...   \n",
       "\n",
       "         Rating  #ThumbsUp         Date&Time    App  \n",
       "1385168       2          5  26-06-2023 11:27  Hinge  \n",
       "1385169       1         11  03-01-2023 10:10  Hinge  \n",
       "1385170       5          1  12-11-2023 21:20  Hinge  \n",
       "1385171       2          8  29-10-2023 17:37  Hinge  \n",
       "1385172       2         15  30-05-2023 08:53  Hinge  "
      ]
     },
     "execution_count": 9,
     "metadata": {},
     "output_type": "execute_result"
    }
   ],
   "source": [
    "# Dataset laden 10 laatste rijen \n",
    "merged_reviews.tail()"
   ]
  },
  {
   "cell_type": "code",
   "execution_count": 10,
   "id": "00cdea0a",
   "metadata": {
    "scrolled": true
   },
   "outputs": [
    {
     "name": "stdout",
     "output_type": "stream",
     "text": [
      "<class 'pandas.core.frame.DataFrame'>\n",
      "RangeIndex: 1385173 entries, 0 to 1385172\n",
      "Data columns (total 6 columns):\n",
      " #   Column     Non-Null Count    Dtype \n",
      "---  ------     --------------    ----- \n",
      " 0   Name       1385166 non-null  object\n",
      " 1   Review     1382364 non-null  object\n",
      " 2   Rating     1384679 non-null  Int32 \n",
      " 3   #ThumbsUp  1382910 non-null  Int32 \n",
      " 4   Date&Time  1385173 non-null  object\n",
      " 5   App        1385173 non-null  object\n",
      "dtypes: Int32(2), object(4)\n",
      "memory usage: 55.5+ MB\n",
      "shape of the dataset -->> (1385173, 6)\n"
     ]
    }
   ],
   "source": [
    "# Basisinformatie van de dataset weergeven, inclusief kolomtypes en aantal entries\n",
    "merged_reviews.info()\n",
    "# De vorm van de dataset (rijen, kolommen) weergeven om de dimensies beter te begrijpen\n",
    "print(\"shape of the dataset -->>\",np.shape(merged_reviews))"
   ]
  },
  {
   "cell_type": "code",
   "execution_count": 11,
   "id": "85ccb0d3",
   "metadata": {
    "scrolled": true
   },
   "outputs": [],
   "source": [
    "# Convert 'Date&Time' column to datetime64 format\n",
    "dating_review2['Date&Time'] = pd.to_datetime(dating_review2['Date&Time'], format='%d-%m-%Y %H:%M', errors='coerce')"
   ]
  },
  {
   "cell_type": "code",
   "execution_count": 12,
   "id": "daf37675",
   "metadata": {},
   "outputs": [],
   "source": [
    "#Convert 'text' column to string data type\n",
    "dating_review2['Review'] = dating_review2['Review'].astype(str)"
   ]
  },
  {
   "cell_type": "code",
   "execution_count": 13,
   "id": "78c5d8ff",
   "metadata": {},
   "outputs": [
    {
     "name": "stdout",
     "output_type": "stream",
     "text": [
      "<class 'pandas.core.frame.DataFrame'>\n",
      "RangeIndex: 703179 entries, 0 to 703178\n",
      "Data columns (total 6 columns):\n",
      " #   Column     Non-Null Count   Dtype         \n",
      "---  ------     --------------   -----         \n",
      " 0   Name       703179 non-null  object        \n",
      " 1   Review     703179 non-null  object        \n",
      " 2   Rating     702685 non-null  Int32         \n",
      " 3   #ThumbsUp  700916 non-null  Int32         \n",
      " 4   Date&Time  703179 non-null  datetime64[ns]\n",
      " 5   App        703179 non-null  object        \n",
      "dtypes: Int32(2), datetime64[ns](1), object(3)\n",
      "memory usage: 28.2+ MB\n"
     ]
    }
   ],
   "source": [
    "dating_review2.info()"
   ]
  },
  {
   "cell_type": "code",
   "execution_count": 14,
   "id": "0c526a87",
   "metadata": {},
   "outputs": [
    {
     "name": "stderr",
     "output_type": "stream",
     "text": [
      "C:\\Users\\kaile\\AppData\\Local\\Temp\\ipykernel_32100\\774892554.py:2: UserWarning: Parsing dates in %d-%m-%Y %H:%M format when dayfirst=False (the default) was specified. Pass `dayfirst=True` or specify a format to silence this warning.\n",
      "  merged_reviews[\"Date\"] = pd.to_datetime(merged_reviews['Date&Time']).dt.date\n"
     ]
    }
   ],
   "source": [
    "# Convert 'Data&Time' in twee kolommen (Date)\n",
    "merged_reviews[\"Date\"] = pd.to_datetime(merged_reviews['Date&Time']).dt.date"
   ]
  },
  {
   "cell_type": "code",
   "execution_count": 15,
   "id": "f4e0a3be",
   "metadata": {},
   "outputs": [
    {
     "name": "stderr",
     "output_type": "stream",
     "text": [
      "C:\\Users\\kaile\\AppData\\Local\\Temp\\ipykernel_32100\\1493835819.py:2: UserWarning: Parsing dates in %d-%m-%Y %H:%M format when dayfirst=False (the default) was specified. Pass `dayfirst=True` or specify a format to silence this warning.\n",
      "  merged_reviews[\"Time\"] = pd.to_datetime(merged_reviews['Date&Time']).dt.time\n"
     ]
    }
   ],
   "source": [
    "#Convert 'Data&Time' in twee kolommen (Time)\n",
    "merged_reviews[\"Time\"] = pd.to_datetime(merged_reviews['Date&Time']).dt.time"
   ]
  },
  {
   "cell_type": "code",
   "execution_count": 16,
   "id": "63d49e52",
   "metadata": {},
   "outputs": [],
   "source": [
    "# Drop kolom 'Date&Time' en creër twee kolommen voor Datum & Tijd\n",
    "merged_reviews= merged_reviews.drop(\"Date&Time\",axis=1)"
   ]
  },
  {
   "cell_type": "code",
   "execution_count": 17,
   "id": "82efe56f",
   "metadata": {
    "scrolled": true
   },
   "outputs": [
    {
     "name": "stdout",
     "output_type": "stream",
     "text": [
      "<class 'pandas.core.frame.DataFrame'>\n",
      "RangeIndex: 1385173 entries, 0 to 1385172\n",
      "Data columns (total 7 columns):\n",
      " #   Column     Non-Null Count    Dtype \n",
      "---  ------     --------------    ----- \n",
      " 0   Name       1385166 non-null  object\n",
      " 1   Review     1382364 non-null  object\n",
      " 2   Rating     1384679 non-null  Int32 \n",
      " 3   #ThumbsUp  1382910 non-null  Int32 \n",
      " 4   App        1385173 non-null  object\n",
      " 5   Date       1385173 non-null  object\n",
      " 6   Time       1385173 non-null  object\n",
      "dtypes: Int32(2), object(5)\n",
      "memory usage: 66.1+ MB\n"
     ]
    }
   ],
   "source": [
    "# Opnieuw informatie van de dataset weergeven om de dataconversie van 'Date&Time' te bevestigen\n",
    "merged_reviews.info()"
   ]
  },
  {
   "cell_type": "code",
   "execution_count": 18,
   "id": "63fef506",
   "metadata": {},
   "outputs": [
    {
     "data": {
      "text/html": [
       "<div>\n",
       "<style scoped>\n",
       "    .dataframe tbody tr th:only-of-type {\n",
       "        vertical-align: middle;\n",
       "    }\n",
       "\n",
       "    .dataframe tbody tr th {\n",
       "        vertical-align: top;\n",
       "    }\n",
       "\n",
       "    .dataframe thead th {\n",
       "        text-align: right;\n",
       "    }\n",
       "</style>\n",
       "<table border=\"1\" class=\"dataframe\">\n",
       "  <thead>\n",
       "    <tr style=\"text-align: right;\">\n",
       "      <th></th>\n",
       "      <th>Name</th>\n",
       "      <th>Review</th>\n",
       "      <th>Rating</th>\n",
       "      <th>#ThumbsUp</th>\n",
       "      <th>App</th>\n",
       "      <th>Date</th>\n",
       "      <th>Time</th>\n",
       "    </tr>\n",
       "  </thead>\n",
       "  <tbody>\n",
       "    <tr>\n",
       "      <th>0</th>\n",
       "      <td>linah sibanda</td>\n",
       "      <td>On this app i cant find a partner</td>\n",
       "      <td>5</td>\n",
       "      <td>0</td>\n",
       "      <td>Tinder</td>\n",
       "      <td>2022-02-18</td>\n",
       "      <td>01:19:00</td>\n",
       "    </tr>\n",
       "    <tr>\n",
       "      <th>1</th>\n",
       "      <td>Norman Johnson</td>\n",
       "      <td>Tinder would be so much better if we could spe...</td>\n",
       "      <td>3</td>\n",
       "      <td>0</td>\n",
       "      <td>Tinder</td>\n",
       "      <td>2022-02-18</td>\n",
       "      <td>01:16:00</td>\n",
       "    </tr>\n",
       "    <tr>\n",
       "      <th>2</th>\n",
       "      <td>David Hume</td>\n",
       "      <td>Still doesn't correctly notify matches or mess...</td>\n",
       "      <td>1</td>\n",
       "      <td>0</td>\n",
       "      <td>Tinder</td>\n",
       "      <td>2022-02-18</td>\n",
       "      <td>01:11:00</td>\n",
       "    </tr>\n",
       "    <tr>\n",
       "      <th>3</th>\n",
       "      <td>Last 1 Standing</td>\n",
       "      <td>Got banned because I updated my bio to say \"I ...</td>\n",
       "      <td>2</td>\n",
       "      <td>0</td>\n",
       "      <td>Tinder</td>\n",
       "      <td>2022-02-18</td>\n",
       "      <td>01:11:00</td>\n",
       "    </tr>\n",
       "    <tr>\n",
       "      <th>4</th>\n",
       "      <td>Arthur Magamedov</td>\n",
       "      <td>Love it!</td>\n",
       "      <td>5</td>\n",
       "      <td>0</td>\n",
       "      <td>Tinder</td>\n",
       "      <td>2022-02-18</td>\n",
       "      <td>01:06:00</td>\n",
       "    </tr>\n",
       "  </tbody>\n",
       "</table>\n",
       "</div>"
      ],
      "text/plain": [
       "               Name                                             Review  \\\n",
       "0     linah sibanda                  On this app i cant find a partner   \n",
       "1    Norman Johnson  Tinder would be so much better if we could spe...   \n",
       "2        David Hume  Still doesn't correctly notify matches or mess...   \n",
       "3   Last 1 Standing  Got banned because I updated my bio to say \"I ...   \n",
       "4  Arthur Magamedov                                           Love it!   \n",
       "\n",
       "   Rating  #ThumbsUp     App        Date      Time  \n",
       "0       5          0  Tinder  2022-02-18  01:19:00  \n",
       "1       3          0  Tinder  2022-02-18  01:16:00  \n",
       "2       1          0  Tinder  2022-02-18  01:11:00  \n",
       "3       2          0  Tinder  2022-02-18  01:11:00  \n",
       "4       5          0  Tinder  2022-02-18  01:06:00  "
      ]
     },
     "execution_count": 18,
     "metadata": {},
     "output_type": "execute_result"
    }
   ],
   "source": [
    "merged_reviews.head()"
   ]
  },
  {
   "cell_type": "code",
   "execution_count": 19,
   "id": "52039a7d",
   "metadata": {
    "scrolled": true
   },
   "outputs": [
    {
     "data": {
      "text/plain": [
       "Name            7\n",
       "Review       2809\n",
       "Rating        494\n",
       "#ThumbsUp    2263\n",
       "App             0\n",
       "Date            0\n",
       "Time            0\n",
       "dtype: int64"
      ]
     },
     "execution_count": 19,
     "metadata": {},
     "output_type": "execute_result"
    }
   ],
   "source": [
    "# Controleer op missende waarden in de dataset\n",
    "# Voor elke kolom wordt het aantal ontbrekende waarden berekend en weergegeven\n",
    "missing_values = merged_reviews.isnull().sum()\n",
    "missing_values"
   ]
  },
  {
   "cell_type": "code",
   "execution_count": 20,
   "id": "ddbff3a1",
   "metadata": {},
   "outputs": [],
   "source": [
    "# Verwijder rijen met ontbrekende waarden in de kolommen 'Name' en 'Review', we ontbreken alleen deze waarden omdat er geen\n",
    "# nuttige informatie geven. Wel de kolom #ThumbsUp omdat we kunnen zien als mensen hadden dezelfde ervaring of niet.\n",
    "# Door de parameter 'subset' te specificeren, worden alleen de missende waarden in deze kolommen verwijderd\n",
    "merged_reviews2 = merged_reviews.dropna(subset=['Name', 'Review'])"
   ]
  },
  {
   "cell_type": "code",
   "execution_count": 21,
   "id": "6aef235e",
   "metadata": {},
   "outputs": [
    {
     "data": {
      "text/plain": [
       "Name            0\n",
       "Review          0\n",
       "Rating        455\n",
       "#ThumbsUp    2224\n",
       "App             0\n",
       "Date            0\n",
       "Time            0\n",
       "dtype: int64"
      ]
     },
     "execution_count": 21,
     "metadata": {},
     "output_type": "execute_result"
    }
   ],
   "source": [
    "# Controleer opnieuw of er nog missende waarden zijn in deze kolommen\n",
    "merged_reviews_cleaned= merged_reviews2.isnull().sum()\n",
    "merged_reviews_cleaned "
   ]
  },
  {
   "cell_type": "code",
   "execution_count": 22,
   "id": "0e794d41",
   "metadata": {
    "scrolled": true
   },
   "outputs": [
    {
     "data": {
      "text/html": [
       "<div>\n",
       "<style scoped>\n",
       "    .dataframe tbody tr th:only-of-type {\n",
       "        vertical-align: middle;\n",
       "    }\n",
       "\n",
       "    .dataframe tbody tr th {\n",
       "        vertical-align: top;\n",
       "    }\n",
       "\n",
       "    .dataframe thead th {\n",
       "        text-align: right;\n",
       "    }\n",
       "</style>\n",
       "<table border=\"1\" class=\"dataframe\">\n",
       "  <thead>\n",
       "    <tr style=\"text-align: right;\">\n",
       "      <th></th>\n",
       "      <th>count</th>\n",
       "      <th>mean</th>\n",
       "      <th>std</th>\n",
       "      <th>min</th>\n",
       "      <th>25%</th>\n",
       "      <th>50%</th>\n",
       "      <th>75%</th>\n",
       "      <th>max</th>\n",
       "    </tr>\n",
       "  </thead>\n",
       "  <tbody>\n",
       "    <tr>\n",
       "      <th>Rating</th>\n",
       "      <td>1384679.0</td>\n",
       "      <td>2.983099</td>\n",
       "      <td>1.763827</td>\n",
       "      <td>0.0</td>\n",
       "      <td>1.0</td>\n",
       "      <td>3.0</td>\n",
       "      <td>5.0</td>\n",
       "      <td>236.0</td>\n",
       "    </tr>\n",
       "    <tr>\n",
       "      <th>#ThumbsUp</th>\n",
       "      <td>1382910.0</td>\n",
       "      <td>1.908992</td>\n",
       "      <td>25.136188</td>\n",
       "      <td>0.0</td>\n",
       "      <td>0.0</td>\n",
       "      <td>0.0</td>\n",
       "      <td>0.0</td>\n",
       "      <td>5507.0</td>\n",
       "    </tr>\n",
       "  </tbody>\n",
       "</table>\n",
       "</div>"
      ],
      "text/plain": [
       "               count      mean        std  min  25%  50%  75%     max\n",
       "Rating     1384679.0  2.983099   1.763827  0.0  1.0  3.0  5.0   236.0\n",
       "#ThumbsUp  1382910.0  1.908992  25.136188  0.0  0.0  0.0  0.0  5507.0"
      ]
     },
     "execution_count": 22,
     "metadata": {},
     "output_type": "execute_result"
    }
   ],
   "source": [
    "# Statistische samenvatting van de dataset verkrijgen\n",
    "# Beschrijft de statistieken zoals gemiddelde, minimum, maximum, en percentielen voor numerieke kolommen\n",
    "merged_reviews.describe().T"
   ]
  },
  {
   "cell_type": "markdown",
   "id": "9c6db7b1",
   "metadata": {},
   "source": [
    "# Step-by guide\n",
    "\n",
    "-Text Analysis -> filter words, text editing, remove special charcaters\n",
    "-Confusion Matrix \n",
    "-Cloud Words \n",
    "-Predictions -> Column w emotions\n",
    "-Classify Apps and predictions\n",
    "-Create a column for determine the status of the user"
   ]
  },
  {
   "cell_type": "markdown",
   "id": "35448956",
   "metadata": {},
   "source": [
    "# 💬Tekstanalyse"
   ]
  },
  {
   "cell_type": "code",
   "execution_count": 23,
   "id": "0910e3ea",
   "metadata": {
    "scrolled": true
   },
   "outputs": [
    {
     "name": "stdout",
     "output_type": "stream",
     "text": [
      "\n",
      "Sample Reviews:\n",
      "0                          On this app i cant find a partner\n",
      "1          Tinder would be so much better if we could spe...\n",
      "2          Still doesn't correctly notify matches or mess...\n",
      "3          Got banned because I updated my bio to say \"I ...\n",
      "4                                                   Love it!\n",
      "                                 ...                        \n",
      "1385168    Useless - I'm in the UK and it tells me i'm ov...\n",
      "1385169    I can't get past the initial set up.  It won't...\n",
      "1385170    This is incredible! A quality dating app for A...\n",
      "1385171              \"Over Water\" ... Can't choose location.\n",
      "1385172    My entire town counts as \"over water\" and I ca...\n",
      "Name: Review, Length: 1385173, dtype: object\n"
     ]
    }
   ],
   "source": [
    "#Step 1: Display the column where text is displayed in our case the 'Review'column\n",
    "# Display only the 'Review' column\n",
    "print(\"\\nSample Reviews:\")\n",
    "print(merged_reviews['Review']) "
   ]
  },
  {
   "cell_type": "code",
   "execution_count": 24,
   "id": "0259a464",
   "metadata": {},
   "outputs": [],
   "source": [
    "merged_reviews['Review'] = merged_reviews['Review'].astype(str)"
   ]
  },
  {
   "cell_type": "code",
   "execution_count": 25,
   "id": "aebd52f2",
   "metadata": {},
   "outputs": [],
   "source": [
    "# Step 1: Tokenize the text\n",
    "def tokenize_text(text):\n",
    "    if not isinstance(text, str):  # Handle non-string values\n",
    "        text = str(text)\n",
    "    return word_tokenize(text.lower())  # Convert to lowercase and tokenize"
   ]
  },
  {
   "cell_type": "code",
   "execution_count": 26,
   "id": "60832a23",
   "metadata": {},
   "outputs": [],
   "source": [
    "# Step 2: Remove stopwords\n",
    "def remove_stopwords(tokens):\n",
    "    stop_words = set(stopwords.words('english'))\n",
    "    return [token for token in tokens if token not in stop_words]"
   ]
  },
  {
   "cell_type": "code",
   "execution_count": 27,
   "id": "cb53e979",
   "metadata": {},
   "outputs": [],
   "source": [
    "# Step 3: Lemmatize tokens\n",
    "def lemmatize_tokens(tokens):\n",
    "    lemmatizer = WordNetLemmatizer()\n",
    "    return [lemmatizer.lemmatize(token) for token in tokens]"
   ]
  },
  {
   "cell_type": "code",
   "execution_count": 28,
   "id": "af9d2a73",
   "metadata": {},
   "outputs": [],
   "source": [
    "# Step 4: Combine tokens back into a string\n",
    "def combine_tokens(tokens):\n",
    "    return ' '.join(tokens)"
   ]
  },
  {
   "cell_type": "code",
   "execution_count": 29,
   "id": "66a962d9",
   "metadata": {},
   "outputs": [],
   "source": [
    "# 1. Tokenize\n",
    "merged_reviews['Tokens'] = merged_reviews['Review'].apply(tokenize_text)"
   ]
  },
  {
   "cell_type": "code",
   "execution_count": 30,
   "id": "7d5bab60",
   "metadata": {},
   "outputs": [],
   "source": [
    "# 2. Remove stopwords\n",
    "merged_reviews['Filtered_Tokens'] = merged_reviews['Tokens'].apply(remove_stopwords)"
   ]
  },
  {
   "cell_type": "code",
   "execution_count": 31,
   "id": "eb7af1d2",
   "metadata": {},
   "outputs": [],
   "source": [
    "# 3. Lemmatize\n",
    "merged_reviews['Lemmatized_Tokens'] = merged_reviews['Filtered_Tokens'].apply(lemmatize_tokens)"
   ]
  },
  {
   "cell_type": "code",
   "execution_count": 32,
   "id": "bcce454f",
   "metadata": {},
   "outputs": [],
   "source": [
    "# 4. Combine tokens back to a string\n",
    "merged_reviews['Processed_Review'] = merged_reviews['Lemmatized_Tokens'].apply(combine_tokens)"
   ]
  },
  {
   "cell_type": "code",
   "execution_count": 33,
   "id": "b984dc28",
   "metadata": {},
   "outputs": [],
   "source": [
    "# Drop intermediate columns if not needed\n",
    "merged_reviews = merged_reviews.drop(['Tokens', 'Filtered_Tokens', 'Lemmatized_Tokens'], axis=1)"
   ]
  },
  {
   "cell_type": "code",
   "execution_count": 34,
   "id": "5f28699f",
   "metadata": {},
   "outputs": [
    {
     "name": "stdout",
     "output_type": "stream",
     "text": [
      "                                              Review  \\\n",
      "0                  On this app i cant find a partner   \n",
      "1  Tinder would be so much better if we could spe...   \n",
      "2  Still doesn't correctly notify matches or mess...   \n",
      "3  Got banned because I updated my bio to say \"I ...   \n",
      "4                                           Love it!   \n",
      "\n",
      "                                    Processed_Review  \n",
      "0                              app cant find partner  \n",
      "1  tinder would much better could specify race lo...  \n",
      "2  still n't correctly notify match message . 's ...  \n",
      "3  got banned updated bio say `` feel like girl l...  \n",
      "4                                             love !  \n"
     ]
    }
   ],
   "source": [
    "# Display the resulting DataFrame\n",
    "print(merged_reviews[['Review', 'Processed_Review']].head())"
   ]
  }
 ],
 "metadata": {
  "kernelspec": {
   "display_name": "Python 3 (ipykernel)",
   "language": "python",
   "name": "python3"
  },
  "language_info": {
   "codemirror_mode": {
    "name": "ipython",
    "version": 3
   },
   "file_extension": ".py",
   "mimetype": "text/x-python",
   "name": "python",
   "nbconvert_exporter": "python",
   "pygments_lexer": "ipython3",
   "version": "3.11.5"
  }
 },
 "nbformat": 4,
 "nbformat_minor": 5
}
